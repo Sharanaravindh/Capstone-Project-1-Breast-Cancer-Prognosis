{
 "cells": [
  {
   "cell_type": "markdown",
   "id": "f3c931fb",
   "metadata": {},
   "source": [
    "# Data wrangling<a id='2_Data_wrangling'></a>"
   ]
  },
  {
   "cell_type": "markdown",
   "id": "c49f3d4c",
   "metadata": {},
   "source": [
    "##  Introduction<a id='2.2_Introduction'></a>"
   ]
  },
  {
   "cell_type": "raw",
   "id": "e50cd6f1",
   "metadata": {},
   "source": [
    "The dataset (breast_cancer_survival.csv) contains information on 334 patients, including their sex, age, four pertaining protein levels, tumor stage, histology, Estrogen receptor status, progesterone receptor status, HER2 receptor status, surgery type, date of surgery, date of last clinic visit, and patient status"
   ]
  },
  {
   "cell_type": "markdown",
   "id": "2b95edf4",
   "metadata": {},
   "source": [
    "## Imports <a id='2.3_Imports'></a>"
   ]
  },
  {
   "cell_type": "code",
   "execution_count": 5,
   "id": "6462d9fd",
   "metadata": {},
   "outputs": [
    {
     "ename": "ModuleNotFoundError",
     "evalue": "No module named 'library'",
     "output_type": "error",
     "traceback": [
      "\u001b[0;31m---------------------------------------------------------------------------\u001b[0m",
      "\u001b[0;31mModuleNotFoundError\u001b[0m                       Traceback (most recent call last)",
      "Input \u001b[0;32mIn [5]\u001b[0m, in \u001b[0;36m<cell line: 8>\u001b[0;34m()\u001b[0m\n\u001b[1;32m      6\u001b[0m \u001b[38;5;28;01mimport\u001b[39;00m \u001b[38;5;21;01mos\u001b[39;00m\n\u001b[1;32m      7\u001b[0m \u001b[38;5;28;01mfrom\u001b[39;00m \u001b[38;5;21;01mdatetime\u001b[39;00m \u001b[38;5;28;01mimport\u001b[39;00m datetime\n\u001b[0;32m----> 8\u001b[0m \u001b[38;5;28;01mfrom\u001b[39;00m \u001b[38;5;21;01mlibrary\u001b[39;00m\u001b[38;5;21;01m.\u001b[39;00m\u001b[38;5;21;01msb_utils\u001b[39;00m \u001b[38;5;28;01mimport\u001b[39;00m save_file\n\u001b[1;32m     11\u001b[0m df \u001b[38;5;241m=\u001b[39m pd\u001b[38;5;241m.\u001b[39mread_csv(\u001b[38;5;124m'\u001b[39m\u001b[38;5;124m../data/breast_cancer_survival.csv\u001b[39m\u001b[38;5;124m'\u001b[39m)\n",
      "\u001b[0;31mModuleNotFoundError\u001b[0m: No module named 'library'"
     ]
    }
   ],
   "source": [
    "#loading necessary python libraries and loading dataset as dataframe\n",
    "import pandas as pd\n",
    "import matplotlib.pyplot as plt\n",
    "import numpy as np\n",
    "import seaborn as sns\n",
    "import os\n",
    "from datetime import datetime\n",
    "from library.sb_utils import save_file\n",
    "\n",
    "\n",
    "df = pd.read_csv('../data/breast_cancer_survival.csv')"
   ]
  },
  {
   "cell_type": "markdown",
   "id": "0ed31b5f",
   "metadata": {},
   "source": [
    "## Data Definition<a id='2.5_Load_The_Ski_Resort_Data'></a>"
   ]
  },
  {
   "cell_type": "code",
   "execution_count": null,
   "id": "26e8910a",
   "metadata": {
    "scrolled": false
   },
   "outputs": [],
   "source": [
    "#the dataset has 334 entries \n",
    "df.info()\n",
    "df.head()"
   ]
  },
  {
   "cell_type": "code",
   "execution_count": null,
   "id": "842f6c15",
   "metadata": {
    "scrolled": true
   },
   "outputs": [],
   "source": [
    "df.columns\n",
    "#Protein columns are associated with the levels of four proteins closely related to breast cancer\n",
    "#Tumour_Stage refers to the stage of the cancer (String values)\n",
    "#Histology refers to the type of breast cancer\n",
    "#ER status refers to estrogen receptor status (String values)\n",
    "#PR Status refers to progesterone receptor status (String values)\n",
    "#HER 2 Status refers to HER2 receptor status (String Values)\n",
    "#Surgery_type refers to the procedure(string Values)\n",
    "#Date_of Surgery is the date of the procedure (String Values)\n",
    "#Date_of_last_visit is the patients last clinic visit date (Stringe Values)\n",
    "#Patient_Status is whether the inividual is currently alive or dead (String Values)"
   ]
  },
  {
   "cell_type": "code",
   "execution_count": null,
   "id": "7d8b834e",
   "metadata": {},
   "outputs": [],
   "source": [
    "#Number of unique values in each column\n",
    "df.nunique()"
   ]
  },
  {
   "cell_type": "code",
   "execution_count": null,
   "id": "e3017d92",
   "metadata": {},
   "outputs": [],
   "source": [
    "#Checking columns with descriptions of cancer type and surgery type for mistakes, typos\n",
    "Histology_unique_values = df['Histology'].unique()\n",
    "print(Histology_unique_values)\n",
    "Surgery_unique_values = df['Surgery_type'].unique()\n",
    "print(Surgery_unique_values)"
   ]
  },
  {
   "cell_type": "code",
   "execution_count": null,
   "id": "95218d08",
   "metadata": {
    "scrolled": false
   },
   "outputs": [],
   "source": [
    "#Summary Statistics for each of columns that contain integer values \n",
    "df.describe()"
   ]
  },
  {
   "cell_type": "raw",
   "id": "a408574d",
   "metadata": {},
   "source": [
    "After Completing the data defintion process some observations can be made:\n",
    "1) The tumour stage column contains roman numeral strings that need to be converted into categorical values (1,2,3,4)\n",
    "2)The unique values in each column do not have any typos or resemble mistakes or typos\n",
    "3) The column names represent clearly the definition of the values refered to.\n",
    "4)The date values are written as strings and need to be converted to date-time values \n",
    "5)Protein expression levels have statistical values that are below 0 "
   ]
  },
  {
   "cell_type": "markdown",
   "id": "e7ce8da5",
   "metadata": {},
   "source": [
    "## Data Cleaning<a id='2.5_Load_The_Ski_Resort_Data'></a>\n"
   ]
  },
  {
   "cell_type": "code",
   "execution_count": null,
   "id": "b92c405b",
   "metadata": {},
   "outputs": [],
   "source": [
    "#Converting date_of_surgery and date_of_last_visit to date-time value\n",
    "df['Date_of_Surgery'] = pd.to_datetime(df['Date_of_Surgery'])\n",
    "df['Date_of_Last_Visit'] = pd.to_datetime(df['Date_of_Last_Visit'])"
   ]
  },
  {
   "cell_type": "code",
   "execution_count": null,
   "id": "82d41e04",
   "metadata": {},
   "outputs": [],
   "source": [
    "#Converting Tumour_Stage roman numeral strings into integers\n",
    "df.loc[df['Tumour_Stage']=='I','Tumour_Stage'] = 1\n",
    "df.loc[df['Tumour_Stage']=='II','Tumour_Stage'] = 2\n",
    "df.loc[df['Tumour_Stage']=='III','Tumour_Stage'] = 3\n",
    "df.loc[df['Tumour_Stage']=='IV','Tumour_Stage'] = 4"
   ]
  },
  {
   "cell_type": "code",
   "execution_count": null,
   "id": "a2b16047",
   "metadata": {},
   "outputs": [],
   "source": [
    "#Converting Tumour_Stage values into a categorical variable \n",
    "df['Tumour_Stage'] = df['Tumour_Stage'].astype('category')\n",
    "df.head()\n",
    "df.info()"
   ]
  },
  {
   "cell_type": "code",
   "execution_count": null,
   "id": "a958c593",
   "metadata": {
    "scrolled": true
   },
   "outputs": [],
   "source": [
    "#Calculating percentage of missing values in each column\n",
    "missing = pd.concat([df.isnull().sum(), 100 * df.isnull().mean()], axis=1)\n",
    "missing.columns=['count','%']\n",
    "missing.sort_values(by='count')\n",
    "#Patient Status and date_of_last_visit have missing values\n",
    "#date_of_last_visit missing values can be attributed to patient passing away"
   ]
  },
  {
   "cell_type": "code",
   "execution_count": null,
   "id": "694237a8",
   "metadata": {},
   "outputs": [],
   "source": [
    "#plotting missing data using subplot and heatmap\n",
    "plt.subplots(figsize=(10,10))\n",
    "sns.heatmap(df.isnull(), cbar=True)\n",
    "plt.title('Missing Data from df')\n",
    "plt.show()"
   ]
  },
  {
   "cell_type": "raw",
   "id": "1bed2001",
   "metadata": {},
   "source": [
    "The suboplot indicates that in a lost of instances when Date_of_Last_Visit is missing, so is the Patient_Status. \n",
    "-It is hard to determine prognosis, if patient status and date of last visit is missing, so I will drop those columns from the dataset \n",
    "-Additionally, if patient status is dead, and the last clinic visit date for the patient is missing, it is safe to assume that last clinic visit date is surgery date. \n",
    "-There are no instances in which Patient_Status is the only entry missing "
   ]
  },
  {
   "cell_type": "code",
   "execution_count": null,
   "id": "fd270c92",
   "metadata": {},
   "outputs": [],
   "source": [
    "#Dropping rows with missing data in both Patient_Status and Last Visit\n",
    "df1 = df.dropna(subset=['Patient_Status','Date_of_Last_Visit'],how = 'all')"
   ]
  },
  {
   "cell_type": "code",
   "execution_count": null,
   "id": "84adff37",
   "metadata": {},
   "outputs": [],
   "source": [
    "df1.info()\n",
    "#the dropping process removed 14 rows from the dataframe \n",
    "#there are 4 instances of null values in Date_of_Last_Visit "
   ]
  },
  {
   "cell_type": "code",
   "execution_count": null,
   "id": "ba25db0e",
   "metadata": {},
   "outputs": [],
   "source": [
    "#Replacing null values in date of last visit with surgery date for the conditions in which patient status is dead\n",
    "condition = df1['Patient_Status'] == 'Dead'\n",
    "df1.loc[condition & df1['Date_of_Last_Visit'].isnull(), 'Date_of_Last_Visit'] = df1.loc[condition, 'Date_of_Surgery']"
   ]
  },
  {
   "cell_type": "code",
   "execution_count": null,
   "id": "09664cc7",
   "metadata": {
    "scrolled": true
   },
   "outputs": [],
   "source": [
    "df1.info()"
   ]
  },
  {
   "cell_type": "code",
   "execution_count": null,
   "id": "ab8d3202",
   "metadata": {},
   "outputs": [],
   "source": [
    "#Examining distributions of data and attempting to find outliers or uneven skewing\n",
    "df1.hist(figsize=(15, 10))\n",
    "plt.subplots_adjust(hspace=2.0);"
   ]
  },
  {
   "cell_type": "raw",
   "id": "5bbec2fd",
   "metadata": {},
   "source": [
    "The distributions of age, and protein levels look good without any extreme values skewing the data. The Date values are seem to have some outliers which will be examined in the upcoming steps."
   ]
  },
  {
   "cell_type": "code",
   "execution_count": null,
   "id": "baaa73a4",
   "metadata": {},
   "outputs": [],
   "source": [
    "#Finding the maximum years on the 2 date columns\n",
    "max_last_visit_year = df1['Date_of_Last_Visit'].dt.year.max()\n",
    "max_year_surgery = df1['Date_of_Surgery'].dt.year.max()\n",
    "print(max_last_visit_year,max_year_surgery)\n",
    "#There is a misentries on the date of last visit column showing a visit from 2026"
   ]
  },
  {
   "cell_type": "code",
   "execution_count": null,
   "id": "0061dde0",
   "metadata": {
    "scrolled": false
   },
   "outputs": [],
   "source": [
    "#Finding entries with date of last visit past current date \n",
    "above_2022_count = df1.loc[df1['Date_of_Last_Visit'].dt.year > 2022]\n",
    "above_2022_count"
   ]
  },
  {
   "cell_type": "raw",
   "id": "c9d802c0",
   "metadata": {},
   "source": [
    "two patients with date of last visit past current date, have passed away, indicating that some of these entries may have been mistyped or indicated a future clinic visit. For the individuals who are dead and alive, the date of surgery will become the date_of_last_visit."
   ]
  },
  {
   "cell_type": "code",
   "execution_count": null,
   "id": "ac4e7996",
   "metadata": {},
   "outputs": [],
   "source": [
    "#Replacing date of last visit (past 2022) with date of surgery\n",
    "max_year_condition = df['Date_of_Last_Visit'].dt.year > 2022\n",
    "df1.loc[max_year_condition, 'Date_of_Last_Visit'] = df1.loc[max_year_condition, 'Date_of_Surgery']"
   ]
  },
  {
   "cell_type": "code",
   "execution_count": null,
   "id": "3d67b5f5",
   "metadata": {},
   "outputs": [],
   "source": [
    "above_2023_count = df1.loc[df1['Date_of_Last_Visit'].dt.year > 2022]\n",
    "above_2023_count"
   ]
  },
  {
   "cell_type": "code",
   "execution_count": null,
   "id": "560d9e15",
   "metadata": {},
   "outputs": [],
   "source": [
    "df_cleaned = df1"
   ]
  },
  {
   "cell_type": "code",
   "execution_count": null,
   "id": "f933c8fd",
   "metadata": {},
   "outputs": [],
   "source": [
    "#Checking distributions again to see if outliers were removed \n",
    "df_cleaned.hist(figsize=(15, 10))\n",
    "plt.subplots_adjust(hspace=2.0);"
   ]
  },
  {
   "cell_type": "markdown",
   "id": "cc9e6f10",
   "metadata": {},
   "source": [
    "## Final inspection<a id='2.5_Load_The_Ski_Resort_Data'></a>\n"
   ]
  },
  {
   "cell_type": "code",
   "execution_count": null,
   "id": "4ce07696",
   "metadata": {},
   "outputs": [],
   "source": [
    "df_cleaned.info()"
   ]
  },
  {
   "cell_type": "code",
   "execution_count": null,
   "id": "f6313bdc",
   "metadata": {
    "scrolled": true
   },
   "outputs": [],
   "source": [
    "df_cleaned.shape"
   ]
  },
  {
   "cell_type": "code",
   "execution_count": null,
   "id": "67cc1eb0",
   "metadata": {},
   "outputs": [],
   "source": [
    "#saving file\n",
    "datapath = '../data'\n",
    "save_file(df_cleaned,'breast_cancer_cleaned.csv',datapath)"
   ]
  },
  {
   "cell_type": "code",
   "execution_count": null,
   "id": "4cf3201d",
   "metadata": {},
   "outputs": [],
   "source": []
  }
 ],
 "metadata": {
  "kernelspec": {
   "display_name": "Python 3 (ipykernel)",
   "language": "python",
   "name": "python3"
  },
  "language_info": {
   "codemirror_mode": {
    "name": "ipython",
    "version": 3
   },
   "file_extension": ".py",
   "mimetype": "text/x-python",
   "name": "python",
   "nbconvert_exporter": "python",
   "pygments_lexer": "ipython3",
   "version": "3.9.12"
  }
 },
 "nbformat": 4,
 "nbformat_minor": 5
}

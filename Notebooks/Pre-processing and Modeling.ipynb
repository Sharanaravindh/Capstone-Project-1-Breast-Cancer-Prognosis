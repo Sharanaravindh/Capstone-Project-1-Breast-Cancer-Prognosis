{
 "cells": [
  {
   "cell_type": "raw",
   "id": "1fe3fd56",
   "metadata": {},
   "source": [
    "In this stage of my project, i'm preparing my data to be put through various machine learning models. "
   ]
  },
  {
   "cell_type": "markdown",
   "id": "58ecccf5",
   "metadata": {},
   "source": [
    "### Imports"
   ]
  },
  {
   "cell_type": "code",
   "execution_count": 2,
   "id": "e57c4233",
   "metadata": {
    "collapsed": true
   },
   "outputs": [
    {
     "name": "stdout",
     "output_type": "stream",
     "text": [
      "Collecting pycaret\n",
      "  Using cached pycaret-3.2.0-py3-none-any.whl (484 kB)\n",
      "Requirement already satisfied: numpy<1.27,>=1.21 in /Users/sharanaravindh/anaconda3/lib/python3.10/site-packages (from pycaret) (1.23.5)\n",
      "Requirement already satisfied: markupsafe>=2.0.1 in /Users/sharanaravindh/anaconda3/lib/python3.10/site-packages (from pycaret) (2.1.1)\n",
      "Collecting scikit-plot>=0.3.7\n",
      "  Using cached scikit_plot-0.3.7-py3-none-any.whl (33 kB)\n",
      "Collecting importlib-metadata>=4.12.0\n",
      "  Using cached importlib_metadata-6.8.0-py3-none-any.whl (22 kB)\n",
      "Requirement already satisfied: cloudpickle in /Users/sharanaravindh/anaconda3/lib/python3.10/site-packages (from pycaret) (2.0.0)\n",
      "Requirement already satisfied: statsmodels>=0.12.1 in /Users/sharanaravindh/anaconda3/lib/python3.10/site-packages (from pycaret) (0.13.5)\n",
      "Requirement already satisfied: scikit-learn<1.3.0,>=1.0 in /Users/sharanaravindh/anaconda3/lib/python3.10/site-packages (from pycaret) (1.2.1)\n",
      "Collecting tbats>=1.1.3\n",
      "  Using cached tbats-1.1.3-py3-none-any.whl (44 kB)\n",
      "Collecting scipy~=1.10.1\n",
      "  Using cached scipy-1.10.1-cp310-cp310-macosx_12_0_arm64.whl (28.8 MB)\n",
      "Collecting joblib>=1.2.0\n",
      "  Using cached joblib-1.3.2-py3-none-any.whl (302 kB)\n",
      "Requirement already satisfied: imbalanced-learn>=0.8.1 in /Users/sharanaravindh/anaconda3/lib/python3.10/site-packages (from pycaret) (0.10.1)\n",
      "Collecting xxhash\n",
      "  Using cached xxhash-3.4.1-cp310-cp310-macosx_11_0_arm64.whl (30 kB)\n",
      "Collecting kaleido>=0.2.1\n",
      "  Using cached kaleido-0.2.1-py2.py3-none-macosx_11_0_arm64.whl (85.8 MB)\n",
      "Requirement already satisfied: pandas<2.0.0,>=1.3.0 in /Users/sharanaravindh/anaconda3/lib/python3.10/site-packages (from pycaret) (1.5.3)\n",
      "Collecting plotly-resampler>=0.8.3.1\n",
      "  Using cached plotly_resampler-0.9.1-py3-none-any.whl (73 kB)\n",
      "Collecting pyod>=1.0.8\n",
      "  Using cached pyod-1.1.1-py3-none-any.whl\n",
      "Collecting yellowbrick>=1.4\n",
      "  Using cached yellowbrick-1.5-py3-none-any.whl (282 kB)\n",
      "Collecting deprecation>=2.1.0\n",
      "  Using cached deprecation-2.1.0-py2.py3-none-any.whl (11 kB)\n",
      "Collecting category-encoders>=2.4.0\n",
      "  Using cached category_encoders-2.6.3-py2.py3-none-any.whl (81 kB)\n",
      "Requirement already satisfied: tqdm>=4.62.0 in /Users/sharanaravindh/anaconda3/lib/python3.10/site-packages (from pycaret) (4.64.1)\n",
      "Collecting sktime!=0.17.1,!=0.17.2,!=0.18.0,<0.22.0,>=0.16.1\n",
      "  Using cached sktime-0.21.1-py3-none-any.whl (17.1 MB)\n",
      "Requirement already satisfied: numba>=0.55.0 in /Users/sharanaravindh/anaconda3/lib/python3.10/site-packages (from pycaret) (0.56.4)\n",
      "Requirement already satisfied: plotly>=5.0.0 in /Users/sharanaravindh/anaconda3/lib/python3.10/site-packages (from pycaret) (5.9.0)\n",
      "Collecting schemdraw==0.15\n",
      "  Using cached schemdraw-0.15-py3-none-any.whl (106 kB)\n",
      "Requirement already satisfied: psutil>=5.9.0 in /Users/sharanaravindh/anaconda3/lib/python3.10/site-packages (from pycaret) (5.9.0)\n",
      "Collecting lightgbm>=3.0.0\n",
      "  Using cached lightgbm-4.1.0.tar.gz (1.7 MB)\n",
      "  Installing build dependencies ... \u001b[?25ldone\n",
      "\u001b[?25h  Getting requirements to build wheel ... \u001b[?25ldone\n",
      "\u001b[?25h  Installing backend dependencies ... \u001b[?25ldone\n",
      "\u001b[?25h  Preparing metadata (pyproject.toml) ... \u001b[?25ldone\n",
      "\u001b[?25hCollecting pmdarima!=1.8.1,<3.0.0,>=1.8.0\n",
      "  Using cached pmdarima-2.0.4-cp310-cp310-macosx_11_0_arm64.whl (628 kB)\n",
      "Requirement already satisfied: nbformat>=4.2.0 in /Users/sharanaravindh/anaconda3/lib/python3.10/site-packages (from pycaret) (5.7.0)\n",
      "Requirement already satisfied: requests>=2.27.1 in /Users/sharanaravindh/anaconda3/lib/python3.10/site-packages (from pycaret) (2.28.1)\n",
      "Requirement already satisfied: ipython>=5.5.0 in /Users/sharanaravindh/anaconda3/lib/python3.10/site-packages (from pycaret) (8.10.0)\n",
      "Collecting matplotlib<=3.6,>=3.3.0\n",
      "  Using cached matplotlib-3.6.0-cp310-cp310-macosx_11_0_arm64.whl (7.2 MB)\n",
      "Requirement already satisfied: jinja2>=1.2 in /Users/sharanaravindh/anaconda3/lib/python3.10/site-packages (from pycaret) (3.1.2)\n",
      "Requirement already satisfied: wurlitzer in /Users/sharanaravindh/anaconda3/lib/python3.10/site-packages (from pycaret) (3.0.2)\n",
      "Collecting ipywidgets>=7.6.5\n",
      "  Using cached ipywidgets-8.1.1-py3-none-any.whl (139 kB)\n",
      "Requirement already satisfied: patsy>=0.5.1 in /Users/sharanaravindh/anaconda3/lib/python3.10/site-packages (from category-encoders>=2.4.0->pycaret) (0.5.3)\n",
      "Requirement already satisfied: packaging in /Users/sharanaravindh/anaconda3/lib/python3.10/site-packages (from deprecation>=2.1.0->pycaret) (22.0)\n",
      "Requirement already satisfied: threadpoolctl>=2.0.0 in /Users/sharanaravindh/anaconda3/lib/python3.10/site-packages (from imbalanced-learn>=0.8.1->pycaret) (2.2.0)\n",
      "Requirement already satisfied: zipp>=0.5 in /Users/sharanaravindh/anaconda3/lib/python3.10/site-packages (from importlib-metadata>=4.12.0->pycaret) (3.11.0)\n",
      "Requirement already satisfied: prompt-toolkit<3.1.0,>=3.0.30 in /Users/sharanaravindh/anaconda3/lib/python3.10/site-packages (from ipython>=5.5.0->pycaret) (3.0.36)\n",
      "Requirement already satisfied: backcall in /Users/sharanaravindh/anaconda3/lib/python3.10/site-packages (from ipython>=5.5.0->pycaret) (0.2.0)\n",
      "Requirement already satisfied: stack-data in /Users/sharanaravindh/anaconda3/lib/python3.10/site-packages (from ipython>=5.5.0->pycaret) (0.2.0)\n",
      "Requirement already satisfied: pexpect>4.3 in /Users/sharanaravindh/anaconda3/lib/python3.10/site-packages (from ipython>=5.5.0->pycaret) (4.8.0)\n",
      "Requirement already satisfied: jedi>=0.16 in /Users/sharanaravindh/anaconda3/lib/python3.10/site-packages (from ipython>=5.5.0->pycaret) (0.18.1)\n",
      "Requirement already satisfied: traitlets>=5 in /Users/sharanaravindh/anaconda3/lib/python3.10/site-packages (from ipython>=5.5.0->pycaret) (5.7.1)\n",
      "Requirement already satisfied: pygments>=2.4.0 in /Users/sharanaravindh/anaconda3/lib/python3.10/site-packages (from ipython>=5.5.0->pycaret) (2.11.2)\n",
      "Requirement already satisfied: decorator in /Users/sharanaravindh/anaconda3/lib/python3.10/site-packages (from ipython>=5.5.0->pycaret) (5.1.1)\n",
      "Requirement already satisfied: pickleshare in /Users/sharanaravindh/anaconda3/lib/python3.10/site-packages (from ipython>=5.5.0->pycaret) (0.7.5)\n",
      "Requirement already satisfied: matplotlib-inline in /Users/sharanaravindh/anaconda3/lib/python3.10/site-packages (from ipython>=5.5.0->pycaret) (0.1.6)\n",
      "Requirement already satisfied: appnope in /Users/sharanaravindh/anaconda3/lib/python3.10/site-packages (from ipython>=5.5.0->pycaret) (0.1.2)\n",
      "Collecting widgetsnbextension~=4.0.9\n",
      "  Using cached widgetsnbextension-4.0.9-py3-none-any.whl (2.3 MB)\n",
      "Collecting comm>=0.1.3\n",
      "  Using cached comm-0.2.0-py3-none-any.whl (7.0 kB)\n",
      "Collecting jupyterlab-widgets~=3.0.9\n",
      "  Using cached jupyterlab_widgets-3.0.9-py3-none-any.whl (214 kB)\n",
      "Requirement already satisfied: fonttools>=4.22.0 in /Users/sharanaravindh/anaconda3/lib/python3.10/site-packages (from matplotlib<=3.6,>=3.3.0->pycaret) (4.25.0)\n",
      "Requirement already satisfied: contourpy>=1.0.1 in /Users/sharanaravindh/anaconda3/lib/python3.10/site-packages (from matplotlib<=3.6,>=3.3.0->pycaret) (1.0.5)\n",
      "Requirement already satisfied: kiwisolver>=1.0.1 in /Users/sharanaravindh/anaconda3/lib/python3.10/site-packages (from matplotlib<=3.6,>=3.3.0->pycaret) (1.4.4)\n",
      "Requirement already satisfied: python-dateutil>=2.7 in /Users/sharanaravindh/anaconda3/lib/python3.10/site-packages (from matplotlib<=3.6,>=3.3.0->pycaret) (2.8.2)\n",
      "Requirement already satisfied: pyparsing>=2.2.1 in /Users/sharanaravindh/anaconda3/lib/python3.10/site-packages (from matplotlib<=3.6,>=3.3.0->pycaret) (3.0.9)\n",
      "Requirement already satisfied: cycler>=0.10 in /Users/sharanaravindh/anaconda3/lib/python3.10/site-packages (from matplotlib<=3.6,>=3.3.0->pycaret) (0.11.0)\n",
      "Requirement already satisfied: pillow>=6.2.0 in /Users/sharanaravindh/anaconda3/lib/python3.10/site-packages (from matplotlib<=3.6,>=3.3.0->pycaret) (9.4.0)\n",
      "Requirement already satisfied: jsonschema>=2.6 in /Users/sharanaravindh/anaconda3/lib/python3.10/site-packages (from nbformat>=4.2.0->pycaret) (4.17.3)\n",
      "Requirement already satisfied: jupyter-core in /Users/sharanaravindh/anaconda3/lib/python3.10/site-packages (from nbformat>=4.2.0->pycaret) (5.2.0)\n",
      "Requirement already satisfied: fastjsonschema in /Users/sharanaravindh/anaconda3/lib/python3.10/site-packages (from nbformat>=4.2.0->pycaret) (2.16.2)\n",
      "Requirement already satisfied: llvmlite<0.40,>=0.39.0dev0 in /Users/sharanaravindh/anaconda3/lib/python3.10/site-packages (from numba>=0.55.0->pycaret) (0.39.1)\n",
      "Requirement already satisfied: setuptools in /Users/sharanaravindh/anaconda3/lib/python3.10/site-packages (from numba>=0.55.0->pycaret) (65.6.3)\n",
      "Requirement already satisfied: pytz>=2020.1 in /Users/sharanaravindh/anaconda3/lib/python3.10/site-packages (from pandas<2.0.0,>=1.3.0->pycaret) (2022.7)\n",
      "Requirement already satisfied: tenacity>=6.2.0 in /Users/sharanaravindh/anaconda3/lib/python3.10/site-packages (from plotly>=5.0.0->pycaret) (8.0.1)\n"
     ]
    },
    {
     "name": "stdout",
     "output_type": "stream",
     "text": [
      "Collecting orjson<4.0.0,>=3.8.0\n",
      "  Using cached orjson-3.9.10-cp310-cp310-macosx_10_15_x86_64.macosx_11_0_arm64.macosx_10_15_universal2.whl (242 kB)\n",
      "Collecting dash<3.0.0,>=2.11.0\n",
      "  Using cached dash-2.14.1-py3-none-any.whl (10.4 MB)\n",
      "Collecting tsdownsample==0.1.2\n",
      "  Using cached tsdownsample-0.1.2-cp310-cp310-macosx_11_0_arm64.whl (1.2 MB)\n",
      "Collecting trace-updater>=0.0.8\n",
      "  Using cached trace_updater-0.0.9.1-py3-none-any.whl (185 kB)\n",
      "Collecting Cython!=0.29.18,!=0.29.31,>=0.29\n",
      "  Using cached Cython-3.0.5-py2.py3-none-any.whl (1.2 MB)\n",
      "Requirement already satisfied: urllib3 in /Users/sharanaravindh/anaconda3/lib/python3.10/site-packages (from pmdarima!=1.8.1,<3.0.0,>=1.8.0->pycaret) (1.26.14)\n",
      "Requirement already satisfied: six in /Users/sharanaravindh/anaconda3/lib/python3.10/site-packages (from pyod>=1.0.8->pycaret) (1.16.0)\n",
      "Requirement already satisfied: charset-normalizer<3,>=2 in /Users/sharanaravindh/anaconda3/lib/python3.10/site-packages (from requests>=2.27.1->pycaret) (2.0.4)\n",
      "Requirement already satisfied: certifi>=2017.4.17 in /Users/sharanaravindh/anaconda3/lib/python3.10/site-packages (from requests>=2.27.1->pycaret) (2022.12.7)\n",
      "Requirement already satisfied: idna<4,>=2.5 in /Users/sharanaravindh/anaconda3/lib/python3.10/site-packages (from requests>=2.27.1->pycaret) (3.4)\n",
      "Collecting scikit-base<0.6.0\n",
      "  Using cached scikit_base-0.5.2-py3-none-any.whl (118 kB)\n",
      "Collecting deprecated>=1.2.13\n",
      "  Using cached Deprecated-1.2.14-py2.py3-none-any.whl (9.6 kB)\n",
      "Collecting dash-table==5.0.0\n",
      "  Using cached dash_table-5.0.0-py3-none-any.whl (3.9 kB)\n",
      "Collecting ansi2html\n",
      "  Using cached ansi2html-1.8.0-py3-none-any.whl (16 kB)\n",
      "Requirement already satisfied: typing-extensions>=4.1.1 in /Users/sharanaravindh/anaconda3/lib/python3.10/site-packages (from dash<3.0.0,>=2.11.0->plotly-resampler>=0.8.3.1->pycaret) (4.4.0)\n",
      "Collecting dash-html-components==2.0.0\n",
      "  Using cached dash_html_components-2.0.0-py3-none-any.whl (4.1 kB)\n",
      "Requirement already satisfied: Werkzeug<3.1 in /Users/sharanaravindh/anaconda3/lib/python3.10/site-packages (from dash<3.0.0,>=2.11.0->plotly-resampler>=0.8.3.1->pycaret) (2.2.2)\n",
      "Requirement already satisfied: nest-asyncio in /Users/sharanaravindh/anaconda3/lib/python3.10/site-packages (from dash<3.0.0,>=2.11.0->plotly-resampler>=0.8.3.1->pycaret) (1.5.6)\n",
      "Requirement already satisfied: Flask<3.1,>=1.0.4 in /Users/sharanaravindh/anaconda3/lib/python3.10/site-packages (from dash<3.0.0,>=2.11.0->plotly-resampler>=0.8.3.1->pycaret) (2.2.2)\n",
      "Collecting dash-core-components==2.0.0\n",
      "  Using cached dash_core_components-2.0.0-py3-none-any.whl (3.8 kB)\n",
      "Collecting retrying\n",
      "  Using cached retrying-1.3.4-py3-none-any.whl (11 kB)\n",
      "Requirement already satisfied: wrapt<2,>=1.10 in /Users/sharanaravindh/anaconda3/lib/python3.10/site-packages (from deprecated>=1.2.13->sktime!=0.17.1,!=0.17.2,!=0.18.0,<0.22.0,>=0.16.1->pycaret) (1.14.1)\n",
      "Requirement already satisfied: parso<0.9.0,>=0.8.0 in /Users/sharanaravindh/anaconda3/lib/python3.10/site-packages (from jedi>=0.16->ipython>=5.5.0->pycaret) (0.8.3)\n",
      "Requirement already satisfied: pyrsistent!=0.17.0,!=0.17.1,!=0.17.2,>=0.14.0 in /Users/sharanaravindh/anaconda3/lib/python3.10/site-packages (from jsonschema>=2.6->nbformat>=4.2.0->pycaret) (0.18.0)\n",
      "Requirement already satisfied: attrs>=17.4.0 in /Users/sharanaravindh/anaconda3/lib/python3.10/site-packages (from jsonschema>=2.6->nbformat>=4.2.0->pycaret) (22.1.0)\n",
      "Requirement already satisfied: ptyprocess>=0.5 in /Users/sharanaravindh/anaconda3/lib/python3.10/site-packages (from pexpect>4.3->ipython>=5.5.0->pycaret) (0.7.0)\n",
      "Requirement already satisfied: wcwidth in /Users/sharanaravindh/anaconda3/lib/python3.10/site-packages (from prompt-toolkit<3.1.0,>=3.0.30->ipython>=5.5.0->pycaret) (0.2.5)\n",
      "Requirement already satisfied: platformdirs>=2.5 in /Users/sharanaravindh/anaconda3/lib/python3.10/site-packages (from jupyter-core->nbformat>=4.2.0->pycaret) (2.5.2)\n",
      "Requirement already satisfied: pure-eval in /Users/sharanaravindh/anaconda3/lib/python3.10/site-packages (from stack-data->ipython>=5.5.0->pycaret) (0.2.2)\n",
      "Requirement already satisfied: executing in /Users/sharanaravindh/anaconda3/lib/python3.10/site-packages (from stack-data->ipython>=5.5.0->pycaret) (0.8.3)\n",
      "Requirement already satisfied: asttokens in /Users/sharanaravindh/anaconda3/lib/python3.10/site-packages (from stack-data->ipython>=5.5.0->pycaret) (2.0.5)\n",
      "Requirement already satisfied: itsdangerous>=2.0 in /Users/sharanaravindh/anaconda3/lib/python3.10/site-packages (from Flask<3.1,>=1.0.4->dash<3.0.0,>=2.11.0->plotly-resampler>=0.8.3.1->pycaret) (2.0.1)\n",
      "Requirement already satisfied: click>=8.0 in /Users/sharanaravindh/anaconda3/lib/python3.10/site-packages (from Flask<3.1,>=1.0.4->dash<3.0.0,>=2.11.0->plotly-resampler>=0.8.3.1->pycaret) (8.0.4)\n",
      "Building wheels for collected packages: lightgbm\n",
      "  Building wheel for lightgbm (pyproject.toml) ... \u001b[?25ldone\n",
      "\u001b[?25h  Created wheel for lightgbm: filename=lightgbm-4.1.0-py3-none-macosx_14_0_arm64.whl size=1318342 sha256=da0b4d4dc76ef2f097a17757fb6fb477d068e36cec0e03401f5ccd8afd365c18\n",
      "  Stored in directory: /Users/sharanaravindh/Library/Caches/pip/wheels/90/65/8f/f5898f9ad7e05b599f0607ad0cfac12a7df1c60acffcf816de\n",
      "Successfully built lightgbm\n",
      "Installing collected packages: trace-updater, kaleido, dash-table, dash-html-components, dash-core-components, xxhash, widgetsnbextension, tsdownsample, scipy, scikit-base, schemdraw, retrying, orjson, jupyterlab-widgets, joblib, importlib-metadata, deprecation, deprecated, Cython, comm, ansi2html, matplotlib, lightgbm, yellowbrick, sktime, scikit-plot, pyod, dash, pmdarima, plotly-resampler, ipywidgets, category-encoders, tbats, pycaret\n",
      "  Attempting uninstall: scipy\n",
      "    Found existing installation: scipy 1.11.2\n",
      "    Uninstalling scipy-1.11.2:\n",
      "      Successfully uninstalled scipy-1.11.2\n",
      "  Attempting uninstall: joblib\n",
      "    Found existing installation: joblib 1.1.1\n",
      "    Uninstalling joblib-1.1.1:\n",
      "      Successfully uninstalled joblib-1.1.1\n",
      "  Attempting uninstall: importlib-metadata\n",
      "    Found existing installation: importlib-metadata 4.11.3\n",
      "    Uninstalling importlib-metadata-4.11.3:\n",
      "      Successfully uninstalled importlib-metadata-4.11.3\n",
      "  Attempting uninstall: comm\n",
      "    Found existing installation: comm 0.1.2\n",
      "    Uninstalling comm-0.1.2:\n",
      "      Successfully uninstalled comm-0.1.2\n",
      "  Attempting uninstall: matplotlib\n",
      "    Found existing installation: matplotlib 3.7.0\n",
      "    Uninstalling matplotlib-3.7.0:\n",
      "      Successfully uninstalled matplotlib-3.7.0\n",
      "\u001b[31mERROR: pip's dependency resolver does not currently take into account all the packages that are installed. This behaviour is the source of the following dependency conflicts.\n",
      "gensim 4.3.0 requires FuzzyTM>=0.4.0, which is not installed.\u001b[0m\u001b[31m\n",
      "\u001b[0mSuccessfully installed Cython-3.0.5 ansi2html-1.8.0 category-encoders-2.6.3 comm-0.2.0 dash-2.14.1 dash-core-components-2.0.0 dash-html-components-2.0.0 dash-table-5.0.0 deprecated-1.2.14 deprecation-2.1.0 importlib-metadata-6.8.0 ipywidgets-8.1.1 joblib-1.3.2 jupyterlab-widgets-3.0.9 kaleido-0.2.1 lightgbm-4.1.0 matplotlib-3.6.0 orjson-3.9.10 plotly-resampler-0.9.1 pmdarima-2.0.4 pycaret-3.2.0 pyod-1.1.1 retrying-1.3.4 schemdraw-0.15 scikit-base-0.5.2 scikit-plot-0.3.7 scipy-1.10.1 sktime-0.21.1 tbats-1.1.3 trace-updater-0.0.9.1 tsdownsample-0.1.2 widgetsnbextension-4.0.9 xxhash-3.4.1 yellowbrick-1.5\n",
      "Note: you may need to restart the kernel to use updated packages.\n"
     ]
    }
   ],
   "source": [
    "pip install pycaret"
   ]
  },
  {
   "cell_type": "code",
   "execution_count": 20,
   "id": "3676a237",
   "metadata": {
    "collapsed": true
   },
   "outputs": [
    {
     "name": "stdout",
     "output_type": "stream",
     "text": [
      "Collecting mlflow\n",
      "  Downloading mlflow-2.8.0-py3-none-any.whl (19.0 MB)\n",
      "\u001b[2K     \u001b[90m━━━━━━━━━━━━━━━━━━━━━━━━━━━━━━━━━━━━━━━━\u001b[0m \u001b[32m19.0/19.0 MB\u001b[0m \u001b[31m8.7 MB/s\u001b[0m eta \u001b[36m0:00:00\u001b[0m00:01\u001b[0m00:01\u001b[0mm\n",
      "\u001b[?25hRequirement already satisfied: requests<3,>=2.17.3 in /Users/sharanaravindh/anaconda3/lib/python3.10/site-packages (from mlflow) (2.28.1)\n",
      "Requirement already satisfied: pandas<3 in /Users/sharanaravindh/anaconda3/lib/python3.10/site-packages (from mlflow) (1.5.3)\n",
      "Collecting gitpython<4,>=2.1.0\n",
      "  Downloading GitPython-3.1.40-py3-none-any.whl (190 kB)\n",
      "\u001b[2K     \u001b[90m━━━━━━━━━━━━━━━━━━━━━━━━━━━━━━━━━━━━━━━\u001b[0m \u001b[32m190.6/190.6 kB\u001b[0m \u001b[31m8.2 MB/s\u001b[0m eta \u001b[36m0:00:00\u001b[0m\n",
      "\u001b[?25hRequirement already satisfied: markdown<4,>=3.3 in /Users/sharanaravindh/anaconda3/lib/python3.10/site-packages (from mlflow) (3.4.1)\n",
      "Collecting databricks-cli<1,>=0.8.7\n",
      "  Downloading databricks_cli-0.18.0-py2.py3-none-any.whl (150 kB)\n",
      "\u001b[2K     \u001b[90m━━━━━━━━━━━━━━━━━━━━━━━━━━━━━━━━━━━━━━\u001b[0m \u001b[32m150.3/150.3 kB\u001b[0m \u001b[31m11.5 MB/s\u001b[0m eta \u001b[36m0:00:00\u001b[0m\n",
      "\u001b[?25hCollecting querystring-parser<2\n",
      "  Downloading querystring_parser-1.2.4-py2.py3-none-any.whl (7.9 kB)\n",
      "Requirement already satisfied: packaging<24 in /Users/sharanaravindh/anaconda3/lib/python3.10/site-packages (from mlflow) (22.0)\n",
      "Requirement already satisfied: Flask<4 in /Users/sharanaravindh/anaconda3/lib/python3.10/site-packages (from mlflow) (2.2.2)\n",
      "Requirement already satisfied: entrypoints<1 in /Users/sharanaravindh/anaconda3/lib/python3.10/site-packages (from mlflow) (0.4)\n",
      "Collecting gunicorn<22\n",
      "  Downloading gunicorn-21.2.0-py3-none-any.whl (80 kB)\n",
      "\u001b[2K     \u001b[90m━━━━━━━━━━━━━━━━━━━━━━━━━━━━━━━━━━━━━━━━\u001b[0m \u001b[32m80.2/80.2 kB\u001b[0m \u001b[31m6.2 MB/s\u001b[0m eta \u001b[36m0:00:00\u001b[0m\n",
      "\u001b[?25hRequirement already satisfied: Jinja2<4,>=2.11 in /Users/sharanaravindh/anaconda3/lib/python3.10/site-packages (from mlflow) (3.1.2)\n",
      "Requirement already satisfied: importlib-metadata!=4.7.0,<7,>=3.7.0 in /Users/sharanaravindh/anaconda3/lib/python3.10/site-packages (from mlflow) (6.8.0)\n",
      "Collecting docker<7,>=4.0.0\n",
      "  Downloading docker-6.1.3-py3-none-any.whl (148 kB)\n",
      "\u001b[2K     \u001b[90m━━━━━━━━━━━━━━━━━━━━━━━━━━━━━━━━━━━━━━━\u001b[0m \u001b[32m148.1/148.1 kB\u001b[0m \u001b[31m7.2 MB/s\u001b[0m eta \u001b[36m0:00:00\u001b[0m\n",
      "\u001b[?25hRequirement already satisfied: cloudpickle<3 in /Users/sharanaravindh/anaconda3/lib/python3.10/site-packages (from mlflow) (2.0.0)\n",
      "Requirement already satisfied: scipy<2 in /Users/sharanaravindh/anaconda3/lib/python3.10/site-packages (from mlflow) (1.10.1)\n",
      "Requirement already satisfied: matplotlib<4 in /Users/sharanaravindh/anaconda3/lib/python3.10/site-packages (from mlflow) (3.6.0)\n",
      "Collecting pyarrow<14,>=4.0.0\n",
      "  Downloading pyarrow-13.0.0-cp310-cp310-macosx_11_0_arm64.whl (23.7 MB)\n",
      "\u001b[2K     \u001b[90m━━━━━━━━━━━━━━━━━━━━━━━━━━━━━━━━━━━━━━━━\u001b[0m \u001b[32m23.7/23.7 MB\u001b[0m \u001b[31m11.1 MB/s\u001b[0m eta \u001b[36m0:00:00\u001b[0m00:01\u001b[0m00:01\u001b[0m\n",
      "\u001b[?25hRequirement already satisfied: click<9,>=7.0 in /Users/sharanaravindh/anaconda3/lib/python3.10/site-packages (from mlflow) (8.0.4)\n",
      "Requirement already satisfied: scikit-learn<2 in /Users/sharanaravindh/anaconda3/lib/python3.10/site-packages (from mlflow) (1.2.1)\n",
      "Collecting protobuf<5,>=3.12.0\n",
      "  Downloading protobuf-4.25.0-cp37-abi3-macosx_10_9_universal2.whl (393 kB)\n",
      "\u001b[2K     \u001b[90m━━━━━━━━━━━━━━━━━━━━━━━━━━━━━━━━━━━━━━━\u001b[0m \u001b[32m393.9/393.9 kB\u001b[0m \u001b[31m9.2 MB/s\u001b[0m eta \u001b[36m0:00:00\u001b[0ma \u001b[36m0:00:01\u001b[0m\n",
      "\u001b[?25hRequirement already satisfied: sqlalchemy<3,>=1.4.0 in /Users/sharanaravindh/anaconda3/lib/python3.10/site-packages (from mlflow) (1.4.39)\n",
      "Requirement already satisfied: psutil<6 in /Users/sharanaravindh/anaconda3/lib/python3.10/site-packages (from mlflow) (5.9.0)\n",
      "Collecting alembic!=1.10.0,<2\n",
      "  Downloading alembic-1.12.1-py3-none-any.whl (226 kB)\n",
      "\u001b[2K     \u001b[90m━━━━━━━━━━━━━━━━━━━━━━━━━━━━━━━━━━━━━━\u001b[0m \u001b[32m226.8/226.8 kB\u001b[0m \u001b[31m11.9 MB/s\u001b[0m eta \u001b[36m0:00:00\u001b[0m\n",
      "\u001b[?25hRequirement already satisfied: pyyaml<7,>=5.1 in /Users/sharanaravindh/anaconda3/lib/python3.10/site-packages (from mlflow) (6.0)\n",
      "Collecting sqlparse<1,>=0.4.0\n",
      "  Downloading sqlparse-0.4.4-py3-none-any.whl (41 kB)\n",
      "\u001b[2K     \u001b[90m━━━━━━━━━━━━━━━━━━━━━━━━━━━━━━━━━━━━━━━━\u001b[0m \u001b[32m41.2/41.2 kB\u001b[0m \u001b[31m5.2 MB/s\u001b[0m eta \u001b[36m0:00:00\u001b[0m\n",
      "\u001b[?25hRequirement already satisfied: numpy<2 in /Users/sharanaravindh/anaconda3/lib/python3.10/site-packages (from mlflow) (1.23.5)\n",
      "Requirement already satisfied: pytz<2024 in /Users/sharanaravindh/anaconda3/lib/python3.10/site-packages (from mlflow) (2022.7)\n",
      "Collecting Mako\n",
      "  Downloading Mako-1.3.0-py3-none-any.whl (78 kB)\n",
      "\u001b[2K     \u001b[90m━━━━━━━━━━━━━━━━━━━━━━━━━━━━━━━━━━━━━━━━\u001b[0m \u001b[32m78.6/78.6 kB\u001b[0m \u001b[31m7.3 MB/s\u001b[0m eta \u001b[36m0:00:00\u001b[0m\n",
      "\u001b[?25hRequirement already satisfied: typing-extensions>=4 in /Users/sharanaravindh/anaconda3/lib/python3.10/site-packages (from alembic!=1.10.0,<2->mlflow) (4.4.0)\n",
      "Requirement already satisfied: urllib3<3,>=1.26.7 in /Users/sharanaravindh/anaconda3/lib/python3.10/site-packages (from databricks-cli<1,>=0.8.7->mlflow) (1.26.14)\n",
      "Requirement already satisfied: pyjwt>=1.7.0 in /Users/sharanaravindh/anaconda3/lib/python3.10/site-packages (from databricks-cli<1,>=0.8.7->mlflow) (2.4.0)\n",
      "Requirement already satisfied: tabulate>=0.7.7 in /Users/sharanaravindh/anaconda3/lib/python3.10/site-packages (from databricks-cli<1,>=0.8.7->mlflow) (0.8.10)\n",
      "Collecting oauthlib>=3.1.0\n",
      "  Downloading oauthlib-3.2.2-py3-none-any.whl (151 kB)\n",
      "\u001b[2K     \u001b[90m━━━━━━━━━━━━━━━━━━━━━━━━━━━━━━━━━━━━━━\u001b[0m \u001b[32m151.7/151.7 kB\u001b[0m \u001b[31m10.8 MB/s\u001b[0m eta \u001b[36m0:00:00\u001b[0m\n",
      "\u001b[?25hRequirement already satisfied: six>=1.10.0 in /Users/sharanaravindh/anaconda3/lib/python3.10/site-packages (from databricks-cli<1,>=0.8.7->mlflow) (1.16.0)\n",
      "Requirement already satisfied: websocket-client>=0.32.0 in /Users/sharanaravindh/anaconda3/lib/python3.10/site-packages (from docker<7,>=4.0.0->mlflow) (0.58.0)\n",
      "Requirement already satisfied: itsdangerous>=2.0 in /Users/sharanaravindh/anaconda3/lib/python3.10/site-packages (from Flask<4->mlflow) (2.0.1)\n",
      "Requirement already satisfied: Werkzeug>=2.2.2 in /Users/sharanaravindh/anaconda3/lib/python3.10/site-packages (from Flask<4->mlflow) (2.2.2)\n",
      "Collecting gitdb<5,>=4.0.1\n",
      "  Downloading gitdb-4.0.11-py3-none-any.whl (62 kB)\n",
      "\u001b[2K     \u001b[90m━━━━━━━━━━━━━━━━━━━━━━━━━━━━━━━━━━━━━━━━\u001b[0m \u001b[32m62.7/62.7 kB\u001b[0m \u001b[31m5.2 MB/s\u001b[0m eta \u001b[36m0:00:00\u001b[0m\n",
      "\u001b[?25hRequirement already satisfied: zipp>=0.5 in /Users/sharanaravindh/anaconda3/lib/python3.10/site-packages (from importlib-metadata!=4.7.0,<7,>=3.7.0->mlflow) (3.11.0)\n",
      "Requirement already satisfied: MarkupSafe>=2.0 in /Users/sharanaravindh/anaconda3/lib/python3.10/site-packages (from Jinja2<4,>=2.11->mlflow) (2.1.1)\n",
      "Requirement already satisfied: fonttools>=4.22.0 in /Users/sharanaravindh/anaconda3/lib/python3.10/site-packages (from matplotlib<4->mlflow) (4.25.0)\n",
      "Requirement already satisfied: pillow>=6.2.0 in /Users/sharanaravindh/anaconda3/lib/python3.10/site-packages (from matplotlib<4->mlflow) (9.4.0)\n",
      "Requirement already satisfied: python-dateutil>=2.7 in /Users/sharanaravindh/anaconda3/lib/python3.10/site-packages (from matplotlib<4->mlflow) (2.8.2)\n",
      "Requirement already satisfied: contourpy>=1.0.1 in /Users/sharanaravindh/anaconda3/lib/python3.10/site-packages (from matplotlib<4->mlflow) (1.0.5)\n",
      "Requirement already satisfied: pyparsing>=2.2.1 in /Users/sharanaravindh/anaconda3/lib/python3.10/site-packages (from matplotlib<4->mlflow) (3.0.9)\n",
      "Requirement already satisfied: cycler>=0.10 in /Users/sharanaravindh/anaconda3/lib/python3.10/site-packages (from matplotlib<4->mlflow) (0.11.0)\n",
      "Requirement already satisfied: kiwisolver>=1.0.1 in /Users/sharanaravindh/anaconda3/lib/python3.10/site-packages (from matplotlib<4->mlflow) (1.4.4)\n",
      "Requirement already satisfied: idna<4,>=2.5 in /Users/sharanaravindh/anaconda3/lib/python3.10/site-packages (from requests<3,>=2.17.3->mlflow) (3.4)\n",
      "Requirement already satisfied: charset-normalizer<3,>=2 in /Users/sharanaravindh/anaconda3/lib/python3.10/site-packages (from requests<3,>=2.17.3->mlflow) (2.0.4)\n",
      "Requirement already satisfied: certifi>=2017.4.17 in /Users/sharanaravindh/anaconda3/lib/python3.10/site-packages (from requests<3,>=2.17.3->mlflow) (2022.12.7)\n",
      "Requirement already satisfied: threadpoolctl>=2.0.0 in /Users/sharanaravindh/anaconda3/lib/python3.10/site-packages (from scikit-learn<2->mlflow) (2.2.0)\n",
      "Requirement already satisfied: joblib>=1.1.1 in /Users/sharanaravindh/anaconda3/lib/python3.10/site-packages (from scikit-learn<2->mlflow) (1.3.2)\n"
     ]
    },
    {
     "name": "stdout",
     "output_type": "stream",
     "text": [
      "Collecting smmap<6,>=3.0.1\n",
      "  Downloading smmap-5.0.1-py3-none-any.whl (24 kB)\n",
      "Installing collected packages: sqlparse, smmap, querystring-parser, pyarrow, protobuf, oauthlib, Mako, gunicorn, gitdb, docker, databricks-cli, alembic, gitpython, mlflow\n",
      "Successfully installed Mako-1.3.0 alembic-1.12.1 databricks-cli-0.18.0 docker-6.1.3 gitdb-4.0.11 gitpython-3.1.40 gunicorn-21.2.0 mlflow-2.8.0 oauthlib-3.2.2 protobuf-4.25.0 pyarrow-13.0.0 querystring-parser-1.2.4 smmap-5.0.1 sqlparse-0.4.4\n",
      "Note: you may need to restart the kernel to use updated packages.\n"
     ]
    }
   ],
   "source": [
    "pip install mlflow"
   ]
  },
  {
   "cell_type": "code",
   "execution_count": 218,
   "id": "89fc09f2",
   "metadata": {},
   "outputs": [],
   "source": [
    "import pandas as pd\n",
    "import numpy as np\n",
    "import os\n",
    "import matplotlib.pyplot as plt\n",
    "import seaborn as sns\n",
    "import scipy as stats\n",
    "from sklearn.model_selection import train_test_split\n",
    "from sklearn.preprocessing import StandardScaler\n",
    "from library1.sb_utils import save_file\n",
    "from sklearn.model_selection import train_test_split\n",
    "from sklearn.linear_model import LogisticRegression\n",
    "from sklearn.metrics import accuracy_score, classification_report, confusion_matrix\n",
    "import sklearn.decomposition\n",
    "from pycaret.classification import *\n",
    "import mlflow\n",
    "from sklearn.pipeline import Pipeline\n",
    "from sklearn.cluster import KMeans\n",
    "from sklearn.ensemble import RandomForestClassifier\n",
    "from sklearn.model_selection import GridSearchCV\n",
    "from sklearn.metrics import roc_curve, auc\n",
    "from sklearn.ensemble import RandomForestRegressor\n",
    "from sklearn.metrics import mean_squared_error, r2_score\n",
    "from sklearn.ensemble import ExtraTreesClassifier"
   ]
  },
  {
   "cell_type": "markdown",
   "id": "c61588c4",
   "metadata": {},
   "source": [
    "### Load in Data"
   ]
  },
  {
   "cell_type": "code",
   "execution_count": 63,
   "id": "7f6c5ba4",
   "metadata": {},
   "outputs": [],
   "source": [
    "bc_data_eda = pd.read_csv('/Users/sharanaravindh/Desktop/springboard/Github repository/Capstone-Project-1-Breast-Cancer-Prognosis/Data/breast_cancer_EDA.csv')"
   ]
  },
  {
   "cell_type": "code",
   "execution_count": 64,
   "id": "b18d4ca8",
   "metadata": {},
   "outputs": [
    {
     "name": "stdout",
     "output_type": "stream",
     "text": [
      "<class 'pandas.core.frame.DataFrame'>\n",
      "RangeIndex: 321 entries, 0 to 320\n",
      "Data columns (total 16 columns):\n",
      " #   Column                Non-Null Count  Dtype  \n",
      "---  ------                --------------  -----  \n",
      " 0   Age                   321 non-null    int64  \n",
      " 1   Gender                321 non-null    object \n",
      " 2   Protein1              321 non-null    float64\n",
      " 3   Protein2              321 non-null    float64\n",
      " 4   Protein3              321 non-null    float64\n",
      " 5   Protein4              321 non-null    float64\n",
      " 6   Tumour_Stage          321 non-null    int64  \n",
      " 7   Histology             321 non-null    object \n",
      " 8   ER status             321 non-null    object \n",
      " 9   PR status             321 non-null    object \n",
      " 10  HER2 status           321 non-null    object \n",
      " 11  Surgery_type          321 non-null    object \n",
      " 12  Date_of_Surgery       321 non-null    object \n",
      " 13  Date_of_Last_Visit    321 non-null    object \n",
      " 14  Patient_Status        321 non-null    object \n",
      " 15  Survival_Time_Months  321 non-null    float64\n",
      "dtypes: float64(5), int64(2), object(9)\n",
      "memory usage: 40.2+ KB\n"
     ]
    }
   ],
   "source": [
    "bc_data_eda.info()"
   ]
  },
  {
   "cell_type": "code",
   "execution_count": 75,
   "id": "a682ad21",
   "metadata": {},
   "outputs": [],
   "source": [
    "bc_data_eda['Age'] = bc_data_eda['Age'].astype(float)"
   ]
  },
  {
   "cell_type": "markdown",
   "id": "1a3082ef",
   "metadata": {},
   "source": [
    "bc_data_eda.head()"
   ]
  },
  {
   "cell_type": "markdown",
   "id": "15771f9b",
   "metadata": {},
   "source": [
    "### Scale Standardization"
   ]
  },
  {
   "cell_type": "markdown",
   "id": "10e5d21c",
   "metadata": {},
   "source": [
    "My goal is to scale the numerical features in the dataset, since I plan on performing operations such as k-nearest neightbord, k-means clustering, principal component analysis on aspects of the dataset. Standard Scaler is the best fit for the needs of this project as it proves useful when conducting principal component analysis, k-means clustering, and aid in logistic regression models. With regards to logistic regression, I will be performing the process on both scaled and non-scaled data to avoid instances of overfitting. "
   ]
  },
  {
   "cell_type": "code",
   "execution_count": 118,
   "id": "2dafed50",
   "metadata": {},
   "outputs": [],
   "source": [
    "\n",
    "col_to_scale = ['Age', 'Protein1', 'Protein2', 'Protein3', 'Protein4', 'Survival_Time_Months']\n",
    "\n",
    "bc_numerical = bc_data_eda[col_to_scale]\n",
    "\n",
    "scaler = StandardScaler()\n",
    "\n",
    "bc_numerical_scaled = scaler.fit_transform(bc_numerical)\n",
    "\n",
    "bc_numerical_scaled_df = pd.DataFrame(bc_numerical_scaled, columns=col_to_scale)"
   ]
  },
  {
   "cell_type": "code",
   "execution_count": 119,
   "id": "1bea6b58",
   "metadata": {
    "scrolled": true
   },
   "outputs": [
    {
     "data": {
      "text/html": [
       "<div>\n",
       "<style scoped>\n",
       "    .dataframe tbody tr th:only-of-type {\n",
       "        vertical-align: middle;\n",
       "    }\n",
       "\n",
       "    .dataframe tbody tr th {\n",
       "        vertical-align: top;\n",
       "    }\n",
       "\n",
       "    .dataframe thead th {\n",
       "        text-align: right;\n",
       "    }\n",
       "</style>\n",
       "<table border=\"1\" class=\"dataframe\">\n",
       "  <thead>\n",
       "    <tr style=\"text-align: right;\">\n",
       "      <th></th>\n",
       "      <th>Age</th>\n",
       "      <th>Protein1</th>\n",
       "      <th>Protein2</th>\n",
       "      <th>Protein3</th>\n",
       "      <th>Protein4</th>\n",
       "      <th>Survival_Time_Months</th>\n",
       "    </tr>\n",
       "  </thead>\n",
       "  <tbody>\n",
       "    <tr>\n",
       "      <th>0</th>\n",
       "      <td>-1.307174</td>\n",
       "      <td>1.793650</td>\n",
       "      <td>1.316245</td>\n",
       "      <td>0.172469</td>\n",
       "      <td>-0.091956</td>\n",
       "      <td>-1.002878</td>\n",
       "    </tr>\n",
       "    <tr>\n",
       "      <th>1</th>\n",
       "      <td>-0.377650</td>\n",
       "      <td>0.048512</td>\n",
       "      <td>0.468651</td>\n",
       "      <td>-0.689450</td>\n",
       "      <td>-0.830435</td>\n",
       "      <td>-0.440454</td>\n",
       "    </tr>\n",
       "    <tr>\n",
       "      <th>2</th>\n",
       "      <td>0.319494</td>\n",
       "      <td>-0.909706</td>\n",
       "      <td>0.891237</td>\n",
       "      <td>-0.471689</td>\n",
       "      <td>0.003221</td>\n",
       "      <td>0.578939</td>\n",
       "    </tr>\n",
       "    <tr>\n",
       "      <th>3</th>\n",
       "      <td>1.481400</td>\n",
       "      <td>-1.556695</td>\n",
       "      <td>-0.908520</td>\n",
       "      <td>-0.472012</td>\n",
       "      <td>0.198508</td>\n",
       "      <td>0.665220</td>\n",
       "    </tr>\n",
       "    <tr>\n",
       "      <th>4</th>\n",
       "      <td>-1.307174</td>\n",
       "      <td>0.462757</td>\n",
       "      <td>0.874831</td>\n",
       "      <td>-0.767704</td>\n",
       "      <td>-0.642010</td>\n",
       "      <td>-1.239351</td>\n",
       "    </tr>\n",
       "  </tbody>\n",
       "</table>\n",
       "</div>"
      ],
      "text/plain": [
       "        Age  Protein1  Protein2  Protein3  Protein4  Survival_Time_Months\n",
       "0 -1.307174  1.793650  1.316245  0.172469 -0.091956             -1.002878\n",
       "1 -0.377650  0.048512  0.468651 -0.689450 -0.830435             -0.440454\n",
       "2  0.319494 -0.909706  0.891237 -0.471689  0.003221              0.578939\n",
       "3  1.481400 -1.556695 -0.908520 -0.472012  0.198508              0.665220\n",
       "4 -1.307174  0.462757  0.874831 -0.767704 -0.642010             -1.239351"
      ]
     },
     "execution_count": 119,
     "metadata": {},
     "output_type": "execute_result"
    }
   ],
   "source": [
    "bc_numerical_scaled_df.head()"
   ]
  },
  {
   "cell_type": "code",
   "execution_count": 120,
   "id": "b766a9a3",
   "metadata": {},
   "outputs": [],
   "source": [
    "bc_data_scaled = pd.concat([bc_data_eda.drop(col_to_scale, axis=1), bc_numerical_scaled_df], axis=1)"
   ]
  },
  {
   "cell_type": "code",
   "execution_count": 121,
   "id": "f032b875",
   "metadata": {},
   "outputs": [
    {
     "data": {
      "text/html": [
       "<div>\n",
       "<style scoped>\n",
       "    .dataframe tbody tr th:only-of-type {\n",
       "        vertical-align: middle;\n",
       "    }\n",
       "\n",
       "    .dataframe tbody tr th {\n",
       "        vertical-align: top;\n",
       "    }\n",
       "\n",
       "    .dataframe thead th {\n",
       "        text-align: right;\n",
       "    }\n",
       "</style>\n",
       "<table border=\"1\" class=\"dataframe\">\n",
       "  <thead>\n",
       "    <tr style=\"text-align: right;\">\n",
       "      <th></th>\n",
       "      <th>Gender</th>\n",
       "      <th>Tumour_Stage</th>\n",
       "      <th>Histology</th>\n",
       "      <th>ER status</th>\n",
       "      <th>PR status</th>\n",
       "      <th>HER2 status</th>\n",
       "      <th>Surgery_type</th>\n",
       "      <th>Date_of_Surgery</th>\n",
       "      <th>Date_of_Last_Visit</th>\n",
       "      <th>Patient_Status</th>\n",
       "      <th>Age</th>\n",
       "      <th>Protein1</th>\n",
       "      <th>Protein2</th>\n",
       "      <th>Protein3</th>\n",
       "      <th>Protein4</th>\n",
       "      <th>Survival_Time_Months</th>\n",
       "    </tr>\n",
       "  </thead>\n",
       "  <tbody>\n",
       "    <tr>\n",
       "      <th>0</th>\n",
       "      <td>FEMALE</td>\n",
       "      <td>2</td>\n",
       "      <td>Infiltrating Ductal Carcinoma</td>\n",
       "      <td>Positive</td>\n",
       "      <td>Positive</td>\n",
       "      <td>Negative</td>\n",
       "      <td>Other</td>\n",
       "      <td>2018-05-20</td>\n",
       "      <td>2018-08-26</td>\n",
       "      <td>Alive</td>\n",
       "      <td>-1.307174</td>\n",
       "      <td>1.793650</td>\n",
       "      <td>1.316245</td>\n",
       "      <td>0.172469</td>\n",
       "      <td>-0.091956</td>\n",
       "      <td>-1.002878</td>\n",
       "    </tr>\n",
       "    <tr>\n",
       "      <th>1</th>\n",
       "      <td>FEMALE</td>\n",
       "      <td>2</td>\n",
       "      <td>Infiltrating Ductal Carcinoma</td>\n",
       "      <td>Positive</td>\n",
       "      <td>Positive</td>\n",
       "      <td>Negative</td>\n",
       "      <td>Other</td>\n",
       "      <td>2018-04-26</td>\n",
       "      <td>2019-01-25</td>\n",
       "      <td>Dead</td>\n",
       "      <td>-0.377650</td>\n",
       "      <td>0.048512</td>\n",
       "      <td>0.468651</td>\n",
       "      <td>-0.689450</td>\n",
       "      <td>-0.830435</td>\n",
       "      <td>-0.440454</td>\n",
       "    </tr>\n",
       "    <tr>\n",
       "      <th>2</th>\n",
       "      <td>FEMALE</td>\n",
       "      <td>2</td>\n",
       "      <td>Infiltrating Ductal Carcinoma</td>\n",
       "      <td>Positive</td>\n",
       "      <td>Positive</td>\n",
       "      <td>Negative</td>\n",
       "      <td>Lumpectomy</td>\n",
       "      <td>2018-08-24</td>\n",
       "      <td>2020-04-08</td>\n",
       "      <td>Alive</td>\n",
       "      <td>0.319494</td>\n",
       "      <td>-0.909706</td>\n",
       "      <td>0.891237</td>\n",
       "      <td>-0.471689</td>\n",
       "      <td>0.003221</td>\n",
       "      <td>0.578939</td>\n",
       "    </tr>\n",
       "    <tr>\n",
       "      <th>3</th>\n",
       "      <td>FEMALE</td>\n",
       "      <td>1</td>\n",
       "      <td>Infiltrating Ductal Carcinoma</td>\n",
       "      <td>Positive</td>\n",
       "      <td>Positive</td>\n",
       "      <td>Negative</td>\n",
       "      <td>Other</td>\n",
       "      <td>2018-11-16</td>\n",
       "      <td>2020-07-28</td>\n",
       "      <td>Alive</td>\n",
       "      <td>1.481400</td>\n",
       "      <td>-1.556695</td>\n",
       "      <td>-0.908520</td>\n",
       "      <td>-0.472012</td>\n",
       "      <td>0.198508</td>\n",
       "      <td>0.665220</td>\n",
       "    </tr>\n",
       "    <tr>\n",
       "      <th>4</th>\n",
       "      <td>FEMALE</td>\n",
       "      <td>2</td>\n",
       "      <td>Infiltrating Ductal Carcinoma</td>\n",
       "      <td>Positive</td>\n",
       "      <td>Positive</td>\n",
       "      <td>Positive</td>\n",
       "      <td>Lumpectomy</td>\n",
       "      <td>2018-12-12</td>\n",
       "      <td>2019-01-05</td>\n",
       "      <td>Alive</td>\n",
       "      <td>-1.307174</td>\n",
       "      <td>0.462757</td>\n",
       "      <td>0.874831</td>\n",
       "      <td>-0.767704</td>\n",
       "      <td>-0.642010</td>\n",
       "      <td>-1.239351</td>\n",
       "    </tr>\n",
       "  </tbody>\n",
       "</table>\n",
       "</div>"
      ],
      "text/plain": [
       "   Gender  Tumour_Stage                      Histology ER status PR status  \\\n",
       "0  FEMALE             2  Infiltrating Ductal Carcinoma  Positive  Positive   \n",
       "1  FEMALE             2  Infiltrating Ductal Carcinoma  Positive  Positive   \n",
       "2  FEMALE             2  Infiltrating Ductal Carcinoma  Positive  Positive   \n",
       "3  FEMALE             1  Infiltrating Ductal Carcinoma  Positive  Positive   \n",
       "4  FEMALE             2  Infiltrating Ductal Carcinoma  Positive  Positive   \n",
       "\n",
       "  HER2 status Surgery_type Date_of_Surgery Date_of_Last_Visit Patient_Status  \\\n",
       "0    Negative        Other      2018-05-20         2018-08-26          Alive   \n",
       "1    Negative        Other      2018-04-26         2019-01-25           Dead   \n",
       "2    Negative   Lumpectomy      2018-08-24         2020-04-08          Alive   \n",
       "3    Negative        Other      2018-11-16         2020-07-28          Alive   \n",
       "4    Positive   Lumpectomy      2018-12-12         2019-01-05          Alive   \n",
       "\n",
       "        Age  Protein1  Protein2  Protein3  Protein4  Survival_Time_Months  \n",
       "0 -1.307174  1.793650  1.316245  0.172469 -0.091956             -1.002878  \n",
       "1 -0.377650  0.048512  0.468651 -0.689450 -0.830435             -0.440454  \n",
       "2  0.319494 -0.909706  0.891237 -0.471689  0.003221              0.578939  \n",
       "3  1.481400 -1.556695 -0.908520 -0.472012  0.198508              0.665220  \n",
       "4 -1.307174  0.462757  0.874831 -0.767704 -0.642010             -1.239351  "
      ]
     },
     "execution_count": 121,
     "metadata": {},
     "output_type": "execute_result"
    }
   ],
   "source": [
    "bc_data_scaled.head()"
   ]
  },
  {
   "cell_type": "markdown",
   "id": "f334f9bb",
   "metadata": {},
   "source": [
    "Since I want to utilize both scaled and unscaled data in my modeling steps, I'm keeping the scaled data separate from that of the unscaled data. In the encoding stage I will make two different dataframes: one containing scaled data with encoded features, and another with unscaled data with encoded features. "
   ]
  },
  {
   "cell_type": "markdown",
   "id": "2047ce5b",
   "metadata": {},
   "source": [
    "### Encoding "
   ]
  },
  {
   "cell_type": "markdown",
   "id": "a20b27c5",
   "metadata": {},
   "source": [
    "One of the models implemented will be a log regression model to look for correlations between protein levels and the cancer stage. Since log regression requires binary variables, stage 1 tumor will be encoded as 0 with an indication of beginning cancer, while stages 2 and 3 will be encoded as 1 with an indication of being advanced tumors. "
   ]
  },
  {
   "cell_type": "code",
   "execution_count": 122,
   "id": "3c14464a",
   "metadata": {},
   "outputs": [],
   "source": [
    "bc_data_scaled['Tumor_advanced'] = ((bc_data_scaled['Tumour_Stage'] == 2) | (bc_data_scaled['Tumour_Stage'] == 3)).astype(int)"
   ]
  },
  {
   "cell_type": "code",
   "execution_count": 123,
   "id": "f946311a",
   "metadata": {},
   "outputs": [],
   "source": [
    "bc_data_scaled_encode = pd.get_dummies(bc_data_scaled)"
   ]
  },
  {
   "cell_type": "code",
   "execution_count": 124,
   "id": "31ed4d63",
   "metadata": {
    "scrolled": false
   },
   "outputs": [
    {
     "data": {
      "text/html": [
       "<div>\n",
       "<style scoped>\n",
       "    .dataframe tbody tr th:only-of-type {\n",
       "        vertical-align: middle;\n",
       "    }\n",
       "\n",
       "    .dataframe tbody tr th {\n",
       "        vertical-align: top;\n",
       "    }\n",
       "\n",
       "    .dataframe thead th {\n",
       "        text-align: right;\n",
       "    }\n",
       "</style>\n",
       "<table border=\"1\" class=\"dataframe\">\n",
       "  <thead>\n",
       "    <tr style=\"text-align: right;\">\n",
       "      <th></th>\n",
       "      <th>Tumour_Stage</th>\n",
       "      <th>Age</th>\n",
       "      <th>Protein1</th>\n",
       "      <th>Protein2</th>\n",
       "      <th>Protein3</th>\n",
       "      <th>Protein4</th>\n",
       "      <th>Survival_Time_Months</th>\n",
       "      <th>Tumor_advanced</th>\n",
       "      <th>Gender_FEMALE</th>\n",
       "      <th>Gender_MALE</th>\n",
       "      <th>...</th>\n",
       "      <th>Date_of_Last_Visit_2021-03-24</th>\n",
       "      <th>Date_of_Last_Visit_2021-05-04</th>\n",
       "      <th>Date_of_Last_Visit_2021-11-15</th>\n",
       "      <th>Date_of_Last_Visit_2022-03-14</th>\n",
       "      <th>Date_of_Last_Visit_2022-03-15</th>\n",
       "      <th>Date_of_Last_Visit_2022-05-19</th>\n",
       "      <th>Date_of_Last_Visit_2022-06-26</th>\n",
       "      <th>Date_of_Last_Visit_2022-11-04</th>\n",
       "      <th>Patient_Status_Alive</th>\n",
       "      <th>Patient_Status_Dead</th>\n",
       "    </tr>\n",
       "  </thead>\n",
       "  <tbody>\n",
       "    <tr>\n",
       "      <th>0</th>\n",
       "      <td>2</td>\n",
       "      <td>-1.307174</td>\n",
       "      <td>1.793650</td>\n",
       "      <td>1.316245</td>\n",
       "      <td>0.172469</td>\n",
       "      <td>-0.091956</td>\n",
       "      <td>-1.002878</td>\n",
       "      <td>1</td>\n",
       "      <td>1</td>\n",
       "      <td>0</td>\n",
       "      <td>...</td>\n",
       "      <td>0</td>\n",
       "      <td>0</td>\n",
       "      <td>0</td>\n",
       "      <td>0</td>\n",
       "      <td>0</td>\n",
       "      <td>0</td>\n",
       "      <td>0</td>\n",
       "      <td>0</td>\n",
       "      <td>1</td>\n",
       "      <td>0</td>\n",
       "    </tr>\n",
       "    <tr>\n",
       "      <th>1</th>\n",
       "      <td>2</td>\n",
       "      <td>-0.377650</td>\n",
       "      <td>0.048512</td>\n",
       "      <td>0.468651</td>\n",
       "      <td>-0.689450</td>\n",
       "      <td>-0.830435</td>\n",
       "      <td>-0.440454</td>\n",
       "      <td>1</td>\n",
       "      <td>1</td>\n",
       "      <td>0</td>\n",
       "      <td>...</td>\n",
       "      <td>0</td>\n",
       "      <td>0</td>\n",
       "      <td>0</td>\n",
       "      <td>0</td>\n",
       "      <td>0</td>\n",
       "      <td>0</td>\n",
       "      <td>0</td>\n",
       "      <td>0</td>\n",
       "      <td>0</td>\n",
       "      <td>1</td>\n",
       "    </tr>\n",
       "    <tr>\n",
       "      <th>2</th>\n",
       "      <td>2</td>\n",
       "      <td>0.319494</td>\n",
       "      <td>-0.909706</td>\n",
       "      <td>0.891237</td>\n",
       "      <td>-0.471689</td>\n",
       "      <td>0.003221</td>\n",
       "      <td>0.578939</td>\n",
       "      <td>1</td>\n",
       "      <td>1</td>\n",
       "      <td>0</td>\n",
       "      <td>...</td>\n",
       "      <td>0</td>\n",
       "      <td>0</td>\n",
       "      <td>0</td>\n",
       "      <td>0</td>\n",
       "      <td>0</td>\n",
       "      <td>0</td>\n",
       "      <td>0</td>\n",
       "      <td>0</td>\n",
       "      <td>1</td>\n",
       "      <td>0</td>\n",
       "    </tr>\n",
       "    <tr>\n",
       "      <th>3</th>\n",
       "      <td>1</td>\n",
       "      <td>1.481400</td>\n",
       "      <td>-1.556695</td>\n",
       "      <td>-0.908520</td>\n",
       "      <td>-0.472012</td>\n",
       "      <td>0.198508</td>\n",
       "      <td>0.665220</td>\n",
       "      <td>0</td>\n",
       "      <td>1</td>\n",
       "      <td>0</td>\n",
       "      <td>...</td>\n",
       "      <td>0</td>\n",
       "      <td>0</td>\n",
       "      <td>0</td>\n",
       "      <td>0</td>\n",
       "      <td>0</td>\n",
       "      <td>0</td>\n",
       "      <td>0</td>\n",
       "      <td>0</td>\n",
       "      <td>1</td>\n",
       "      <td>0</td>\n",
       "    </tr>\n",
       "    <tr>\n",
       "      <th>4</th>\n",
       "      <td>2</td>\n",
       "      <td>-1.307174</td>\n",
       "      <td>0.462757</td>\n",
       "      <td>0.874831</td>\n",
       "      <td>-0.767704</td>\n",
       "      <td>-0.642010</td>\n",
       "      <td>-1.239351</td>\n",
       "      <td>1</td>\n",
       "      <td>1</td>\n",
       "      <td>0</td>\n",
       "      <td>...</td>\n",
       "      <td>0</td>\n",
       "      <td>0</td>\n",
       "      <td>0</td>\n",
       "      <td>0</td>\n",
       "      <td>0</td>\n",
       "      <td>0</td>\n",
       "      <td>0</td>\n",
       "      <td>0</td>\n",
       "      <td>1</td>\n",
       "      <td>0</td>\n",
       "    </tr>\n",
       "  </tbody>\n",
       "</table>\n",
       "<p>5 rows × 490 columns</p>\n",
       "</div>"
      ],
      "text/plain": [
       "   Tumour_Stage       Age  Protein1  Protein2  Protein3  Protein4  \\\n",
       "0             2 -1.307174  1.793650  1.316245  0.172469 -0.091956   \n",
       "1             2 -0.377650  0.048512  0.468651 -0.689450 -0.830435   \n",
       "2             2  0.319494 -0.909706  0.891237 -0.471689  0.003221   \n",
       "3             1  1.481400 -1.556695 -0.908520 -0.472012  0.198508   \n",
       "4             2 -1.307174  0.462757  0.874831 -0.767704 -0.642010   \n",
       "\n",
       "   Survival_Time_Months  Tumor_advanced  Gender_FEMALE  Gender_MALE  ...  \\\n",
       "0             -1.002878               1              1            0  ...   \n",
       "1             -0.440454               1              1            0  ...   \n",
       "2              0.578939               1              1            0  ...   \n",
       "3              0.665220               0              1            0  ...   \n",
       "4             -1.239351               1              1            0  ...   \n",
       "\n",
       "   Date_of_Last_Visit_2021-03-24  Date_of_Last_Visit_2021-05-04  \\\n",
       "0                              0                              0   \n",
       "1                              0                              0   \n",
       "2                              0                              0   \n",
       "3                              0                              0   \n",
       "4                              0                              0   \n",
       "\n",
       "   Date_of_Last_Visit_2021-11-15  Date_of_Last_Visit_2022-03-14  \\\n",
       "0                              0                              0   \n",
       "1                              0                              0   \n",
       "2                              0                              0   \n",
       "3                              0                              0   \n",
       "4                              0                              0   \n",
       "\n",
       "   Date_of_Last_Visit_2022-03-15  Date_of_Last_Visit_2022-05-19  \\\n",
       "0                              0                              0   \n",
       "1                              0                              0   \n",
       "2                              0                              0   \n",
       "3                              0                              0   \n",
       "4                              0                              0   \n",
       "\n",
       "   Date_of_Last_Visit_2022-06-26  Date_of_Last_Visit_2022-11-04  \\\n",
       "0                              0                              0   \n",
       "1                              0                              0   \n",
       "2                              0                              0   \n",
       "3                              0                              0   \n",
       "4                              0                              0   \n",
       "\n",
       "   Patient_Status_Alive  Patient_Status_Dead  \n",
       "0                     1                    0  \n",
       "1                     0                    1  \n",
       "2                     1                    0  \n",
       "3                     1                    0  \n",
       "4                     1                    0  \n",
       "\n",
       "[5 rows x 490 columns]"
      ]
     },
     "execution_count": 124,
     "metadata": {},
     "output_type": "execute_result"
    }
   ],
   "source": [
    "bc_data_scaled_encode.head()"
   ]
  },
  {
   "cell_type": "code",
   "execution_count": 125,
   "id": "74edb2db",
   "metadata": {},
   "outputs": [],
   "source": [
    "filter = 'Date_of'\n",
    "columns_to_keep = [col for col in bc_data_scaled_encode.columns if not col.startswith(filter)]\n",
    "bc_data_scaled_encode = bc_data_scaled_encode[columns_to_keep]"
   ]
  },
  {
   "cell_type": "markdown",
   "id": "1c3ff352",
   "metadata": {},
   "source": [
    "Removing columns with redundant information or with features that are binary (ex. patient status). "
   ]
  },
  {
   "cell_type": "code",
   "execution_count": 126,
   "id": "51a231ef",
   "metadata": {
    "scrolled": true
   },
   "outputs": [],
   "source": [
    "bc_data_scaled_encode = bc_data_scaled_encode.drop(['ER status_Positive','PR status_Positive','HER2 status_Negative','Patient_Status_Dead','Gender_MALE',], axis = 1)"
   ]
  },
  {
   "cell_type": "code",
   "execution_count": 127,
   "id": "9eb0c195",
   "metadata": {},
   "outputs": [
    {
     "name": "stdout",
     "output_type": "stream",
     "text": [
      "<class 'pandas.core.frame.DataFrame'>\n",
      "RangeIndex: 321 entries, 0 to 320\n",
      "Data columns (total 18 columns):\n",
      " #   Column                                    Non-Null Count  Dtype  \n",
      "---  ------                                    --------------  -----  \n",
      " 0   Tumour_Stage                              321 non-null    int64  \n",
      " 1   Age                                       321 non-null    float64\n",
      " 2   Protein1                                  321 non-null    float64\n",
      " 3   Protein2                                  321 non-null    float64\n",
      " 4   Protein3                                  321 non-null    float64\n",
      " 5   Protein4                                  321 non-null    float64\n",
      " 6   Survival_Time_Months                      321 non-null    float64\n",
      " 7   Tumor_advanced                            321 non-null    int64  \n",
      " 8   Gender_FEMALE                             321 non-null    uint8  \n",
      " 9   Histology_Infiltrating Ductal Carcinoma   321 non-null    uint8  \n",
      " 10  Histology_Infiltrating Lobular Carcinoma  321 non-null    uint8  \n",
      " 11  Histology_Mucinous Carcinoma              321 non-null    uint8  \n",
      " 12  HER2 status_Positive                      321 non-null    uint8  \n",
      " 13  Surgery_type_Lumpectomy                   321 non-null    uint8  \n",
      " 14  Surgery_type_Modified Radical Mastectomy  321 non-null    uint8  \n",
      " 15  Surgery_type_Other                        321 non-null    uint8  \n",
      " 16  Surgery_type_Simple Mastectomy            321 non-null    uint8  \n",
      " 17  Patient_Status_Alive                      321 non-null    uint8  \n",
      "dtypes: float64(6), int64(2), uint8(10)\n",
      "memory usage: 23.3 KB\n"
     ]
    }
   ],
   "source": [
    "bc_data_scaled_encode.info()"
   ]
  },
  {
   "cell_type": "code",
   "execution_count": 134,
   "id": "8232b38f",
   "metadata": {},
   "outputs": [],
   "source": [
    "uint8_columns = bc_data_scaled_encode.select_dtypes(include='uint8').columns\n",
    "bc_data_scaled_encode[uint8_columns] = bc_data_scaled_encode[uint8_columns].astype('category')\n",
    "bc_data_scaled_encode[['Tumour_Stage','Tumor_advanced']] = bc_data_scaled_encode[['Tumour_Stage','Tumor_advanced']].astype('category')"
   ]
  },
  {
   "cell_type": "code",
   "execution_count": 135,
   "id": "6c60369c",
   "metadata": {},
   "outputs": [
    {
     "name": "stdout",
     "output_type": "stream",
     "text": [
      "<class 'pandas.core.frame.DataFrame'>\n",
      "RangeIndex: 321 entries, 0 to 320\n",
      "Data columns (total 18 columns):\n",
      " #   Column                                    Non-Null Count  Dtype   \n",
      "---  ------                                    --------------  -----   \n",
      " 0   Tumour_Stage                              321 non-null    category\n",
      " 1   Age                                       321 non-null    float64 \n",
      " 2   Protein1                                  321 non-null    float64 \n",
      " 3   Protein2                                  321 non-null    float64 \n",
      " 4   Protein3                                  321 non-null    float64 \n",
      " 5   Protein4                                  321 non-null    float64 \n",
      " 6   Survival_Time_Months                      321 non-null    float64 \n",
      " 7   Tumor_advanced                            321 non-null    category\n",
      " 8   Gender_FEMALE                             321 non-null    category\n",
      " 9   Histology_Infiltrating Ductal Carcinoma   321 non-null    category\n",
      " 10  Histology_Infiltrating Lobular Carcinoma  321 non-null    category\n",
      " 11  Histology_Mucinous Carcinoma              321 non-null    category\n",
      " 12  HER2 status_Positive                      321 non-null    category\n",
      " 13  Surgery_type_Lumpectomy                   321 non-null    category\n",
      " 14  Surgery_type_Modified Radical Mastectomy  321 non-null    category\n",
      " 15  Surgery_type_Other                        321 non-null    category\n",
      " 16  Surgery_type_Simple Mastectomy            321 non-null    category\n",
      " 17  Patient_Status_Alive                      321 non-null    category\n",
      "dtypes: category(12), float64(6)\n",
      "memory usage: 20.4 KB\n"
     ]
    }
   ],
   "source": [
    "bc_data_scaled_encode.info()"
   ]
  },
  {
   "cell_type": "markdown",
   "id": "5553811a",
   "metadata": {},
   "source": [
    "### Training & Testing Splits"
   ]
  },
  {
   "cell_type": "markdown",
   "id": "24ade328",
   "metadata": {},
   "source": [
    "The main goal of this project is to determine the prognosis (survival time) based on the levels of proteins, and or other factors that are provided within the dataframe. The first train test split will be built around this question with X being all other features, and y being the survival time. "
   ]
  },
  {
   "cell_type": "code",
   "execution_count": 136,
   "id": "6e23a0af",
   "metadata": {},
   "outputs": [],
   "source": [
    "X1 = bc_data_scaled_encode.drop('Survival_Time_Months', axis=1)  \n",
    "y1 = bc_data_scaled_encode['Survival_Time_Months']\n",
    "X1_train, X1_test, y1_train, y1_test = train_test_split(X1, y1, test_size=0.2, random_state=42)"
   ]
  },
  {
   "cell_type": "markdown",
   "id": "5f20192d",
   "metadata": {},
   "source": [
    "The second train test split will be for the logistic regression model with the X being the protein levels, and y being the tumor_advanced variable"
   ]
  },
  {
   "cell_type": "code",
   "execution_count": 137,
   "id": "ba4dba3b",
   "metadata": {},
   "outputs": [],
   "source": [
    "X2 = bc_data_scaled_encode[['Protein1','Protein2','Protein3','Protein4']]  \n",
    "y2 = bc_data_scaled_encode['Tumor_advanced']\n",
    "X2_train, X2_test, y2_train, y2_test = train_test_split(X2, y2, test_size=0.2, random_state=42)"
   ]
  },
  {
   "cell_type": "markdown",
   "id": "2b74d5f1",
   "metadata": {},
   "source": [
    "### Saving Data"
   ]
  },
  {
   "cell_type": "code",
   "execution_count": 138,
   "id": "afd5d590",
   "metadata": {
    "scrolled": true
   },
   "outputs": [
    {
     "name": "stdout",
     "output_type": "stream",
     "text": [
      "A file already exists with this name.\n",
      "\n",
      "Do you want to overwrite? (Y/N)Y\n",
      "Writing file.  \"/Users/sharanaravindh/Desktop/springboard/Github repository/Capstone-Project-1-Breast-Cancer-Prognosis/Data/breast_cancer_preprocessed.csv\"\n"
     ]
    }
   ],
   "source": [
    "datapath = '/Users/sharanaravindh/Desktop/springboard/Github repository/Capstone-Project-1-Breast-Cancer-Prognosis/Data'\n",
    "save_file(bc_data_scaled_encode,'breast_cancer_preprocessed.csv',datapath)"
   ]
  },
  {
   "cell_type": "markdown",
   "id": "3faa78de",
   "metadata": {},
   "source": [
    "### Finding Best Models - pycaret "
   ]
  },
  {
   "cell_type": "markdown",
   "id": "cb1d59f3",
   "metadata": {},
   "source": [
    "Using pycaret, I will evaluate all possible models for accuracy, recall, F1 extra, and determine the models with the highest predictive power. My first target variable will be tumor stage, and my second one will be survival time in months. "
   ]
  },
  {
   "cell_type": "code",
   "execution_count": 139,
   "id": "0340cf7a",
   "metadata": {},
   "outputs": [
    {
     "data": {
      "text/html": [
       "<style type=\"text/css\">\n",
       "#T_0a353_row11_col1 {\n",
       "  background-color: lightgreen;\n",
       "}\n",
       "</style>\n",
       "<table id=\"T_0a353\">\n",
       "  <thead>\n",
       "    <tr>\n",
       "      <th class=\"blank level0\" >&nbsp;</th>\n",
       "      <th id=\"T_0a353_level0_col0\" class=\"col_heading level0 col0\" >Description</th>\n",
       "      <th id=\"T_0a353_level0_col1\" class=\"col_heading level0 col1\" >Value</th>\n",
       "    </tr>\n",
       "  </thead>\n",
       "  <tbody>\n",
       "    <tr>\n",
       "      <th id=\"T_0a353_level0_row0\" class=\"row_heading level0 row0\" >0</th>\n",
       "      <td id=\"T_0a353_row0_col0\" class=\"data row0 col0\" >Session id</td>\n",
       "      <td id=\"T_0a353_row0_col1\" class=\"data row0 col1\" >42</td>\n",
       "    </tr>\n",
       "    <tr>\n",
       "      <th id=\"T_0a353_level0_row1\" class=\"row_heading level0 row1\" >1</th>\n",
       "      <td id=\"T_0a353_row1_col0\" class=\"data row1 col0\" >Target</td>\n",
       "      <td id=\"T_0a353_row1_col1\" class=\"data row1 col1\" >Tumour_Stage</td>\n",
       "    </tr>\n",
       "    <tr>\n",
       "      <th id=\"T_0a353_level0_row2\" class=\"row_heading level0 row2\" >2</th>\n",
       "      <td id=\"T_0a353_row2_col0\" class=\"data row2 col0\" >Target type</td>\n",
       "      <td id=\"T_0a353_row2_col1\" class=\"data row2 col1\" >Multiclass</td>\n",
       "    </tr>\n",
       "    <tr>\n",
       "      <th id=\"T_0a353_level0_row3\" class=\"row_heading level0 row3\" >3</th>\n",
       "      <td id=\"T_0a353_row3_col0\" class=\"data row3 col0\" >Target mapping</td>\n",
       "      <td id=\"T_0a353_row3_col1\" class=\"data row3 col1\" >1: 0, 2: 1, 3: 2</td>\n",
       "    </tr>\n",
       "    <tr>\n",
       "      <th id=\"T_0a353_level0_row4\" class=\"row_heading level0 row4\" >4</th>\n",
       "      <td id=\"T_0a353_row4_col0\" class=\"data row4 col0\" >Original data shape</td>\n",
       "      <td id=\"T_0a353_row4_col1\" class=\"data row4 col1\" >(321, 18)</td>\n",
       "    </tr>\n",
       "    <tr>\n",
       "      <th id=\"T_0a353_level0_row5\" class=\"row_heading level0 row5\" >5</th>\n",
       "      <td id=\"T_0a353_row5_col0\" class=\"data row5 col0\" >Transformed data shape</td>\n",
       "      <td id=\"T_0a353_row5_col1\" class=\"data row5 col1\" >(321, 18)</td>\n",
       "    </tr>\n",
       "    <tr>\n",
       "      <th id=\"T_0a353_level0_row6\" class=\"row_heading level0 row6\" >6</th>\n",
       "      <td id=\"T_0a353_row6_col0\" class=\"data row6 col0\" >Transformed train set shape</td>\n",
       "      <td id=\"T_0a353_row6_col1\" class=\"data row6 col1\" >(224, 18)</td>\n",
       "    </tr>\n",
       "    <tr>\n",
       "      <th id=\"T_0a353_level0_row7\" class=\"row_heading level0 row7\" >7</th>\n",
       "      <td id=\"T_0a353_row7_col0\" class=\"data row7 col0\" >Transformed test set shape</td>\n",
       "      <td id=\"T_0a353_row7_col1\" class=\"data row7 col1\" >(97, 18)</td>\n",
       "    </tr>\n",
       "    <tr>\n",
       "      <th id=\"T_0a353_level0_row8\" class=\"row_heading level0 row8\" >8</th>\n",
       "      <td id=\"T_0a353_row8_col0\" class=\"data row8 col0\" >Ordinal features</td>\n",
       "      <td id=\"T_0a353_row8_col1\" class=\"data row8 col1\" >11</td>\n",
       "    </tr>\n",
       "    <tr>\n",
       "      <th id=\"T_0a353_level0_row9\" class=\"row_heading level0 row9\" >9</th>\n",
       "      <td id=\"T_0a353_row9_col0\" class=\"data row9 col0\" >Numeric features</td>\n",
       "      <td id=\"T_0a353_row9_col1\" class=\"data row9 col1\" >6</td>\n",
       "    </tr>\n",
       "    <tr>\n",
       "      <th id=\"T_0a353_level0_row10\" class=\"row_heading level0 row10\" >10</th>\n",
       "      <td id=\"T_0a353_row10_col0\" class=\"data row10 col0\" >Categorical features</td>\n",
       "      <td id=\"T_0a353_row10_col1\" class=\"data row10 col1\" >11</td>\n",
       "    </tr>\n",
       "    <tr>\n",
       "      <th id=\"T_0a353_level0_row11\" class=\"row_heading level0 row11\" >11</th>\n",
       "      <td id=\"T_0a353_row11_col0\" class=\"data row11 col0\" >Preprocess</td>\n",
       "      <td id=\"T_0a353_row11_col1\" class=\"data row11 col1\" >True</td>\n",
       "    </tr>\n",
       "    <tr>\n",
       "      <th id=\"T_0a353_level0_row12\" class=\"row_heading level0 row12\" >12</th>\n",
       "      <td id=\"T_0a353_row12_col0\" class=\"data row12 col0\" >Imputation type</td>\n",
       "      <td id=\"T_0a353_row12_col1\" class=\"data row12 col1\" >simple</td>\n",
       "    </tr>\n",
       "    <tr>\n",
       "      <th id=\"T_0a353_level0_row13\" class=\"row_heading level0 row13\" >13</th>\n",
       "      <td id=\"T_0a353_row13_col0\" class=\"data row13 col0\" >Numeric imputation</td>\n",
       "      <td id=\"T_0a353_row13_col1\" class=\"data row13 col1\" >mean</td>\n",
       "    </tr>\n",
       "    <tr>\n",
       "      <th id=\"T_0a353_level0_row14\" class=\"row_heading level0 row14\" >14</th>\n",
       "      <td id=\"T_0a353_row14_col0\" class=\"data row14 col0\" >Categorical imputation</td>\n",
       "      <td id=\"T_0a353_row14_col1\" class=\"data row14 col1\" >mode</td>\n",
       "    </tr>\n",
       "    <tr>\n",
       "      <th id=\"T_0a353_level0_row15\" class=\"row_heading level0 row15\" >15</th>\n",
       "      <td id=\"T_0a353_row15_col0\" class=\"data row15 col0\" >Maximum one-hot encoding</td>\n",
       "      <td id=\"T_0a353_row15_col1\" class=\"data row15 col1\" >25</td>\n",
       "    </tr>\n",
       "    <tr>\n",
       "      <th id=\"T_0a353_level0_row16\" class=\"row_heading level0 row16\" >16</th>\n",
       "      <td id=\"T_0a353_row16_col0\" class=\"data row16 col0\" >Encoding method</td>\n",
       "      <td id=\"T_0a353_row16_col1\" class=\"data row16 col1\" >None</td>\n",
       "    </tr>\n",
       "    <tr>\n",
       "      <th id=\"T_0a353_level0_row17\" class=\"row_heading level0 row17\" >17</th>\n",
       "      <td id=\"T_0a353_row17_col0\" class=\"data row17 col0\" >Fold Generator</td>\n",
       "      <td id=\"T_0a353_row17_col1\" class=\"data row17 col1\" >StratifiedKFold</td>\n",
       "    </tr>\n",
       "    <tr>\n",
       "      <th id=\"T_0a353_level0_row18\" class=\"row_heading level0 row18\" >18</th>\n",
       "      <td id=\"T_0a353_row18_col0\" class=\"data row18 col0\" >Fold Number</td>\n",
       "      <td id=\"T_0a353_row18_col1\" class=\"data row18 col1\" >10</td>\n",
       "    </tr>\n",
       "    <tr>\n",
       "      <th id=\"T_0a353_level0_row19\" class=\"row_heading level0 row19\" >19</th>\n",
       "      <td id=\"T_0a353_row19_col0\" class=\"data row19 col0\" >CPU Jobs</td>\n",
       "      <td id=\"T_0a353_row19_col1\" class=\"data row19 col1\" >-1</td>\n",
       "    </tr>\n",
       "    <tr>\n",
       "      <th id=\"T_0a353_level0_row20\" class=\"row_heading level0 row20\" >20</th>\n",
       "      <td id=\"T_0a353_row20_col0\" class=\"data row20 col0\" >Use GPU</td>\n",
       "      <td id=\"T_0a353_row20_col1\" class=\"data row20 col1\" >False</td>\n",
       "    </tr>\n",
       "    <tr>\n",
       "      <th id=\"T_0a353_level0_row21\" class=\"row_heading level0 row21\" >21</th>\n",
       "      <td id=\"T_0a353_row21_col0\" class=\"data row21 col0\" >Log Experiment</td>\n",
       "      <td id=\"T_0a353_row21_col1\" class=\"data row21 col1\" >MlflowLogger</td>\n",
       "    </tr>\n",
       "    <tr>\n",
       "      <th id=\"T_0a353_level0_row22\" class=\"row_heading level0 row22\" >22</th>\n",
       "      <td id=\"T_0a353_row22_col0\" class=\"data row22 col0\" >Experiment Name</td>\n",
       "      <td id=\"T_0a353_row22_col1\" class=\"data row22 col1\" >clf-default-name</td>\n",
       "    </tr>\n",
       "    <tr>\n",
       "      <th id=\"T_0a353_level0_row23\" class=\"row_heading level0 row23\" >23</th>\n",
       "      <td id=\"T_0a353_row23_col0\" class=\"data row23 col0\" >USI</td>\n",
       "      <td id=\"T_0a353_row23_col1\" class=\"data row23 col1\" >b6e0</td>\n",
       "    </tr>\n",
       "  </tbody>\n",
       "</table>\n"
      ],
      "text/plain": [
       "<pandas.io.formats.style.Styler at 0x2a1129240>"
      ]
     },
     "metadata": {},
     "output_type": "display_data"
    }
   ],
   "source": [
    "model_test_tumor = setup(data=bc_data_scaled_encode, target='Tumour_Stage', session_id=42, log_experiment=True)"
   ]
  },
  {
   "cell_type": "code",
   "execution_count": 140,
   "id": "2cdcf3c6",
   "metadata": {
    "scrolled": true
   },
   "outputs": [
    {
     "data": {
      "text/html": [],
      "text/plain": [
       "<IPython.core.display.HTML object>"
      ]
     },
     "metadata": {},
     "output_type": "display_data"
    },
    {
     "data": {
      "text/html": [
       "<style type=\"text/css\">\n",
       "#T_ec504 th {\n",
       "  text-align: left;\n",
       "}\n",
       "#T_ec504_row0_col0, #T_ec504_row0_col2, #T_ec504_row0_col7, #T_ec504_row1_col0, #T_ec504_row1_col1, #T_ec504_row1_col3, #T_ec504_row1_col4, #T_ec504_row1_col5, #T_ec504_row1_col6, #T_ec504_row2_col0, #T_ec504_row2_col1, #T_ec504_row2_col2, #T_ec504_row2_col3, #T_ec504_row2_col4, #T_ec504_row2_col5, #T_ec504_row2_col6, #T_ec504_row2_col7, #T_ec504_row3_col0, #T_ec504_row3_col1, #T_ec504_row3_col2, #T_ec504_row3_col3, #T_ec504_row3_col4, #T_ec504_row3_col5, #T_ec504_row3_col6, #T_ec504_row3_col7, #T_ec504_row4_col0, #T_ec504_row4_col1, #T_ec504_row4_col2, #T_ec504_row4_col3, #T_ec504_row4_col4, #T_ec504_row4_col5, #T_ec504_row4_col6, #T_ec504_row4_col7, #T_ec504_row5_col0, #T_ec504_row5_col1, #T_ec504_row5_col2, #T_ec504_row5_col3, #T_ec504_row5_col4, #T_ec504_row5_col5, #T_ec504_row5_col6, #T_ec504_row5_col7, #T_ec504_row6_col0, #T_ec504_row6_col1, #T_ec504_row6_col2, #T_ec504_row6_col3, #T_ec504_row6_col4, #T_ec504_row6_col5, #T_ec504_row6_col6, #T_ec504_row6_col7, #T_ec504_row7_col0, #T_ec504_row7_col1, #T_ec504_row7_col2, #T_ec504_row7_col3, #T_ec504_row7_col4, #T_ec504_row7_col5, #T_ec504_row7_col6, #T_ec504_row7_col7, #T_ec504_row8_col0, #T_ec504_row8_col1, #T_ec504_row8_col2, #T_ec504_row8_col3, #T_ec504_row8_col4, #T_ec504_row8_col5, #T_ec504_row8_col6, #T_ec504_row8_col7, #T_ec504_row9_col0, #T_ec504_row9_col1, #T_ec504_row9_col2, #T_ec504_row9_col3, #T_ec504_row9_col4, #T_ec504_row9_col5, #T_ec504_row9_col6, #T_ec504_row9_col7, #T_ec504_row10_col0, #T_ec504_row10_col1, #T_ec504_row10_col2, #T_ec504_row10_col3, #T_ec504_row10_col4, #T_ec504_row10_col5, #T_ec504_row10_col6, #T_ec504_row10_col7, #T_ec504_row11_col0, #T_ec504_row11_col1, #T_ec504_row11_col2, #T_ec504_row11_col3, #T_ec504_row11_col4, #T_ec504_row11_col5, #T_ec504_row11_col6, #T_ec504_row11_col7, #T_ec504_row12_col0, #T_ec504_row12_col1, #T_ec504_row12_col2, #T_ec504_row12_col3, #T_ec504_row12_col4, #T_ec504_row12_col5, #T_ec504_row12_col6, #T_ec504_row12_col7 {\n",
       "  text-align: left;\n",
       "}\n",
       "#T_ec504_row0_col1, #T_ec504_row0_col3, #T_ec504_row0_col4, #T_ec504_row0_col5, #T_ec504_row0_col6, #T_ec504_row1_col2, #T_ec504_row1_col7 {\n",
       "  text-align: left;\n",
       "  background-color: yellow;\n",
       "}\n",
       "#T_ec504_row0_col8, #T_ec504_row1_col8, #T_ec504_row2_col8, #T_ec504_row3_col8, #T_ec504_row4_col8, #T_ec504_row5_col8, #T_ec504_row6_col8, #T_ec504_row8_col8, #T_ec504_row9_col8, #T_ec504_row10_col8, #T_ec504_row11_col8 {\n",
       "  text-align: left;\n",
       "  background-color: lightgrey;\n",
       "}\n",
       "#T_ec504_row7_col8, #T_ec504_row12_col8 {\n",
       "  text-align: left;\n",
       "  background-color: yellow;\n",
       "  background-color: lightgrey;\n",
       "}\n",
       "</style>\n",
       "<table id=\"T_ec504\">\n",
       "  <thead>\n",
       "    <tr>\n",
       "      <th class=\"blank level0\" >&nbsp;</th>\n",
       "      <th id=\"T_ec504_level0_col0\" class=\"col_heading level0 col0\" >Model</th>\n",
       "      <th id=\"T_ec504_level0_col1\" class=\"col_heading level0 col1\" >Accuracy</th>\n",
       "      <th id=\"T_ec504_level0_col2\" class=\"col_heading level0 col2\" >AUC</th>\n",
       "      <th id=\"T_ec504_level0_col3\" class=\"col_heading level0 col3\" >Recall</th>\n",
       "      <th id=\"T_ec504_level0_col4\" class=\"col_heading level0 col4\" >Prec.</th>\n",
       "      <th id=\"T_ec504_level0_col5\" class=\"col_heading level0 col5\" >F1</th>\n",
       "      <th id=\"T_ec504_level0_col6\" class=\"col_heading level0 col6\" >Kappa</th>\n",
       "      <th id=\"T_ec504_level0_col7\" class=\"col_heading level0 col7\" >MCC</th>\n",
       "      <th id=\"T_ec504_level0_col8\" class=\"col_heading level0 col8\" >TT (Sec)</th>\n",
       "    </tr>\n",
       "  </thead>\n",
       "  <tbody>\n",
       "    <tr>\n",
       "      <th id=\"T_ec504_level0_row0\" class=\"row_heading level0 row0\" >et</th>\n",
       "      <td id=\"T_ec504_row0_col0\" class=\"data row0 col0\" >Extra Trees Classifier</td>\n",
       "      <td id=\"T_ec504_row0_col1\" class=\"data row0 col1\" >0.7638</td>\n",
       "      <td id=\"T_ec504_row0_col2\" class=\"data row0 col2\" >0.8144</td>\n",
       "      <td id=\"T_ec504_row0_col3\" class=\"data row0 col3\" >0.7638</td>\n",
       "      <td id=\"T_ec504_row0_col4\" class=\"data row0 col4\" >0.7288</td>\n",
       "      <td id=\"T_ec504_row0_col5\" class=\"data row0 col5\" >0.7343</td>\n",
       "      <td id=\"T_ec504_row0_col6\" class=\"data row0 col6\" >0.5658</td>\n",
       "      <td id=\"T_ec504_row0_col7\" class=\"data row0 col7\" >0.5843</td>\n",
       "      <td id=\"T_ec504_row0_col8\" class=\"data row0 col8\" >0.0410</td>\n",
       "    </tr>\n",
       "    <tr>\n",
       "      <th id=\"T_ec504_level0_row1\" class=\"row_heading level0 row1\" >lr</th>\n",
       "      <td id=\"T_ec504_row1_col0\" class=\"data row1 col0\" >Logistic Regression</td>\n",
       "      <td id=\"T_ec504_row1_col1\" class=\"data row1 col1\" >0.7549</td>\n",
       "      <td id=\"T_ec504_row1_col2\" class=\"data row1 col2\" >0.8174</td>\n",
       "      <td id=\"T_ec504_row1_col3\" class=\"data row1 col3\" >0.7549</td>\n",
       "      <td id=\"T_ec504_row1_col4\" class=\"data row1 col4\" >0.7007</td>\n",
       "      <td id=\"T_ec504_row1_col5\" class=\"data row1 col5\" >0.6976</td>\n",
       "      <td id=\"T_ec504_row1_col6\" class=\"data row1 col6\" >0.5350</td>\n",
       "      <td id=\"T_ec504_row1_col7\" class=\"data row1 col7\" >0.5868</td>\n",
       "      <td id=\"T_ec504_row1_col8\" class=\"data row1 col8\" >0.3140</td>\n",
       "    </tr>\n",
       "    <tr>\n",
       "      <th id=\"T_ec504_level0_row2\" class=\"row_heading level0 row2\" >ridge</th>\n",
       "      <td id=\"T_ec504_row2_col0\" class=\"data row2 col0\" >Ridge Classifier</td>\n",
       "      <td id=\"T_ec504_row2_col1\" class=\"data row2 col1\" >0.7460</td>\n",
       "      <td id=\"T_ec504_row2_col2\" class=\"data row2 col2\" >0.0000</td>\n",
       "      <td id=\"T_ec504_row2_col3\" class=\"data row2 col3\" >0.7460</td>\n",
       "      <td id=\"T_ec504_row2_col4\" class=\"data row2 col4\" >0.6211</td>\n",
       "      <td id=\"T_ec504_row2_col5\" class=\"data row2 col5\" >0.6692</td>\n",
       "      <td id=\"T_ec504_row2_col6\" class=\"data row2 col6\" >0.5097</td>\n",
       "      <td id=\"T_ec504_row2_col7\" class=\"data row2 col7\" >0.5794</td>\n",
       "      <td id=\"T_ec504_row2_col8\" class=\"data row2 col8\" >0.0180</td>\n",
       "    </tr>\n",
       "    <tr>\n",
       "      <th id=\"T_ec504_level0_row3\" class=\"row_heading level0 row3\" >rf</th>\n",
       "      <td id=\"T_ec504_row3_col0\" class=\"data row3 col0\" >Random Forest Classifier</td>\n",
       "      <td id=\"T_ec504_row3_col1\" class=\"data row3 col1\" >0.7364</td>\n",
       "      <td id=\"T_ec504_row3_col2\" class=\"data row3 col2\" >0.7855</td>\n",
       "      <td id=\"T_ec504_row3_col3\" class=\"data row3 col3\" >0.7364</td>\n",
       "      <td id=\"T_ec504_row3_col4\" class=\"data row3 col4\" >0.6671</td>\n",
       "      <td id=\"T_ec504_row3_col5\" class=\"data row3 col5\" >0.6787</td>\n",
       "      <td id=\"T_ec504_row3_col6\" class=\"data row3 col6\" >0.5016</td>\n",
       "      <td id=\"T_ec504_row3_col7\" class=\"data row3 col7\" >0.5526</td>\n",
       "      <td id=\"T_ec504_row3_col8\" class=\"data row3 col8\" >0.0440</td>\n",
       "    </tr>\n",
       "    <tr>\n",
       "      <th id=\"T_ec504_level0_row4\" class=\"row_heading level0 row4\" >gbc</th>\n",
       "      <td id=\"T_ec504_row4_col0\" class=\"data row4 col0\" >Gradient Boosting Classifier</td>\n",
       "      <td id=\"T_ec504_row4_col1\" class=\"data row4 col1\" >0.7277</td>\n",
       "      <td id=\"T_ec504_row4_col2\" class=\"data row4 col2\" >0.7734</td>\n",
       "      <td id=\"T_ec504_row4_col3\" class=\"data row4 col3\" >0.7277</td>\n",
       "      <td id=\"T_ec504_row4_col4\" class=\"data row4 col4\" >0.6828</td>\n",
       "      <td id=\"T_ec504_row4_col5\" class=\"data row4 col5\" >0.6954</td>\n",
       "      <td id=\"T_ec504_row4_col6\" class=\"data row4 col6\" >0.4999</td>\n",
       "      <td id=\"T_ec504_row4_col7\" class=\"data row4 col7\" >0.5209</td>\n",
       "      <td id=\"T_ec504_row4_col8\" class=\"data row4 col8\" >0.0490</td>\n",
       "    </tr>\n",
       "    <tr>\n",
       "      <th id=\"T_ec504_level0_row5\" class=\"row_heading level0 row5\" >ada</th>\n",
       "      <td id=\"T_ec504_row5_col0\" class=\"data row5 col0\" >Ada Boost Classifier</td>\n",
       "      <td id=\"T_ec504_row5_col1\" class=\"data row5 col1\" >0.6917</td>\n",
       "      <td id=\"T_ec504_row5_col2\" class=\"data row5 col2\" >0.7614</td>\n",
       "      <td id=\"T_ec504_row5_col3\" class=\"data row5 col3\" >0.6917</td>\n",
       "      <td id=\"T_ec504_row5_col4\" class=\"data row5 col4\" >0.6513</td>\n",
       "      <td id=\"T_ec504_row5_col5\" class=\"data row5 col5\" >0.6631</td>\n",
       "      <td id=\"T_ec504_row5_col6\" class=\"data row5 col6\" >0.4420</td>\n",
       "      <td id=\"T_ec504_row5_col7\" class=\"data row5 col7\" >0.4581</td>\n",
       "      <td id=\"T_ec504_row5_col8\" class=\"data row5 col8\" >0.0220</td>\n",
       "    </tr>\n",
       "    <tr>\n",
       "      <th id=\"T_ec504_level0_row6\" class=\"row_heading level0 row6\" >svm</th>\n",
       "      <td id=\"T_ec504_row6_col0\" class=\"data row6 col0\" >SVM - Linear Kernel</td>\n",
       "      <td id=\"T_ec504_row6_col1\" class=\"data row6 col1\" >0.6794</td>\n",
       "      <td id=\"T_ec504_row6_col2\" class=\"data row6 col2\" >0.0000</td>\n",
       "      <td id=\"T_ec504_row6_col3\" class=\"data row6 col3\" >0.6794</td>\n",
       "      <td id=\"T_ec504_row6_col4\" class=\"data row6 col4\" >0.6659</td>\n",
       "      <td id=\"T_ec504_row6_col5\" class=\"data row6 col5\" >0.6623</td>\n",
       "      <td id=\"T_ec504_row6_col6\" class=\"data row6 col6\" >0.4511</td>\n",
       "      <td id=\"T_ec504_row6_col7\" class=\"data row6 col7\" >0.4780</td>\n",
       "      <td id=\"T_ec504_row6_col8\" class=\"data row6 col8\" >0.0180</td>\n",
       "    </tr>\n",
       "    <tr>\n",
       "      <th id=\"T_ec504_level0_row7\" class=\"row_heading level0 row7\" >dt</th>\n",
       "      <td id=\"T_ec504_row7_col0\" class=\"data row7 col0\" >Decision Tree Classifier</td>\n",
       "      <td id=\"T_ec504_row7_col1\" class=\"data row7 col1\" >0.6565</td>\n",
       "      <td id=\"T_ec504_row7_col2\" class=\"data row7 col2\" >0.6916</td>\n",
       "      <td id=\"T_ec504_row7_col3\" class=\"data row7 col3\" >0.6565</td>\n",
       "      <td id=\"T_ec504_row7_col4\" class=\"data row7 col4\" >0.6599</td>\n",
       "      <td id=\"T_ec504_row7_col5\" class=\"data row7 col5\" >0.6548</td>\n",
       "      <td id=\"T_ec504_row7_col6\" class=\"data row7 col6\" >0.4150</td>\n",
       "      <td id=\"T_ec504_row7_col7\" class=\"data row7 col7\" >0.4194</td>\n",
       "      <td id=\"T_ec504_row7_col8\" class=\"data row7 col8\" >0.0140</td>\n",
       "    </tr>\n",
       "    <tr>\n",
       "      <th id=\"T_ec504_level0_row8\" class=\"row_heading level0 row8\" >knn</th>\n",
       "      <td id=\"T_ec504_row8_col0\" class=\"data row8 col0\" >K Neighbors Classifier</td>\n",
       "      <td id=\"T_ec504_row8_col1\" class=\"data row8 col1\" >0.6126</td>\n",
       "      <td id=\"T_ec504_row8_col2\" class=\"data row8 col2\" >0.6482</td>\n",
       "      <td id=\"T_ec504_row8_col3\" class=\"data row8 col3\" >0.6126</td>\n",
       "      <td id=\"T_ec504_row8_col4\" class=\"data row8 col4\" >0.6021</td>\n",
       "      <td id=\"T_ec504_row8_col5\" class=\"data row8 col5\" >0.5819</td>\n",
       "      <td id=\"T_ec504_row8_col6\" class=\"data row8 col6\" >0.2906</td>\n",
       "      <td id=\"T_ec504_row8_col7\" class=\"data row8 col7\" >0.3208</td>\n",
       "      <td id=\"T_ec504_row8_col8\" class=\"data row8 col8\" >0.0200</td>\n",
       "    </tr>\n",
       "    <tr>\n",
       "      <th id=\"T_ec504_level0_row9\" class=\"row_heading level0 row9\" >qda</th>\n",
       "      <td id=\"T_ec504_row9_col0\" class=\"data row9 col0\" >Quadratic Discriminant Analysis</td>\n",
       "      <td id=\"T_ec504_row9_col1\" class=\"data row9 col1\" >0.5947</td>\n",
       "      <td id=\"T_ec504_row9_col2\" class=\"data row9 col2\" >0.6996</td>\n",
       "      <td id=\"T_ec504_row9_col3\" class=\"data row9 col3\" >0.5947</td>\n",
       "      <td id=\"T_ec504_row9_col4\" class=\"data row9 col4\" >0.6321</td>\n",
       "      <td id=\"T_ec504_row9_col5\" class=\"data row9 col5\" >0.5752</td>\n",
       "      <td id=\"T_ec504_row9_col6\" class=\"data row9 col6\" >0.3317</td>\n",
       "      <td id=\"T_ec504_row9_col7\" class=\"data row9 col7\" >0.3693</td>\n",
       "      <td id=\"T_ec504_row9_col8\" class=\"data row9 col8\" >0.0160</td>\n",
       "    </tr>\n",
       "    <tr>\n",
       "      <th id=\"T_ec504_level0_row10\" class=\"row_heading level0 row10\" >dummy</th>\n",
       "      <td id=\"T_ec504_row10_col0\" class=\"data row10 col0\" >Dummy Classifier</td>\n",
       "      <td id=\"T_ec504_row10_col1\" class=\"data row10 col1\" >0.5676</td>\n",
       "      <td id=\"T_ec504_row10_col2\" class=\"data row10 col2\" >0.5000</td>\n",
       "      <td id=\"T_ec504_row10_col3\" class=\"data row10 col3\" >0.5676</td>\n",
       "      <td id=\"T_ec504_row10_col4\" class=\"data row10 col4\" >0.3231</td>\n",
       "      <td id=\"T_ec504_row10_col5\" class=\"data row10 col5\" >0.4115</td>\n",
       "      <td id=\"T_ec504_row10_col6\" class=\"data row10 col6\" >0.0000</td>\n",
       "      <td id=\"T_ec504_row10_col7\" class=\"data row10 col7\" >0.0000</td>\n",
       "      <td id=\"T_ec504_row10_col8\" class=\"data row10 col8\" >0.2730</td>\n",
       "    </tr>\n",
       "    <tr>\n",
       "      <th id=\"T_ec504_level0_row11\" class=\"row_heading level0 row11\" >lda</th>\n",
       "      <td id=\"T_ec504_row11_col0\" class=\"data row11 col0\" >Linear Discriminant Analysis</td>\n",
       "      <td id=\"T_ec504_row11_col1\" class=\"data row11 col1\" >0.5496</td>\n",
       "      <td id=\"T_ec504_row11_col2\" class=\"data row11 col2\" >0.6104</td>\n",
       "      <td id=\"T_ec504_row11_col3\" class=\"data row11 col3\" >0.5496</td>\n",
       "      <td id=\"T_ec504_row11_col4\" class=\"data row11 col4\" >0.4662</td>\n",
       "      <td id=\"T_ec504_row11_col5\" class=\"data row11 col5\" >0.4708</td>\n",
       "      <td id=\"T_ec504_row11_col6\" class=\"data row11 col6\" >0.0769</td>\n",
       "      <td id=\"T_ec504_row11_col7\" class=\"data row11 col7\" >0.0777</td>\n",
       "      <td id=\"T_ec504_row11_col8\" class=\"data row11 col8\" >0.0150</td>\n",
       "    </tr>\n",
       "    <tr>\n",
       "      <th id=\"T_ec504_level0_row12\" class=\"row_heading level0 row12\" >nb</th>\n",
       "      <td id=\"T_ec504_row12_col0\" class=\"data row12 col0\" >Naive Bayes</td>\n",
       "      <td id=\"T_ec504_row12_col1\" class=\"data row12 col1\" >0.4551</td>\n",
       "      <td id=\"T_ec504_row12_col2\" class=\"data row12 col2\" >0.8050</td>\n",
       "      <td id=\"T_ec504_row12_col3\" class=\"data row12 col3\" >0.4551</td>\n",
       "      <td id=\"T_ec504_row12_col4\" class=\"data row12 col4\" >0.4687</td>\n",
       "      <td id=\"T_ec504_row12_col5\" class=\"data row12 col5\" >0.3512</td>\n",
       "      <td id=\"T_ec504_row12_col6\" class=\"data row12 col6\" >0.2818</td>\n",
       "      <td id=\"T_ec504_row12_col7\" class=\"data row12 col7\" >0.4715</td>\n",
       "      <td id=\"T_ec504_row12_col8\" class=\"data row12 col8\" >0.0140</td>\n",
       "    </tr>\n",
       "  </tbody>\n",
       "</table>\n"
      ],
      "text/plain": [
       "<pandas.io.formats.style.Styler at 0x28d2fb310>"
      ]
     },
     "metadata": {},
     "output_type": "display_data"
    },
    {
     "data": {
      "text/html": [],
      "text/plain": [
       "<IPython.core.display.HTML object>"
      ]
     },
     "metadata": {},
     "output_type": "display_data"
    }
   ],
   "source": [
    "Best_models_tumor = model_test_tumor.compare_models()"
   ]
  },
  {
   "cell_type": "markdown",
   "id": "4dbc6400",
   "metadata": {},
   "source": [
    "Using pycaret, we can see that the logistic regression model has the highest accuracy with regards to accuracy, recall, precision, and F1. While the ridge classifier has similar accuracy, recall, and etc. to that of logisitic regression, the area under the curve is 0, showing that the model is no better than random chance. ada boost classifier may also be a model to explore, as it has similar accuract to that of logisitic regression but its AUC is slightly higher. "
   ]
  },
  {
   "cell_type": "code",
   "execution_count": 142,
   "id": "27b283ad",
   "metadata": {},
   "outputs": [
    {
     "data": {
      "text/html": [
       "<style type=\"text/css\">\n",
       "#T_e06d4_row10_col1 {\n",
       "  background-color: lightgreen;\n",
       "}\n",
       "</style>\n",
       "<table id=\"T_e06d4\">\n",
       "  <thead>\n",
       "    <tr>\n",
       "      <th class=\"blank level0\" >&nbsp;</th>\n",
       "      <th id=\"T_e06d4_level0_col0\" class=\"col_heading level0 col0\" >Description</th>\n",
       "      <th id=\"T_e06d4_level0_col1\" class=\"col_heading level0 col1\" >Value</th>\n",
       "    </tr>\n",
       "  </thead>\n",
       "  <tbody>\n",
       "    <tr>\n",
       "      <th id=\"T_e06d4_level0_row0\" class=\"row_heading level0 row0\" >0</th>\n",
       "      <td id=\"T_e06d4_row0_col0\" class=\"data row0 col0\" >Session id</td>\n",
       "      <td id=\"T_e06d4_row0_col1\" class=\"data row0 col1\" >42</td>\n",
       "    </tr>\n",
       "    <tr>\n",
       "      <th id=\"T_e06d4_level0_row1\" class=\"row_heading level0 row1\" >1</th>\n",
       "      <td id=\"T_e06d4_row1_col0\" class=\"data row1 col0\" >Target</td>\n",
       "      <td id=\"T_e06d4_row1_col1\" class=\"data row1 col1\" >Patient_Status_Alive</td>\n",
       "    </tr>\n",
       "    <tr>\n",
       "      <th id=\"T_e06d4_level0_row2\" class=\"row_heading level0 row2\" >2</th>\n",
       "      <td id=\"T_e06d4_row2_col0\" class=\"data row2 col0\" >Target type</td>\n",
       "      <td id=\"T_e06d4_row2_col1\" class=\"data row2 col1\" >Binary</td>\n",
       "    </tr>\n",
       "    <tr>\n",
       "      <th id=\"T_e06d4_level0_row3\" class=\"row_heading level0 row3\" >3</th>\n",
       "      <td id=\"T_e06d4_row3_col0\" class=\"data row3 col0\" >Original data shape</td>\n",
       "      <td id=\"T_e06d4_row3_col1\" class=\"data row3 col1\" >(321, 18)</td>\n",
       "    </tr>\n",
       "    <tr>\n",
       "      <th id=\"T_e06d4_level0_row4\" class=\"row_heading level0 row4\" >4</th>\n",
       "      <td id=\"T_e06d4_row4_col0\" class=\"data row4 col0\" >Transformed data shape</td>\n",
       "      <td id=\"T_e06d4_row4_col1\" class=\"data row4 col1\" >(321, 20)</td>\n",
       "    </tr>\n",
       "    <tr>\n",
       "      <th id=\"T_e06d4_level0_row5\" class=\"row_heading level0 row5\" >5</th>\n",
       "      <td id=\"T_e06d4_row5_col0\" class=\"data row5 col0\" >Transformed train set shape</td>\n",
       "      <td id=\"T_e06d4_row5_col1\" class=\"data row5 col1\" >(224, 20)</td>\n",
       "    </tr>\n",
       "    <tr>\n",
       "      <th id=\"T_e06d4_level0_row6\" class=\"row_heading level0 row6\" >6</th>\n",
       "      <td id=\"T_e06d4_row6_col0\" class=\"data row6 col0\" >Transformed test set shape</td>\n",
       "      <td id=\"T_e06d4_row6_col1\" class=\"data row6 col1\" >(97, 20)</td>\n",
       "    </tr>\n",
       "    <tr>\n",
       "      <th id=\"T_e06d4_level0_row7\" class=\"row_heading level0 row7\" >7</th>\n",
       "      <td id=\"T_e06d4_row7_col0\" class=\"data row7 col0\" >Ordinal features</td>\n",
       "      <td id=\"T_e06d4_row7_col1\" class=\"data row7 col1\" >10</td>\n",
       "    </tr>\n",
       "    <tr>\n",
       "      <th id=\"T_e06d4_level0_row8\" class=\"row_heading level0 row8\" >8</th>\n",
       "      <td id=\"T_e06d4_row8_col0\" class=\"data row8 col0\" >Numeric features</td>\n",
       "      <td id=\"T_e06d4_row8_col1\" class=\"data row8 col1\" >6</td>\n",
       "    </tr>\n",
       "    <tr>\n",
       "      <th id=\"T_e06d4_level0_row9\" class=\"row_heading level0 row9\" >9</th>\n",
       "      <td id=\"T_e06d4_row9_col0\" class=\"data row9 col0\" >Categorical features</td>\n",
       "      <td id=\"T_e06d4_row9_col1\" class=\"data row9 col1\" >11</td>\n",
       "    </tr>\n",
       "    <tr>\n",
       "      <th id=\"T_e06d4_level0_row10\" class=\"row_heading level0 row10\" >10</th>\n",
       "      <td id=\"T_e06d4_row10_col0\" class=\"data row10 col0\" >Preprocess</td>\n",
       "      <td id=\"T_e06d4_row10_col1\" class=\"data row10 col1\" >True</td>\n",
       "    </tr>\n",
       "    <tr>\n",
       "      <th id=\"T_e06d4_level0_row11\" class=\"row_heading level0 row11\" >11</th>\n",
       "      <td id=\"T_e06d4_row11_col0\" class=\"data row11 col0\" >Imputation type</td>\n",
       "      <td id=\"T_e06d4_row11_col1\" class=\"data row11 col1\" >simple</td>\n",
       "    </tr>\n",
       "    <tr>\n",
       "      <th id=\"T_e06d4_level0_row12\" class=\"row_heading level0 row12\" >12</th>\n",
       "      <td id=\"T_e06d4_row12_col0\" class=\"data row12 col0\" >Numeric imputation</td>\n",
       "      <td id=\"T_e06d4_row12_col1\" class=\"data row12 col1\" >mean</td>\n",
       "    </tr>\n",
       "    <tr>\n",
       "      <th id=\"T_e06d4_level0_row13\" class=\"row_heading level0 row13\" >13</th>\n",
       "      <td id=\"T_e06d4_row13_col0\" class=\"data row13 col0\" >Categorical imputation</td>\n",
       "      <td id=\"T_e06d4_row13_col1\" class=\"data row13 col1\" >mode</td>\n",
       "    </tr>\n",
       "    <tr>\n",
       "      <th id=\"T_e06d4_level0_row14\" class=\"row_heading level0 row14\" >14</th>\n",
       "      <td id=\"T_e06d4_row14_col0\" class=\"data row14 col0\" >Maximum one-hot encoding</td>\n",
       "      <td id=\"T_e06d4_row14_col1\" class=\"data row14 col1\" >25</td>\n",
       "    </tr>\n",
       "    <tr>\n",
       "      <th id=\"T_e06d4_level0_row15\" class=\"row_heading level0 row15\" >15</th>\n",
       "      <td id=\"T_e06d4_row15_col0\" class=\"data row15 col0\" >Encoding method</td>\n",
       "      <td id=\"T_e06d4_row15_col1\" class=\"data row15 col1\" >None</td>\n",
       "    </tr>\n",
       "    <tr>\n",
       "      <th id=\"T_e06d4_level0_row16\" class=\"row_heading level0 row16\" >16</th>\n",
       "      <td id=\"T_e06d4_row16_col0\" class=\"data row16 col0\" >Fold Generator</td>\n",
       "      <td id=\"T_e06d4_row16_col1\" class=\"data row16 col1\" >StratifiedKFold</td>\n",
       "    </tr>\n",
       "    <tr>\n",
       "      <th id=\"T_e06d4_level0_row17\" class=\"row_heading level0 row17\" >17</th>\n",
       "      <td id=\"T_e06d4_row17_col0\" class=\"data row17 col0\" >Fold Number</td>\n",
       "      <td id=\"T_e06d4_row17_col1\" class=\"data row17 col1\" >10</td>\n",
       "    </tr>\n",
       "    <tr>\n",
       "      <th id=\"T_e06d4_level0_row18\" class=\"row_heading level0 row18\" >18</th>\n",
       "      <td id=\"T_e06d4_row18_col0\" class=\"data row18 col0\" >CPU Jobs</td>\n",
       "      <td id=\"T_e06d4_row18_col1\" class=\"data row18 col1\" >-1</td>\n",
       "    </tr>\n",
       "    <tr>\n",
       "      <th id=\"T_e06d4_level0_row19\" class=\"row_heading level0 row19\" >19</th>\n",
       "      <td id=\"T_e06d4_row19_col0\" class=\"data row19 col0\" >Use GPU</td>\n",
       "      <td id=\"T_e06d4_row19_col1\" class=\"data row19 col1\" >False</td>\n",
       "    </tr>\n",
       "    <tr>\n",
       "      <th id=\"T_e06d4_level0_row20\" class=\"row_heading level0 row20\" >20</th>\n",
       "      <td id=\"T_e06d4_row20_col0\" class=\"data row20 col0\" >Log Experiment</td>\n",
       "      <td id=\"T_e06d4_row20_col1\" class=\"data row20 col1\" >MlflowLogger</td>\n",
       "    </tr>\n",
       "    <tr>\n",
       "      <th id=\"T_e06d4_level0_row21\" class=\"row_heading level0 row21\" >21</th>\n",
       "      <td id=\"T_e06d4_row21_col0\" class=\"data row21 col0\" >Experiment Name</td>\n",
       "      <td id=\"T_e06d4_row21_col1\" class=\"data row21 col1\" >clf-default-name</td>\n",
       "    </tr>\n",
       "    <tr>\n",
       "      <th id=\"T_e06d4_level0_row22\" class=\"row_heading level0 row22\" >22</th>\n",
       "      <td id=\"T_e06d4_row22_col0\" class=\"data row22 col0\" >USI</td>\n",
       "      <td id=\"T_e06d4_row22_col1\" class=\"data row22 col1\" >d0ad</td>\n",
       "    </tr>\n",
       "  </tbody>\n",
       "</table>\n"
      ],
      "text/plain": [
       "<pandas.io.formats.style.Styler at 0x2a118e350>"
      ]
     },
     "metadata": {},
     "output_type": "display_data"
    }
   ],
   "source": [
    "model_test_status = setup(data=bc_data_scaled_encode, target='Patient_Status_Alive', session_id=42, log_experiment=True)"
   ]
  },
  {
   "cell_type": "code",
   "execution_count": 143,
   "id": "1743dc63",
   "metadata": {},
   "outputs": [
    {
     "data": {
      "text/html": [],
      "text/plain": [
       "<IPython.core.display.HTML object>"
      ]
     },
     "metadata": {},
     "output_type": "display_data"
    },
    {
     "data": {
      "text/html": [
       "<style type=\"text/css\">\n",
       "#T_f0acc th {\n",
       "  text-align: left;\n",
       "}\n",
       "#T_f0acc_row0_col0, #T_f0acc_row0_col2, #T_f0acc_row0_col3, #T_f0acc_row0_col4, #T_f0acc_row0_col5, #T_f0acc_row0_col6, #T_f0acc_row0_col7, #T_f0acc_row1_col0, #T_f0acc_row1_col1, #T_f0acc_row1_col2, #T_f0acc_row1_col4, #T_f0acc_row1_col6, #T_f0acc_row1_col7, #T_f0acc_row2_col0, #T_f0acc_row2_col1, #T_f0acc_row2_col2, #T_f0acc_row2_col4, #T_f0acc_row2_col6, #T_f0acc_row2_col7, #T_f0acc_row3_col0, #T_f0acc_row3_col1, #T_f0acc_row3_col2, #T_f0acc_row3_col4, #T_f0acc_row3_col6, #T_f0acc_row3_col7, #T_f0acc_row4_col0, #T_f0acc_row4_col1, #T_f0acc_row4_col2, #T_f0acc_row4_col3, #T_f0acc_row4_col4, #T_f0acc_row4_col5, #T_f0acc_row4_col6, #T_f0acc_row4_col7, #T_f0acc_row5_col0, #T_f0acc_row5_col1, #T_f0acc_row5_col2, #T_f0acc_row5_col3, #T_f0acc_row5_col4, #T_f0acc_row5_col5, #T_f0acc_row5_col6, #T_f0acc_row5_col7, #T_f0acc_row6_col0, #T_f0acc_row6_col1, #T_f0acc_row6_col2, #T_f0acc_row6_col3, #T_f0acc_row6_col4, #T_f0acc_row6_col5, #T_f0acc_row6_col6, #T_f0acc_row6_col7, #T_f0acc_row7_col0, #T_f0acc_row7_col1, #T_f0acc_row7_col2, #T_f0acc_row7_col3, #T_f0acc_row7_col4, #T_f0acc_row7_col5, #T_f0acc_row7_col6, #T_f0acc_row7_col7, #T_f0acc_row8_col0, #T_f0acc_row8_col1, #T_f0acc_row8_col2, #T_f0acc_row8_col3, #T_f0acc_row8_col4, #T_f0acc_row8_col5, #T_f0acc_row8_col6, #T_f0acc_row8_col7, #T_f0acc_row9_col0, #T_f0acc_row9_col1, #T_f0acc_row9_col2, #T_f0acc_row9_col3, #T_f0acc_row9_col4, #T_f0acc_row9_col5, #T_f0acc_row9_col6, #T_f0acc_row9_col7, #T_f0acc_row10_col0, #T_f0acc_row10_col1, #T_f0acc_row10_col2, #T_f0acc_row10_col3, #T_f0acc_row10_col5, #T_f0acc_row10_col6, #T_f0acc_row10_col7, #T_f0acc_row11_col0, #T_f0acc_row11_col1, #T_f0acc_row11_col3, #T_f0acc_row11_col4, #T_f0acc_row11_col5, #T_f0acc_row12_col0, #T_f0acc_row12_col1, #T_f0acc_row12_col2, #T_f0acc_row12_col3, #T_f0acc_row12_col4, #T_f0acc_row12_col5, #T_f0acc_row12_col6, #T_f0acc_row12_col7 {\n",
       "  text-align: left;\n",
       "}\n",
       "#T_f0acc_row0_col1, #T_f0acc_row1_col3, #T_f0acc_row1_col5, #T_f0acc_row2_col3, #T_f0acc_row2_col5, #T_f0acc_row3_col3, #T_f0acc_row3_col5, #T_f0acc_row10_col4, #T_f0acc_row11_col2, #T_f0acc_row11_col6, #T_f0acc_row11_col7 {\n",
       "  text-align: left;\n",
       "  background-color: yellow;\n",
       "}\n",
       "#T_f0acc_row0_col8, #T_f0acc_row1_col8, #T_f0acc_row2_col8, #T_f0acc_row3_col8, #T_f0acc_row5_col8, #T_f0acc_row6_col8, #T_f0acc_row7_col8, #T_f0acc_row8_col8, #T_f0acc_row9_col8, #T_f0acc_row10_col8, #T_f0acc_row11_col8, #T_f0acc_row12_col8 {\n",
       "  text-align: left;\n",
       "  background-color: lightgrey;\n",
       "}\n",
       "#T_f0acc_row4_col8 {\n",
       "  text-align: left;\n",
       "  background-color: yellow;\n",
       "  background-color: lightgrey;\n",
       "}\n",
       "</style>\n",
       "<table id=\"T_f0acc\">\n",
       "  <thead>\n",
       "    <tr>\n",
       "      <th class=\"blank level0\" >&nbsp;</th>\n",
       "      <th id=\"T_f0acc_level0_col0\" class=\"col_heading level0 col0\" >Model</th>\n",
       "      <th id=\"T_f0acc_level0_col1\" class=\"col_heading level0 col1\" >Accuracy</th>\n",
       "      <th id=\"T_f0acc_level0_col2\" class=\"col_heading level0 col2\" >AUC</th>\n",
       "      <th id=\"T_f0acc_level0_col3\" class=\"col_heading level0 col3\" >Recall</th>\n",
       "      <th id=\"T_f0acc_level0_col4\" class=\"col_heading level0 col4\" >Prec.</th>\n",
       "      <th id=\"T_f0acc_level0_col5\" class=\"col_heading level0 col5\" >F1</th>\n",
       "      <th id=\"T_f0acc_level0_col6\" class=\"col_heading level0 col6\" >Kappa</th>\n",
       "      <th id=\"T_f0acc_level0_col7\" class=\"col_heading level0 col7\" >MCC</th>\n",
       "      <th id=\"T_f0acc_level0_col8\" class=\"col_heading level0 col8\" >TT (Sec)</th>\n",
       "    </tr>\n",
       "  </thead>\n",
       "  <tbody>\n",
       "    <tr>\n",
       "      <th id=\"T_f0acc_level0_row0\" class=\"row_heading level0 row0\" >rf</th>\n",
       "      <td id=\"T_f0acc_row0_col0\" class=\"data row0 col0\" >Random Forest Classifier</td>\n",
       "      <td id=\"T_f0acc_row0_col1\" class=\"data row0 col1\" >0.7951</td>\n",
       "      <td id=\"T_f0acc_row0_col2\" class=\"data row0 col2\" >0.4927</td>\n",
       "      <td id=\"T_f0acc_row0_col3\" class=\"data row0 col3\" >0.9889</td>\n",
       "      <td id=\"T_f0acc_row0_col4\" class=\"data row0 col4\" >0.8010</td>\n",
       "      <td id=\"T_f0acc_row0_col5\" class=\"data row0 col5\" >0.8846</td>\n",
       "      <td id=\"T_f0acc_row0_col6\" class=\"data row0 col6\" >0.0516</td>\n",
       "      <td id=\"T_f0acc_row0_col7\" class=\"data row0 col7\" >0.0611</td>\n",
       "      <td id=\"T_f0acc_row0_col8\" class=\"data row0 col8\" >0.0430</td>\n",
       "    </tr>\n",
       "    <tr>\n",
       "      <th id=\"T_f0acc_level0_row1\" class=\"row_heading level0 row1\" >lr</th>\n",
       "      <td id=\"T_f0acc_row1_col0\" class=\"data row1 col0\" >Logistic Regression</td>\n",
       "      <td id=\"T_f0acc_row1_col1\" class=\"data row1 col1\" >0.7949</td>\n",
       "      <td id=\"T_f0acc_row1_col2\" class=\"data row1 col2\" >0.4806</td>\n",
       "      <td id=\"T_f0acc_row1_col3\" class=\"data row1 col3\" >1.0000</td>\n",
       "      <td id=\"T_f0acc_row1_col4\" class=\"data row1 col4\" >0.7949</td>\n",
       "      <td id=\"T_f0acc_row1_col5\" class=\"data row1 col5\" >0.8856</td>\n",
       "      <td id=\"T_f0acc_row1_col6\" class=\"data row1 col6\" >0.0000</td>\n",
       "      <td id=\"T_f0acc_row1_col7\" class=\"data row1 col7\" >0.0000</td>\n",
       "      <td id=\"T_f0acc_row1_col8\" class=\"data row1 col8\" >0.0250</td>\n",
       "    </tr>\n",
       "    <tr>\n",
       "      <th id=\"T_f0acc_level0_row2\" class=\"row_heading level0 row2\" >ridge</th>\n",
       "      <td id=\"T_f0acc_row2_col0\" class=\"data row2 col0\" >Ridge Classifier</td>\n",
       "      <td id=\"T_f0acc_row2_col1\" class=\"data row2 col1\" >0.7949</td>\n",
       "      <td id=\"T_f0acc_row2_col2\" class=\"data row2 col2\" >0.0000</td>\n",
       "      <td id=\"T_f0acc_row2_col3\" class=\"data row2 col3\" >1.0000</td>\n",
       "      <td id=\"T_f0acc_row2_col4\" class=\"data row2 col4\" >0.7949</td>\n",
       "      <td id=\"T_f0acc_row2_col5\" class=\"data row2 col5\" >0.8856</td>\n",
       "      <td id=\"T_f0acc_row2_col6\" class=\"data row2 col6\" >0.0000</td>\n",
       "      <td id=\"T_f0acc_row2_col7\" class=\"data row2 col7\" >0.0000</td>\n",
       "      <td id=\"T_f0acc_row2_col8\" class=\"data row2 col8\" >0.0170</td>\n",
       "    </tr>\n",
       "    <tr>\n",
       "      <th id=\"T_f0acc_level0_row3\" class=\"row_heading level0 row3\" >dummy</th>\n",
       "      <td id=\"T_f0acc_row3_col0\" class=\"data row3 col0\" >Dummy Classifier</td>\n",
       "      <td id=\"T_f0acc_row3_col1\" class=\"data row3 col1\" >0.7949</td>\n",
       "      <td id=\"T_f0acc_row3_col2\" class=\"data row3 col2\" >0.5000</td>\n",
       "      <td id=\"T_f0acc_row3_col3\" class=\"data row3 col3\" >1.0000</td>\n",
       "      <td id=\"T_f0acc_row3_col4\" class=\"data row3 col4\" >0.7949</td>\n",
       "      <td id=\"T_f0acc_row3_col5\" class=\"data row3 col5\" >0.8856</td>\n",
       "      <td id=\"T_f0acc_row3_col6\" class=\"data row3 col6\" >0.0000</td>\n",
       "      <td id=\"T_f0acc_row3_col7\" class=\"data row3 col7\" >0.0000</td>\n",
       "      <td id=\"T_f0acc_row3_col8\" class=\"data row3 col8\" >0.2560</td>\n",
       "    </tr>\n",
       "    <tr>\n",
       "      <th id=\"T_f0acc_level0_row4\" class=\"row_heading level0 row4\" >lda</th>\n",
       "      <td id=\"T_f0acc_row4_col0\" class=\"data row4 col0\" >Linear Discriminant Analysis</td>\n",
       "      <td id=\"T_f0acc_row4_col1\" class=\"data row4 col1\" >0.7862</td>\n",
       "      <td id=\"T_f0acc_row4_col2\" class=\"data row4 col2\" >0.4650</td>\n",
       "      <td id=\"T_f0acc_row4_col3\" class=\"data row4 col3\" >0.9889</td>\n",
       "      <td id=\"T_f0acc_row4_col4\" class=\"data row4 col4\" >0.7928</td>\n",
       "      <td id=\"T_f0acc_row4_col5\" class=\"data row4 col5\" >0.8798</td>\n",
       "      <td id=\"T_f0acc_row4_col6\" class=\"data row4 col6\" >-0.0142</td>\n",
       "      <td id=\"T_f0acc_row4_col7\" class=\"data row4 col7\" >-0.0163</td>\n",
       "      <td id=\"T_f0acc_row4_col8\" class=\"data row4 col8\" >0.0150</td>\n",
       "    </tr>\n",
       "    <tr>\n",
       "      <th id=\"T_f0acc_level0_row5\" class=\"row_heading level0 row5\" >gbc</th>\n",
       "      <td id=\"T_f0acc_row5_col0\" class=\"data row5 col0\" >Gradient Boosting Classifier</td>\n",
       "      <td id=\"T_f0acc_row5_col1\" class=\"data row5 col1\" >0.7723</td>\n",
       "      <td id=\"T_f0acc_row5_col2\" class=\"data row5 col2\" >0.4850</td>\n",
       "      <td id=\"T_f0acc_row5_col3\" class=\"data row5 col3\" >0.9608</td>\n",
       "      <td id=\"T_f0acc_row5_col4\" class=\"data row5 col4\" >0.7964</td>\n",
       "      <td id=\"T_f0acc_row5_col5\" class=\"data row5 col5\" >0.8700</td>\n",
       "      <td id=\"T_f0acc_row5_col6\" class=\"data row5 col6\" >0.0130</td>\n",
       "      <td id=\"T_f0acc_row5_col7\" class=\"data row5 col7\" >0.0136</td>\n",
       "      <td id=\"T_f0acc_row5_col8\" class=\"data row5 col8\" >0.0260</td>\n",
       "    </tr>\n",
       "    <tr>\n",
       "      <th id=\"T_f0acc_level0_row6\" class=\"row_heading level0 row6\" >et</th>\n",
       "      <td id=\"T_f0acc_row6_col0\" class=\"data row6 col0\" >Extra Trees Classifier</td>\n",
       "      <td id=\"T_f0acc_row6_col1\" class=\"data row6 col1\" >0.7547</td>\n",
       "      <td id=\"T_f0acc_row6_col2\" class=\"data row6 col2\" >0.5570</td>\n",
       "      <td id=\"T_f0acc_row6_col3\" class=\"data row6 col3\" >0.9386</td>\n",
       "      <td id=\"T_f0acc_row6_col4\" class=\"data row6 col4\" >0.7908</td>\n",
       "      <td id=\"T_f0acc_row6_col5\" class=\"data row6 col5\" >0.8571</td>\n",
       "      <td id=\"T_f0acc_row6_col6\" class=\"data row6 col6\" >-0.0066</td>\n",
       "      <td id=\"T_f0acc_row6_col7\" class=\"data row6 col7\" >0.0070</td>\n",
       "      <td id=\"T_f0acc_row6_col8\" class=\"data row6 col8\" >0.0400</td>\n",
       "    </tr>\n",
       "    <tr>\n",
       "      <th id=\"T_f0acc_level0_row7\" class=\"row_heading level0 row7\" >knn</th>\n",
       "      <td id=\"T_f0acc_row7_col0\" class=\"data row7 col0\" >K Neighbors Classifier</td>\n",
       "      <td id=\"T_f0acc_row7_col1\" class=\"data row7 col1\" >0.7379</td>\n",
       "      <td id=\"T_f0acc_row7_col2\" class=\"data row7 col2\" >0.4856</td>\n",
       "      <td id=\"T_f0acc_row7_col3\" class=\"data row7 col3\" >0.9222</td>\n",
       "      <td id=\"T_f0acc_row7_col4\" class=\"data row7 col4\" >0.7838</td>\n",
       "      <td id=\"T_f0acc_row7_col5\" class=\"data row7 col5\" >0.8464</td>\n",
       "      <td id=\"T_f0acc_row7_col6\" class=\"data row7 col6\" >-0.0567</td>\n",
       "      <td id=\"T_f0acc_row7_col7\" class=\"data row7 col7\" >-0.0555</td>\n",
       "      <td id=\"T_f0acc_row7_col8\" class=\"data row7 col8\" >0.0180</td>\n",
       "    </tr>\n",
       "    <tr>\n",
       "      <th id=\"T_f0acc_level0_row8\" class=\"row_heading level0 row8\" >dt</th>\n",
       "      <td id=\"T_f0acc_row8_col0\" class=\"data row8 col0\" >Decision Tree Classifier</td>\n",
       "      <td id=\"T_f0acc_row8_col1\" class=\"data row8 col1\" >0.6615</td>\n",
       "      <td id=\"T_f0acc_row8_col2\" class=\"data row8 col2\" >0.4908</td>\n",
       "      <td id=\"T_f0acc_row8_col3\" class=\"data row8 col3\" >0.7817</td>\n",
       "      <td id=\"T_f0acc_row8_col4\" class=\"data row8 col4\" >0.7922</td>\n",
       "      <td id=\"T_f0acc_row8_col5\" class=\"data row8 col5\" >0.7844</td>\n",
       "      <td id=\"T_f0acc_row8_col6\" class=\"data row8 col6\" >-0.0329</td>\n",
       "      <td id=\"T_f0acc_row8_col7\" class=\"data row8 col7\" >-0.0324</td>\n",
       "      <td id=\"T_f0acc_row8_col8\" class=\"data row8 col8\" >0.0170</td>\n",
       "    </tr>\n",
       "    <tr>\n",
       "      <th id=\"T_f0acc_level0_row9\" class=\"row_heading level0 row9\" >ada</th>\n",
       "      <td id=\"T_f0acc_row9_col0\" class=\"data row9 col0\" >Ada Boost Classifier</td>\n",
       "      <td id=\"T_f0acc_row9_col1\" class=\"data row9 col1\" >0.6611</td>\n",
       "      <td id=\"T_f0acc_row9_col2\" class=\"data row9 col2\" >0.4324</td>\n",
       "      <td id=\"T_f0acc_row9_col3\" class=\"data row9 col3\" >0.8092</td>\n",
       "      <td id=\"T_f0acc_row9_col4\" class=\"data row9 col4\" >0.7752</td>\n",
       "      <td id=\"T_f0acc_row9_col5\" class=\"data row9 col5\" >0.7901</td>\n",
       "      <td id=\"T_f0acc_row9_col6\" class=\"data row9 col6\" >-0.1041</td>\n",
       "      <td id=\"T_f0acc_row9_col7\" class=\"data row9 col7\" >-0.1108</td>\n",
       "      <td id=\"T_f0acc_row9_col8\" class=\"data row9 col8\" >0.0260</td>\n",
       "    </tr>\n",
       "    <tr>\n",
       "      <th id=\"T_f0acc_level0_row10\" class=\"row_heading level0 row10\" >svm</th>\n",
       "      <td id=\"T_f0acc_row10_col0\" class=\"data row10 col0\" >SVM - Linear Kernel</td>\n",
       "      <td id=\"T_f0acc_row10_col1\" class=\"data row10 col1\" >0.6395</td>\n",
       "      <td id=\"T_f0acc_row10_col2\" class=\"data row10 col2\" >0.0000</td>\n",
       "      <td id=\"T_f0acc_row10_col3\" class=\"data row10 col3\" >0.7203</td>\n",
       "      <td id=\"T_f0acc_row10_col4\" class=\"data row10 col4\" >0.8159</td>\n",
       "      <td id=\"T_f0acc_row10_col5\" class=\"data row10 col5\" >0.7437</td>\n",
       "      <td id=\"T_f0acc_row10_col6\" class=\"data row10 col6\" >0.0104</td>\n",
       "      <td id=\"T_f0acc_row10_col7\" class=\"data row10 col7\" >0.0245</td>\n",
       "      <td id=\"T_f0acc_row10_col8\" class=\"data row10 col8\" >0.0160</td>\n",
       "    </tr>\n",
       "    <tr>\n",
       "      <th id=\"T_f0acc_level0_row11\" class=\"row_heading level0 row11\" >qda</th>\n",
       "      <td id=\"T_f0acc_row11_col0\" class=\"data row11 col0\" >Quadratic Discriminant Analysis</td>\n",
       "      <td id=\"T_f0acc_row11_col1\" class=\"data row11 col1\" >0.6223</td>\n",
       "      <td id=\"T_f0acc_row11_col2\" class=\"data row11 col2\" >0.5760</td>\n",
       "      <td id=\"T_f0acc_row11_col3\" class=\"data row11 col3\" >0.6761</td>\n",
       "      <td id=\"T_f0acc_row11_col4\" class=\"data row11 col4\" >0.7880</td>\n",
       "      <td id=\"T_f0acc_row11_col5\" class=\"data row11 col5\" >0.7053</td>\n",
       "      <td id=\"T_f0acc_row11_col6\" class=\"data row11 col6\" >0.0951</td>\n",
       "      <td id=\"T_f0acc_row11_col7\" class=\"data row11 col7\" >0.0784</td>\n",
       "      <td id=\"T_f0acc_row11_col8\" class=\"data row11 col8\" >0.0160</td>\n",
       "    </tr>\n",
       "    <tr>\n",
       "      <th id=\"T_f0acc_level0_row12\" class=\"row_heading level0 row12\" >nb</th>\n",
       "      <td id=\"T_f0acc_row12_col0\" class=\"data row12 col0\" >Naive Bayes</td>\n",
       "      <td id=\"T_f0acc_row12_col1\" class=\"data row12 col1\" >0.5941</td>\n",
       "      <td id=\"T_f0acc_row12_col2\" class=\"data row12 col2\" >0.4951</td>\n",
       "      <td id=\"T_f0acc_row12_col3\" class=\"data row12 col3\" >0.6987</td>\n",
       "      <td id=\"T_f0acc_row12_col4\" class=\"data row12 col4\" >0.7459</td>\n",
       "      <td id=\"T_f0acc_row12_col5\" class=\"data row12 col5\" >0.7023</td>\n",
       "      <td id=\"T_f0acc_row12_col6\" class=\"data row12 col6\" >-0.0743</td>\n",
       "      <td id=\"T_f0acc_row12_col7\" class=\"data row12 col7\" >-0.0960</td>\n",
       "      <td id=\"T_f0acc_row12_col8\" class=\"data row12 col8\" >0.0170</td>\n",
       "    </tr>\n",
       "  </tbody>\n",
       "</table>\n"
      ],
      "text/plain": [
       "<pandas.io.formats.style.Styler at 0x28a111480>"
      ]
     },
     "metadata": {},
     "output_type": "display_data"
    },
    {
     "data": {
      "text/html": [],
      "text/plain": [
       "<IPython.core.display.HTML object>"
      ]
     },
     "metadata": {},
     "output_type": "display_data"
    }
   ],
   "source": [
    "Best_models_status = model_test_status.compare_models()"
   ]
  },
  {
   "cell_type": "markdown",
   "id": "da54ddee",
   "metadata": {},
   "source": [
    "With regards to patient status, logistic regression, and dummy classifier have the highest accuracy and classification values. However, the AUC values for all the models are below or around 0.5 indicating that the performance of any of these models are not any better than predicting patient status by random chance. Instead of focusing on patient status, I will try to build predictive models around survival time by months. "
   ]
  },
  {
   "cell_type": "markdown",
   "id": "9532ccfa",
   "metadata": {},
   "source": [
    "## Tumor Stage Models"
   ]
  },
  {
   "cell_type": "markdown",
   "id": "7d583c81",
   "metadata": {},
   "source": [
    "### Logistic Regression Model - Protein levels v. Tumor Stage"
   ]
  },
  {
   "cell_type": "markdown",
   "id": "b4d33e84",
   "metadata": {},
   "source": [
    "To examine the relationship between protein levels and the stage of tumor, I will be intially utilizing a logistic regression model. Tumor stages have been split into binary categories with stage I tumors being initial stage (0) and stage II & III being advanced stage (1). The purpose of this model is to see whether protein levels exhibit changes as a breast cancer tumor progresses through the stages. While the causational relationship between the two cannot be established, a correlational relationship is a possibility. "
   ]
  },
  {
   "cell_type": "markdown",
   "id": "c915b2c8",
   "metadata": {},
   "source": [
    "I will be performing this model twice, once with data that has been scaled using a standard scaler, and once with unscaled data. Scaled data can improve interpretability, reduce influence of outliers, and helps with regularization which may be performed in later stages at the cost of increasing complexity and the loss of the original units. "
   ]
  },
  {
   "cell_type": "code",
   "execution_count": 252,
   "id": "f3b22d39",
   "metadata": {},
   "outputs": [],
   "source": [
    "# Preparing the X and y Datasets \n",
    "#X contains all the protein levels \n",
    "X_log = bc_data_scaled_encode[['Protein1','Protein2','Protein3','Protein4']]  \n",
    "#y is the tumor advanced columns which is encoded as stage 1 (0) and stage 2 & 3 (1)\n",
    "y_log = bc_data_scaled_encode['Tumor_advanced']\n",
    "# since its a smaller dataset, Im choosing a higher test size\n",
    "X_log_train, X_log_test, y_log_train, y_log_test = train_test_split(X_log, y_log, test_size=0.2, random_state=42)"
   ]
  },
  {
   "cell_type": "code",
   "execution_count": 253,
   "id": "2f3557b1",
   "metadata": {},
   "outputs": [],
   "source": [
    "log_reg_model = LogisticRegression()\n",
    "\n",
    "log_reg_model.fit(X_log_train,y_log_train)\n",
    "\n",
    "y_log_pred = log_reg_model.predict(X_log_test)"
   ]
  },
  {
   "cell_type": "code",
   "execution_count": 254,
   "id": "dd6ccea4",
   "metadata": {},
   "outputs": [
    {
     "name": "stdout",
     "output_type": "stream",
     "text": [
      "Accuracy: 0.80\n"
     ]
    }
   ],
   "source": [
    "#Evaluating the model with model accuracy\n",
    "accuracy = accuracy_score(y_log_test, y_log_pred)\n",
    "print(f'Accuracy: {accuracy:.2f}')"
   ]
  },
  {
   "cell_type": "code",
   "execution_count": 255,
   "id": "1e76f6ab",
   "metadata": {
    "scrolled": true
   },
   "outputs": [
    {
     "name": "stdout",
     "output_type": "stream",
     "text": [
      "Confusion Matrix:\n",
      " [[ 0 13]\n",
      " [ 0 52]]\n"
     ]
    },
    {
     "data": {
      "image/png": "[encoded data removed]",
      "text/plain": [
       "<Figure size 800x600 with 1 Axes>"
      ]
     },
     "metadata": {},
     "output_type": "display_data"
    }
   ],
   "source": [
    "confusion = confusion_matrix(y_log_test, y_log_pred)\n",
    "print('Confusion Matrix:\\n', confusion)\n",
    "plt.figure(figsize=(8, 6))\n",
    "sns.heatmap(confusion, annot=True, fmt='d', cmap='Blues', linewidths=0.5, cbar=False)\n",
    "plt.xlabel('Predicted Labels')\n",
    "plt.ylabel('True Labels')\n",
    "plt.title('Confusion Matrix')\n",
    "plt.show()"
   ]
  },
  {
   "cell_type": "code",
   "execution_count": 249,
   "id": "4c76522a",
   "metadata": {
    "scrolled": true
   },
   "outputs": [
    {
     "name": "stdout",
     "output_type": "stream",
     "text": [
      "Classification Report:\n",
      "               precision    recall  f1-score   support\n",
      "\n",
      "           1       0.00      0.00      0.00        13\n",
      "           2       0.62      1.00      0.76        40\n",
      "           3       0.00      0.00      0.00        12\n",
      "\n",
      "    accuracy                           0.62        65\n",
      "   macro avg       0.21      0.33      0.25        65\n",
      "weighted avg       0.38      0.62      0.47        65\n",
      "\n"
     ]
    }
   ],
   "source": [
    "report = classification_report(y_log_test, y_log_pred)\n",
    "print('Classification Report:\\n', report)"
   ]
  },
  {
   "cell_type": "markdown",
   "id": "83732b34",
   "metadata": {},
   "source": [
    "### Logistic Regression Multiclass - Tumor Stage"
   ]
  },
  {
   "cell_type": "code",
   "execution_count": 236,
   "id": "3cac2832",
   "metadata": {},
   "outputs": [],
   "source": [
    "X_log2 = bc_data_scaled_encode.drop(['Tumour_Stage','Tumor_advanced'],axis=1) \n",
    "y_log2 = bc_data_scaled_encode['Tumour_Stage']\n",
    "X_log2_train, X_log2_test, y_log2_train, y_log2_test = train_test_split(X_log2, y_log2, test_size=0.3, random_state=42)"
   ]
  },
  {
   "cell_type": "code",
   "execution_count": 237,
   "id": "73e1611d",
   "metadata": {},
   "outputs": [],
   "source": [
    "log_reg_model = LogisticRegression(max_iter=1000, random_state=42)\n",
    "\n",
    "log_reg_model.fit(X_log2_train,y_log2_train)\n",
    "\n",
    "y_log2_pred = log_reg_model.predict(X_log2_test)"
   ]
  },
  {
   "cell_type": "code",
   "execution_count": 238,
   "id": "fbcdbf75",
   "metadata": {},
   "outputs": [
    {
     "name": "stdout",
     "output_type": "stream",
     "text": [
      "Accuracy: 0.57\n"
     ]
    }
   ],
   "source": [
    "accuracy = accuracy_score(y_log2_test, y_log2_pred)\n",
    "print(f'Accuracy: {accuracy:.2f}')"
   ]
  },
  {
   "cell_type": "code",
   "execution_count": 239,
   "id": "83eb1d1b",
   "metadata": {},
   "outputs": [
    {
     "name": "stdout",
     "output_type": "stream",
     "text": [
      "Confusion Matrix:\n",
      " [[ 0 16  2]\n",
      " [ 1 51  6]\n",
      " [ 1 16  4]]\n"
     ]
    },
    {
     "data": {
      "image/png": "[encoded data removed]",
      "text/plain": [
       "<Figure size 800x600 with 1 Axes>"
      ]
     },
     "metadata": {},
     "output_type": "display_data"
    }
   ],
   "source": [
    "confusion = confusion_matrix(y_log2_test, y_log2_pred)\n",
    "print('Confusion Matrix:\\n', confusion)\n",
    "plt.figure(figsize=(8, 6))\n",
    "sns.heatmap(confusion, annot=True, fmt='d', cmap='Blues', linewidths=0.5, cbar=False)\n",
    "plt.xlabel('Predicted Labels')\n",
    "plt.ylabel('True Labels')\n",
    "plt.title('Confusion Matrix')\n",
    "plt.show()"
   ]
  },
  {
   "cell_type": "code",
   "execution_count": 240,
   "id": "7919a55b",
   "metadata": {
    "scrolled": true
   },
   "outputs": [
    {
     "name": "stdout",
     "output_type": "stream",
     "text": [
      "Classification Report:\n",
      "               precision    recall  f1-score   support\n",
      "\n",
      "           1       0.00      0.00      0.00        18\n",
      "           2       0.61      0.88      0.72        58\n",
      "           3       0.33      0.19      0.24        21\n",
      "\n",
      "    accuracy                           0.57        97\n",
      "   macro avg       0.32      0.36      0.32        97\n",
      "weighted avg       0.44      0.57      0.49        97\n",
      "\n"
     ]
    }
   ],
   "source": [
    "report = classification_report(y_log2_test, y_log2_pred)\n",
    "print('Classification Report:\\n', report)"
   ]
  },
  {
   "cell_type": "markdown",
   "id": "f05cda3b",
   "metadata": {},
   "source": [
    "#### Explanation"
   ]
  },
  {
   "cell_type": "markdown",
   "id": "e0e079c4",
   "metadata": {},
   "source": [
    "Set Up:\n",
    "I began the process by creating the data splits. The X variable were the features which were all the columns except for tumour stage. I also dropped the tumor advanced column as it could act as a clear indicator for the tumor stage, increasing accuracy without any validity. \n",
    "\n",
    "Results: \n",
    "Accuracy: the accuracy indicates that this model performs only slightly better than random chance. \n",
    "The model shows very low precision, recall, and F1-Score for stage 1, indicating challenges in correctly predicting this class.\n",
    "Stage 2 has better performance, with a higher precision, recall, and F1-Score.\n",
    "Stage 3 shows modest performance, but the precision is relatively low.\n",
    "\n",
    "Interpretation:\n",
    "the logistic regression model is not effective in predicting the tumor stage of the patient. Binary logistic regression performed better when the data was split into initial and advanced stages. the better performance can be attributed to the fact that there were a higher number of cases with advanced rather than initial, with the model only predicting the advanced correctly. "
   ]
  },
  {
   "cell_type": "markdown",
   "id": "133e7452",
   "metadata": {},
   "source": [
    "### Random Forest - Tumor Stage"
   ]
  },
  {
   "cell_type": "code",
   "execution_count": 256,
   "id": "9268d26e",
   "metadata": {},
   "outputs": [],
   "source": [
    "X_stage = bc_data_scaled_encode.drop(['Tumour_Stage'],axis=1)\n",
    "y_stage = bc_data_scaled_encode['Tumour_Stage']\n",
    "X_train, X_test, y_train, y_test = train_test_split(X_stage, y_stage, test_size=0.3, random_state=42)"
   ]
  },
  {
   "cell_type": "code",
   "execution_count": 257,
   "id": "545bb858",
   "metadata": {},
   "outputs": [
    {
     "name": "stdout",
     "output_type": "stream",
     "text": [
      "Best Parameters: {'max_depth': 10, 'n_estimators': 200}\n"
     ]
    }
   ],
   "source": [
    "param_grid = {\n",
    "    'n_estimators': [50, 100, 200],\n",
    "    'max_depth': [None, 10, 20]\n",
    "    }\n",
    "    \n",
    "rf_model_stage_tuned = RandomForestClassifier(random_state=42)\n",
    "    \n",
    "grid_search = GridSearchCV(estimator=rf_model_stage_tuned, param_grid=param_grid, cv=5, scoring='accuracy')\n",
    "    \n",
    "grid_search.fit(X_train, y_train)\n",
    "\n",
    "best_params = grid_search.best_params_\n",
    "print(\"Best Parameters:\", best_params)"
   ]
  },
  {
   "cell_type": "code",
   "execution_count": 258,
   "id": "10a64f3a",
   "metadata": {},
   "outputs": [],
   "source": [
    "best_rf_stage_model = RandomForestClassifier(**best_params, random_state=42)\n",
    "\n",
    "best_rf_stage_model.fit(X_train, y_train)\n",
    "\n",
    "y_pred = best_rf_stage_model.predict(X_test)"
   ]
  },
  {
   "cell_type": "code",
   "execution_count": 259,
   "id": "0c8573eb",
   "metadata": {
    "scrolled": true
   },
   "outputs": [
    {
     "name": "stdout",
     "output_type": "stream",
     "text": [
      "Accuracy: 0.7732\n",
      "Classification Report:\n",
      "              precision    recall  f1-score   support\n",
      "\n",
      "           1       1.00      1.00      1.00        18\n",
      "           2       0.75      0.93      0.83        58\n",
      "           3       0.43      0.14      0.21        21\n",
      "\n",
      "    accuracy                           0.77        97\n",
      "   macro avg       0.73      0.69      0.68        97\n",
      "weighted avg       0.73      0.77      0.73        97\n",
      "\n",
      "Confusion Matrix:\n",
      "[[18  0  0]\n",
      " [ 0 54  4]\n",
      " [ 0 18  3]]\n"
     ]
    }
   ],
   "source": [
    "accuracy = accuracy_score(y_test, y_pred)\n",
    "print(f\"Accuracy: {accuracy:.4f}\")\n",
    "\n",
    "print(\"Classification Report:\")\n",
    "print(classification_report(y_test, y_pred))\n",
    "\n",
    "print(\"Confusion Matrix:\")\n",
    "print(confusion_matrix(y_test, y_pred))"
   ]
  },
  {
   "cell_type": "markdown",
   "id": "99edd2ea",
   "metadata": {},
   "source": [
    "#### Explanation"
   ]
  },
  {
   "cell_type": "markdown",
   "id": "521258ff",
   "metadata": {},
   "source": [
    "Results: \n",
    "The model maintains perfect precision, recall, and F1-Score for stage 1, indicating correct predictions for this class.\n",
    "stage 2 shows a good balance between precision, recall, and F1-Score.\n",
    "Stage 3 has challenges, with a lower precision, recall, and F1-Score. \n",
    "\n",
    "Interpretation:\n",
    "If stage 3 has significantly fewer instances, it might contribute to the model's difficulty in predicting this class. Techniques like oversampling or undersampling could be explored. Stage 1 and Stage 3 have significantly lower instances that stage 2. Stage 1 may have been correctly predicted due to other indicating factors of an initial condition. With stage 2 and Stage 3, those indicative features could be less clear and apparent, as the condition is now in advanced stages. "
   ]
  },
  {
   "cell_type": "markdown",
   "id": "66b4c3a8",
   "metadata": {},
   "source": [
    "## Patient Status/ Survival  Models"
   ]
  },
  {
   "cell_type": "markdown",
   "id": "666c6db8",
   "metadata": {},
   "source": [
    "### Random Forest Classifier - Patient Status"
   ]
  },
  {
   "cell_type": "code",
   "execution_count": 262,
   "id": "9aae2cae",
   "metadata": {},
   "outputs": [],
   "source": [
    "X_stat= bc_data_scaled_encode.drop('Patient_Status_Alive',axis=1)\n",
    "y_stat = bc_data_scaled_encode['Patient_Status_Alive']\n",
    "X_stat_train, X_stat_test, y_stat_train, y_stat_test = train_test_split(X_stat, y_stat, test_size=0.2, random_state=42)"
   ]
  },
  {
   "cell_type": "code",
   "execution_count": 263,
   "id": "b984eb68",
   "metadata": {},
   "outputs": [],
   "source": [
    "rf_model = RandomForestClassifier(n_estimators=200, random_state=42)\n",
    "\n",
    "rf_model.fit(X_stat_train, y_stat_train)\n",
    "\n",
    "y_stat_pred = rf_model.predict(X_stat_test)"
   ]
  },
  {
   "cell_type": "code",
   "execution_count": 264,
   "id": "9e1459a6",
   "metadata": {
    "scrolled": false
   },
   "outputs": [
    {
     "name": "stdout",
     "output_type": "stream",
     "text": [
      "Accuracy: 0.7538\n",
      "Classification Report:\n",
      "              precision    recall  f1-score   support\n",
      "\n",
      "           0       0.33      0.07      0.11        15\n",
      "           1       0.77      0.96      0.86        50\n",
      "\n",
      "    accuracy                           0.75        65\n",
      "   macro avg       0.55      0.51      0.48        65\n",
      "weighted avg       0.67      0.75      0.68        65\n",
      "\n",
      "Confusion Matrix:\n",
      "[[ 1 14]\n",
      " [ 2 48]]\n"
     ]
    }
   ],
   "source": [
    "accuracy = accuracy_score(y_stat_test, y_stat_pred)\n",
    "print(f\"Accuracy: {accuracy:.4f}\")\n",
    "\n",
    "print(\"Classification Report:\")\n",
    "print(classification_report(y_stat_test, y_stat_pred))\n",
    "\n",
    "print(\"Confusion Matrix:\")\n",
    "print(confusion_matrix(y_stat_test, y_stat_pred))"
   ]
  },
  {
   "cell_type": "markdown",
   "id": "2d61f1c2",
   "metadata": {},
   "source": [
    "The model has an accuracy of 0.75, and performs well in predicting the alive class. The model performance is lacking in its predictive ability of recognizing the dead (0) class. In the upcoming steps, I will be using grid search to find the best parameters for the random forest search model. "
   ]
  },
  {
   "cell_type": "code",
   "execution_count": 265,
   "id": "6908991e",
   "metadata": {},
   "outputs": [
    {
     "name": "stdout",
     "output_type": "stream",
     "text": [
      "Best Parameters: {'max_depth': None, 'n_estimators': 200}\n"
     ]
    }
   ],
   "source": [
    "param_grid = {\n",
    "    'n_estimators': [50, 100, 200],\n",
    "    'max_depth': [None, 10, 20]\n",
    "    }\n",
    "    \n",
    "rf_model_tuned = RandomForestClassifier(random_state=42)\n",
    "    \n",
    "grid_search = GridSearchCV(estimator=rf_model_tuned, param_grid=param_grid, cv=5, scoring='accuracy')\n",
    "    \n",
    "grid_search.fit(X_stat_train, y_stat_train)\n",
    "\n",
    "best_params = grid_search.best_params_\n",
    "print(\"Best Parameters:\", best_params)"
   ]
  },
  {
   "cell_type": "code",
   "execution_count": 266,
   "id": "06d562ed",
   "metadata": {},
   "outputs": [],
   "source": [
    "final_rf_model = RandomForestClassifier(**best_params, random_state=42)\n",
    "\n",
    "final_rf_model.fit(X_stat_train, y_stat_train)\n",
    "\n",
    "y_pred = final_rf_model.predict(X_stat_test)"
   ]
  },
  {
   "cell_type": "code",
   "execution_count": 267,
   "id": "bab7ed81",
   "metadata": {},
   "outputs": [
    {
     "name": "stdout",
     "output_type": "stream",
     "text": [
      "Accuracy: 0.7538\n",
      "Classification Report:\n",
      "              precision    recall  f1-score   support\n",
      "\n",
      "           0       0.33      0.07      0.11        15\n",
      "           1       0.77      0.96      0.86        50\n",
      "\n",
      "    accuracy                           0.75        65\n",
      "   macro avg       0.55      0.51      0.48        65\n",
      "weighted avg       0.67      0.75      0.68        65\n",
      "\n",
      "Confusion Matrix:\n",
      "[[ 1 14]\n",
      " [ 2 48]]\n"
     ]
    }
   ],
   "source": [
    "accuracy = accuracy_score(y_stat_test, y_stat_pred)\n",
    "print(f\"Accuracy: {accuracy:.4f}\")\n",
    "\n",
    "print(\"Classification Report:\")\n",
    "print(classification_report(y_stat_test, y_stat_pred))\n",
    "\n",
    "print(\"Confusion Matrix:\")\n",
    "print(confusion_matrix(y_stat_test, y_stat_pred))"
   ]
  },
  {
   "cell_type": "markdown",
   "id": "e0f8657b",
   "metadata": {},
   "source": [
    "Class 0 (dead):\n",
    "Precision (Positive Predictive Value): 0.33\n",
    "Only 33% of instances predicted as Class 0 are correct.\n",
    "Recall (Sensitivity): 0.07\n",
    "The model identifies only 7% of actual instances of Class 0.\n",
    "F1-Score: 0.11\n",
    "The harmonic mean of precision and recall is low.\n",
    "Support: 15\n",
    "There are 15 instances of Class 0.\n",
    "\n",
    "Class 1 (alive):\n",
    "Precision: 0.77\n",
    "Of the instances predicted as Class 1, 77% are correct.\n",
    "Recall: 0.96\n",
    "The model captures 96% of actual instances of Class 1.\n",
    "F1-Score: 0.86\n",
    "A good balance between precision and recall.\n",
    "Support: 50\n",
    "Class 1 has the highest number of instances (50).\n",
    "\n",
    "Accuracy:\n",
    "Overall accuracy is 75.38%.\n",
    "\n",
    "The model struggles with Class 0, as indicated by low precision, recall, and F1-Score. It correctly predicts only a small percentage of instances for this class.\n",
    "\n",
    "Class 1 shows good performance, with high precision, recall, and F1-Score. The model effectively identifies and predicts instances of Class 1."
   ]
  },
  {
   "cell_type": "markdown",
   "id": "1b10634f",
   "metadata": {},
   "source": [
    "### Random Forest Regressor - Survival Time in Months"
   ]
  },
  {
   "cell_type": "code",
   "execution_count": 268,
   "id": "a8ef7d10",
   "metadata": {},
   "outputs": [],
   "source": [
    "X_surv = bc_data_scaled_encode.drop('Survival_Time_Months',axis=1)\n",
    "y_surv = bc_data_scaled_encode['Survival_Time_Months']\n",
    "X_surv_train, X_surv_test, y_surv_train, y_surv_test = train_test_split(X_surv, y_surv, test_size=0.2, random_state=42)"
   ]
  },
  {
   "cell_type": "code",
   "execution_count": 269,
   "id": "b9ab75e3",
   "metadata": {
    "scrolled": false
   },
   "outputs": [
    {
     "name": "stdout",
     "output_type": "stream",
     "text": [
      "Best Parameters: {'max_depth': 10, 'min_samples_leaf': 4, 'min_samples_split': 10, 'n_estimators': 100}\n"
     ]
    }
   ],
   "source": [
    "param_grid = {\n",
    "    'n_estimators': [50, 100, 200],\n",
    "    'max_depth': [None, 10, 20],\n",
    "    'min_samples_split': [2, 5, 10],\n",
    "    'min_samples_leaf': [1, 2, 4]\n",
    "}\n",
    "\n",
    "rf_reg_model = RandomForestRegressor(random_state=42)\n",
    "\n",
    "grid_search = GridSearchCV(estimator=rf_reg_model, param_grid=param_grid, cv=5, scoring='neg_mean_squared_error')\n",
    "\n",
    "grid_search.fit(X_surv_train, y_surv_train)\n",
    "\n",
    "best_params = grid_search.best_params_\n",
    "print(\"Best Parameters:\", best_params)"
   ]
  },
  {
   "cell_type": "code",
   "execution_count": 270,
   "id": "a3dee9cf",
   "metadata": {},
   "outputs": [],
   "source": [
    "best_rf_reg_model = grid_search.best_estimator_\n",
    "\n",
    "y_surv_pred_best = best_rf_reg_model.predict(X_surv_test)"
   ]
  },
  {
   "cell_type": "code",
   "execution_count": 271,
   "id": "ed5be271",
   "metadata": {
    "scrolled": false
   },
   "outputs": [
    {
     "name": "stdout",
     "output_type": "stream",
     "text": [
      "Mean Squared Error: 0.8306\n",
      "R-squared: -0.0615\n"
     ]
    }
   ],
   "source": [
    "mse = mean_squared_error(y_surv_test, y_surv_pred_best)\n",
    "r2 = r2_score(y_surv_test, y_surv_pred_best)\n",
    "\n",
    "print(f\"Mean Squared Error: {mse:.4f}\")\n",
    "print(f\"R-squared: {r2:.4f}\")"
   ]
  },
  {
   "cell_type": "markdown",
   "id": "fcfe97b4",
   "metadata": {},
   "source": [
    "Mean Squared Error (MSE):\n",
    "Value: 0.8306\n",
    "Interpretation:\n",
    "The MSE measures the average squared difference between the predicted values and the actual values. A lower MSE indicates better predictive performance. In this case, the MSE value is relatively low, suggesting that the model's predictions are close to the actual values on average.\n",
    "\n",
    "R-squared:\n",
    "Value: -0.0615\n",
    "Interpretation:\n",
    "R-squared measures the proportion of the variance in the dependent variable that is predictable from the independent variables. A negative R-squared value typically indicates that the model does not fit the data well.\n",
    "In this case, the negative R-squared suggests that the model is not explaining the variance in the target variable effectively. It might be performing worse than a simple mean-based model."
   ]
  },
  {
   "cell_type": "code",
   "execution_count": 272,
   "id": "24717628",
   "metadata": {},
   "outputs": [
    {
     "data": {
      "image/png": "[encoded data removed]",
      "text/plain": [
       "<Figure size 800x550 with 1 Axes>"
      ]
     },
     "metadata": {},
     "output_type": "display_data"
    }
   ],
   "source": [
    "import matplotlib.pyplot as plt\n",
    "\n",
    "plt.scatter(y_surv_test, y_surv_pred_best)\n",
    "plt.xlabel(\"Actual Values\")\n",
    "plt.ylabel(\"Predicted Values\")\n",
    "plt.title(\"Actual vs Predicted Values (Random Forest Regressor)\")\n",
    "plt.show()"
   ]
  }
 ],
 "metadata": {
  "kernelspec": {
   "display_name": "Python 3 (ipykernel)",
   "language": "python",
   "name": "python3"
  },
  "language_info": {
   "codemirror_mode": {
    "name": "ipython",
    "version": 3
   },
   "file_extension": ".py",
   "mimetype": "text/x-python",
   "name": "python",
   "nbconvert_exporter": "python",
   "pygments_lexer": "ipython3",
   "version": "3.10.9"
  }
 },
 "nbformat": 4,
 "nbformat_minor": 5
}

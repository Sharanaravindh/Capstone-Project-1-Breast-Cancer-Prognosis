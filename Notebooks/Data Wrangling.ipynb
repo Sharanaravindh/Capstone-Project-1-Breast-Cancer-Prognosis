{
 "cells": [
  {
   "cell_type": "markdown",
   "id": "f3c931fb",
   "metadata": {},
   "source": [
    "# Data wrangling<a id='2_Data_wrangling'></a>"
   ]
  },
  {
   "cell_type": "markdown",
   "id": "c49f3d4c",
   "metadata": {},
   "source": [
    "##  Introduction<a id='2.2_Introduction'></a>"
   ]
  },
  {
   "cell_type": "raw",
   "id": "e50cd6f1",
   "metadata": {},
   "source": [
    "The dataset (breast_cancer_survival.csv) contains information on 334 patients, including their sex, age, four pertaining protein levels, tumor stage, histology, Estrogen receptor status, progesterone receptor status, HER2 receptor status, surgery type, date of surgery, date of last clinic visit, and patient status"
   ]
  },
  {
   "cell_type": "markdown",
   "id": "2b95edf4",
   "metadata": {},
   "source": [
    "## Imports <a id='2.3_Imports'></a>"
   ]
  },
  {
   "cell_type": "code",
   "execution_count": 1,
   "id": "c11959a6",
   "metadata": {},
   "outputs": [
    {
     "name": "stdout",
     "output_type": "stream",
     "text": [
      "Requirement already satisfied: library in /Users/sharanaravindh/anaconda3/lib/python3.10/site-packages (0.0.0)\n",
      "Note: you may need to restart the kernel to use updated packages.\n"
     ]
    }
   ],
   "source": [
    "pip install library"
   ]
  },
  {
   "cell_type": "code",
   "execution_count": 2,
   "id": "6462d9fd",
   "metadata": {},
   "outputs": [],
   "source": [
    "#loading necessary python libraries and loading dataset as dataframe\n",
    "import pandas as pd\n",
    "import matplotlib.pyplot as plt\n",
    "import numpy as np\n",
    "import seaborn as sns\n",
    "import os\n",
    "from datetime import datetime\n",
    "from library1.sb_utils import save_file\n",
    "\n",
    "\n",
    "df = pd.read_csv('../data/breast_cancer_survival.csv')"
   ]
  },
  {
   "cell_type": "markdown",
   "id": "0ed31b5f",
   "metadata": {},
   "source": [
    "## Data Definition<a id='2.5_Load_The_Ski_Resort_Data'></a>"
   ]
  },
  {
   "cell_type": "code",
   "execution_count": 3,
   "id": "26e8910a",
   "metadata": {
    "scrolled": false
   },
   "outputs": [
    {
     "name": "stdout",
     "output_type": "stream",
     "text": [
      "<class 'pandas.core.frame.DataFrame'>\n",
      "RangeIndex: 334 entries, 0 to 333\n",
      "Data columns (total 15 columns):\n",
      " #   Column              Non-Null Count  Dtype  \n",
      "---  ------              --------------  -----  \n",
      " 0   Age                 334 non-null    int64  \n",
      " 1   Gender              334 non-null    object \n",
      " 2   Protein1            334 non-null    float64\n",
      " 3   Protein2            334 non-null    float64\n",
      " 4   Protein3            334 non-null    float64\n",
      " 5   Protein4            334 non-null    float64\n",
      " 6   Tumour_Stage        334 non-null    object \n",
      " 7   Histology           334 non-null    object \n",
      " 8   ER status           334 non-null    object \n",
      " 9   PR status           334 non-null    object \n",
      " 10  HER2 status         334 non-null    object \n",
      " 11  Surgery_type        334 non-null    object \n",
      " 12  Date_of_Surgery     334 non-null    object \n",
      " 13  Date_of_Last_Visit  317 non-null    object \n",
      " 14  Patient_Status      321 non-null    object \n",
      "dtypes: float64(4), int64(1), object(10)\n",
      "memory usage: 39.3+ KB\n"
     ]
    },
    {
     "data": {
      "text/html": [
       "<div>\n",
       "<style scoped>\n",
       "    .dataframe tbody tr th:only-of-type {\n",
       "        vertical-align: middle;\n",
       "    }\n",
       "\n",
       "    .dataframe tbody tr th {\n",
       "        vertical-align: top;\n",
       "    }\n",
       "\n",
       "    .dataframe thead th {\n",
       "        text-align: right;\n",
       "    }\n",
       "</style>\n",
       "<table border=\"1\" class=\"dataframe\">\n",
       "  <thead>\n",
       "    <tr style=\"text-align: right;\">\n",
       "      <th></th>\n",
       "      <th>Age</th>\n",
       "      <th>Gender</th>\n",
       "      <th>Protein1</th>\n",
       "      <th>Protein2</th>\n",
       "      <th>Protein3</th>\n",
       "      <th>Protein4</th>\n",
       "      <th>Tumour_Stage</th>\n",
       "      <th>Histology</th>\n",
       "      <th>ER status</th>\n",
       "      <th>PR status</th>\n",
       "      <th>HER2 status</th>\n",
       "      <th>Surgery_type</th>\n",
       "      <th>Date_of_Surgery</th>\n",
       "      <th>Date_of_Last_Visit</th>\n",
       "      <th>Patient_Status</th>\n",
       "    </tr>\n",
       "  </thead>\n",
       "  <tbody>\n",
       "    <tr>\n",
       "      <th>0</th>\n",
       "      <td>42</td>\n",
       "      <td>FEMALE</td>\n",
       "      <td>0.95256</td>\n",
       "      <td>2.15000</td>\n",
       "      <td>0.007972</td>\n",
       "      <td>-0.048340</td>\n",
       "      <td>II</td>\n",
       "      <td>Infiltrating Ductal Carcinoma</td>\n",
       "      <td>Positive</td>\n",
       "      <td>Positive</td>\n",
       "      <td>Negative</td>\n",
       "      <td>Other</td>\n",
       "      <td>20-May-18</td>\n",
       "      <td>26-Aug-18</td>\n",
       "      <td>Alive</td>\n",
       "    </tr>\n",
       "    <tr>\n",
       "      <th>1</th>\n",
       "      <td>54</td>\n",
       "      <td>FEMALE</td>\n",
       "      <td>0.00000</td>\n",
       "      <td>1.38020</td>\n",
       "      <td>-0.498030</td>\n",
       "      <td>-0.507320</td>\n",
       "      <td>II</td>\n",
       "      <td>Infiltrating Ductal Carcinoma</td>\n",
       "      <td>Positive</td>\n",
       "      <td>Positive</td>\n",
       "      <td>Negative</td>\n",
       "      <td>Other</td>\n",
       "      <td>26-Apr-18</td>\n",
       "      <td>25-Jan-19</td>\n",
       "      <td>Dead</td>\n",
       "    </tr>\n",
       "    <tr>\n",
       "      <th>2</th>\n",
       "      <td>63</td>\n",
       "      <td>FEMALE</td>\n",
       "      <td>-0.52303</td>\n",
       "      <td>1.76400</td>\n",
       "      <td>-0.370190</td>\n",
       "      <td>0.010815</td>\n",
       "      <td>II</td>\n",
       "      <td>Infiltrating Ductal Carcinoma</td>\n",
       "      <td>Positive</td>\n",
       "      <td>Positive</td>\n",
       "      <td>Negative</td>\n",
       "      <td>Lumpectomy</td>\n",
       "      <td>24-Aug-18</td>\n",
       "      <td>08-Apr-20</td>\n",
       "      <td>Alive</td>\n",
       "    </tr>\n",
       "    <tr>\n",
       "      <th>3</th>\n",
       "      <td>78</td>\n",
       "      <td>FEMALE</td>\n",
       "      <td>-0.87618</td>\n",
       "      <td>0.12943</td>\n",
       "      <td>-0.370380</td>\n",
       "      <td>0.132190</td>\n",
       "      <td>I</td>\n",
       "      <td>Infiltrating Ductal Carcinoma</td>\n",
       "      <td>Positive</td>\n",
       "      <td>Positive</td>\n",
       "      <td>Negative</td>\n",
       "      <td>Other</td>\n",
       "      <td>16-Nov-18</td>\n",
       "      <td>28-Jul-20</td>\n",
       "      <td>Alive</td>\n",
       "    </tr>\n",
       "    <tr>\n",
       "      <th>4</th>\n",
       "      <td>42</td>\n",
       "      <td>FEMALE</td>\n",
       "      <td>0.22611</td>\n",
       "      <td>1.74910</td>\n",
       "      <td>-0.543970</td>\n",
       "      <td>-0.390210</td>\n",
       "      <td>II</td>\n",
       "      <td>Infiltrating Ductal Carcinoma</td>\n",
       "      <td>Positive</td>\n",
       "      <td>Positive</td>\n",
       "      <td>Positive</td>\n",
       "      <td>Lumpectomy</td>\n",
       "      <td>12-Dec-18</td>\n",
       "      <td>05-Jan-19</td>\n",
       "      <td>Alive</td>\n",
       "    </tr>\n",
       "  </tbody>\n",
       "</table>\n",
       "</div>"
      ],
      "text/plain": [
       "   Age  Gender  Protein1  Protein2  Protein3  Protein4 Tumour_Stage  \\\n",
       "0   42  FEMALE   0.95256   2.15000  0.007972 -0.048340           II   \n",
       "1   54  FEMALE   0.00000   1.38020 -0.498030 -0.507320           II   \n",
       "2   63  FEMALE  -0.52303   1.76400 -0.370190  0.010815           II   \n",
       "3   78  FEMALE  -0.87618   0.12943 -0.370380  0.132190            I   \n",
       "4   42  FEMALE   0.22611   1.74910 -0.543970 -0.390210           II   \n",
       "\n",
       "                       Histology ER status PR status HER2 status Surgery_type  \\\n",
       "0  Infiltrating Ductal Carcinoma  Positive  Positive    Negative        Other   \n",
       "1  Infiltrating Ductal Carcinoma  Positive  Positive    Negative        Other   \n",
       "2  Infiltrating Ductal Carcinoma  Positive  Positive    Negative   Lumpectomy   \n",
       "3  Infiltrating Ductal Carcinoma  Positive  Positive    Negative        Other   \n",
       "4  Infiltrating Ductal Carcinoma  Positive  Positive    Positive   Lumpectomy   \n",
       "\n",
       "  Date_of_Surgery Date_of_Last_Visit Patient_Status  \n",
       "0       20-May-18          26-Aug-18          Alive  \n",
       "1       26-Apr-18          25-Jan-19           Dead  \n",
       "2       24-Aug-18          08-Apr-20          Alive  \n",
       "3       16-Nov-18          28-Jul-20          Alive  \n",
       "4       12-Dec-18          05-Jan-19          Alive  "
      ]
     },
     "execution_count": 3,
     "metadata": {},
     "output_type": "execute_result"
    }
   ],
   "source": [
    "#the dataset has 334 entries \n",
    "df.info()\n",
    "df.head()"
   ]
  },
  {
   "cell_type": "code",
   "execution_count": 4,
   "id": "842f6c15",
   "metadata": {
    "scrolled": true
   },
   "outputs": [
    {
     "data": {
      "text/plain": [
       "Index(['Age', 'Gender', 'Protein1', 'Protein2', 'Protein3', 'Protein4',\n",
       "       'Tumour_Stage', 'Histology', 'ER status', 'PR status', 'HER2 status',\n",
       "       'Surgery_type', 'Date_of_Surgery', 'Date_of_Last_Visit',\n",
       "       'Patient_Status'],\n",
       "      dtype='object')"
      ]
     },
     "execution_count": 4,
     "metadata": {},
     "output_type": "execute_result"
    }
   ],
   "source": [
    "df.columns\n",
    "#Protein columns are associated with the levels of four proteins closely related to breast cancer\n",
    "#Tumour_Stage refers to the stage of the cancer (String values)\n",
    "#Histology refers to the type of breast cancer\n",
    "#ER status refers to estrogen receptor status (String values)\n",
    "#PR Status refers to progesterone receptor status (String values)\n",
    "#HER 2 Status refers to HER2 receptor status (String Values)\n",
    "#Surgery_type refers to the procedure(string Values)\n",
    "#Date_of Surgery is the date of the procedure (String Values)\n",
    "#Date_of_last_visit is the patients last clinic visit date (Stringe Values)\n",
    "#Patient_Status is whether the inividual is currently alive or dead (String Values)"
   ]
  },
  {
   "cell_type": "code",
   "execution_count": 5,
   "id": "7d8b834e",
   "metadata": {},
   "outputs": [
    {
     "data": {
      "text/plain": [
       "Age                    57\n",
       "Gender                  2\n",
       "Protein1              333\n",
       "Protein2              334\n",
       "Protein3              334\n",
       "Protein4              333\n",
       "Tumour_Stage            3\n",
       "Histology               3\n",
       "ER status               1\n",
       "PR status               1\n",
       "HER2 status             2\n",
       "Surgery_type            4\n",
       "Date_of_Surgery       181\n",
       "Date_of_Last_Visit    285\n",
       "Patient_Status          2\n",
       "dtype: int64"
      ]
     },
     "execution_count": 5,
     "metadata": {},
     "output_type": "execute_result"
    }
   ],
   "source": [
    "#Number of unique values in each column\n",
    "df.nunique()"
   ]
  },
  {
   "cell_type": "code",
   "execution_count": 6,
   "id": "e3017d92",
   "metadata": {},
   "outputs": [
    {
     "name": "stdout",
     "output_type": "stream",
     "text": [
      "['Infiltrating Ductal Carcinoma' 'Infiltrating Lobular Carcinoma'\n",
      " 'Mucinous Carcinoma']\n",
      "['Other' 'Lumpectomy' 'Modified Radical Mastectomy' 'Simple Mastectomy']\n"
     ]
    }
   ],
   "source": [
    "#Checking columns with descriptions of cancer type and surgery type for mistakes, typos\n",
    "Histology_unique_values = df['Histology'].unique()\n",
    "print(Histology_unique_values)\n",
    "Surgery_unique_values = df['Surgery_type'].unique()\n",
    "print(Surgery_unique_values)"
   ]
  },
  {
   "cell_type": "code",
   "execution_count": 7,
   "id": "95218d08",
   "metadata": {
    "scrolled": false
   },
   "outputs": [
    {
     "data": {
      "text/html": [
       "<div>\n",
       "<style scoped>\n",
       "    .dataframe tbody tr th:only-of-type {\n",
       "        vertical-align: middle;\n",
       "    }\n",
       "\n",
       "    .dataframe tbody tr th {\n",
       "        vertical-align: top;\n",
       "    }\n",
       "\n",
       "    .dataframe thead th {\n",
       "        text-align: right;\n",
       "    }\n",
       "</style>\n",
       "<table border=\"1\" class=\"dataframe\">\n",
       "  <thead>\n",
       "    <tr style=\"text-align: right;\">\n",
       "      <th></th>\n",
       "      <th>Age</th>\n",
       "      <th>Protein1</th>\n",
       "      <th>Protein2</th>\n",
       "      <th>Protein3</th>\n",
       "      <th>Protein4</th>\n",
       "    </tr>\n",
       "  </thead>\n",
       "  <tbody>\n",
       "    <tr>\n",
       "      <th>count</th>\n",
       "      <td>334.000000</td>\n",
       "      <td>334.000000</td>\n",
       "      <td>334.000000</td>\n",
       "      <td>334.000000</td>\n",
       "      <td>334.000000</td>\n",
       "    </tr>\n",
       "    <tr>\n",
       "      <th>mean</th>\n",
       "      <td>58.886228</td>\n",
       "      <td>-0.029991</td>\n",
       "      <td>0.946896</td>\n",
       "      <td>-0.090204</td>\n",
       "      <td>0.009819</td>\n",
       "    </tr>\n",
       "    <tr>\n",
       "      <th>std</th>\n",
       "      <td>12.961212</td>\n",
       "      <td>0.563588</td>\n",
       "      <td>0.911637</td>\n",
       "      <td>0.585175</td>\n",
       "      <td>0.629055</td>\n",
       "    </tr>\n",
       "    <tr>\n",
       "      <th>min</th>\n",
       "      <td>29.000000</td>\n",
       "      <td>-2.340900</td>\n",
       "      <td>-0.978730</td>\n",
       "      <td>-1.627400</td>\n",
       "      <td>-2.025500</td>\n",
       "    </tr>\n",
       "    <tr>\n",
       "      <th>25%</th>\n",
       "      <td>49.000000</td>\n",
       "      <td>-0.358888</td>\n",
       "      <td>0.362173</td>\n",
       "      <td>-0.513748</td>\n",
       "      <td>-0.377090</td>\n",
       "    </tr>\n",
       "    <tr>\n",
       "      <th>50%</th>\n",
       "      <td>58.000000</td>\n",
       "      <td>0.006129</td>\n",
       "      <td>0.992805</td>\n",
       "      <td>-0.173180</td>\n",
       "      <td>0.041768</td>\n",
       "    </tr>\n",
       "    <tr>\n",
       "      <th>75%</th>\n",
       "      <td>68.000000</td>\n",
       "      <td>0.343598</td>\n",
       "      <td>1.627900</td>\n",
       "      <td>0.278353</td>\n",
       "      <td>0.425630</td>\n",
       "    </tr>\n",
       "    <tr>\n",
       "      <th>max</th>\n",
       "      <td>90.000000</td>\n",
       "      <td>1.593600</td>\n",
       "      <td>3.402200</td>\n",
       "      <td>2.193400</td>\n",
       "      <td>1.629900</td>\n",
       "    </tr>\n",
       "  </tbody>\n",
       "</table>\n",
       "</div>"
      ],
      "text/plain": [
       "              Age    Protein1    Protein2    Protein3    Protein4\n",
       "count  334.000000  334.000000  334.000000  334.000000  334.000000\n",
       "mean    58.886228   -0.029991    0.946896   -0.090204    0.009819\n",
       "std     12.961212    0.563588    0.911637    0.585175    0.629055\n",
       "min     29.000000   -2.340900   -0.978730   -1.627400   -2.025500\n",
       "25%     49.000000   -0.358888    0.362173   -0.513748   -0.377090\n",
       "50%     58.000000    0.006129    0.992805   -0.173180    0.041768\n",
       "75%     68.000000    0.343598    1.627900    0.278353    0.425630\n",
       "max     90.000000    1.593600    3.402200    2.193400    1.629900"
      ]
     },
     "execution_count": 7,
     "metadata": {},
     "output_type": "execute_result"
    }
   ],
   "source": [
    "#Summary Statistics for each of columns that contain integer values \n",
    "df.describe()"
   ]
  },
  {
   "cell_type": "raw",
   "id": "a408574d",
   "metadata": {},
   "source": [
    "After Completing the data defintion process some observations can be made:\n",
    "1) The tumour stage column contains roman numeral strings that need to be converted into categorical values (1,2,3,4)\n",
    "2)The unique values in each column do not have any typos or resemble mistakes or typos\n",
    "3) The column names represent clearly the definition of the values refered to.\n",
    "4)The date values are written as strings and need to be converted to date-time values \n",
    "5)Protein expression levels have statistical values that are below 0 "
   ]
  },
  {
   "cell_type": "markdown",
   "id": "e7ce8da5",
   "metadata": {},
   "source": [
    "## Data Cleaning<a id='2.5_Load_The_Ski_Resort_Data'></a>\n"
   ]
  },
  {
   "cell_type": "code",
   "execution_count": 8,
   "id": "b92c405b",
   "metadata": {},
   "outputs": [],
   "source": [
    "#Converting date_of_surgery and date_of_last_visit to date-time value\n",
    "df['Date_of_Surgery'] = pd.to_datetime(df['Date_of_Surgery'])\n",
    "df['Date_of_Last_Visit'] = pd.to_datetime(df['Date_of_Last_Visit'])"
   ]
  },
  {
   "cell_type": "code",
   "execution_count": 9,
   "id": "82d41e04",
   "metadata": {},
   "outputs": [],
   "source": [
    "#Converting Tumour_Stage roman numeral strings into integers\n",
    "df.loc[df['Tumour_Stage']=='I','Tumour_Stage'] = 1\n",
    "df.loc[df['Tumour_Stage']=='II','Tumour_Stage'] = 2\n",
    "df.loc[df['Tumour_Stage']=='III','Tumour_Stage'] = 3\n",
    "df.loc[df['Tumour_Stage']=='IV','Tumour_Stage'] = 4"
   ]
  },
  {
   "cell_type": "code",
   "execution_count": 10,
   "id": "a2b16047",
   "metadata": {},
   "outputs": [
    {
     "name": "stdout",
     "output_type": "stream",
     "text": [
      "<class 'pandas.core.frame.DataFrame'>\n",
      "RangeIndex: 334 entries, 0 to 333\n",
      "Data columns (total 15 columns):\n",
      " #   Column              Non-Null Count  Dtype         \n",
      "---  ------              --------------  -----         \n",
      " 0   Age                 334 non-null    int64         \n",
      " 1   Gender              334 non-null    object        \n",
      " 2   Protein1            334 non-null    float64       \n",
      " 3   Protein2            334 non-null    float64       \n",
      " 4   Protein3            334 non-null    float64       \n",
      " 5   Protein4            334 non-null    float64       \n",
      " 6   Tumour_Stage        334 non-null    category      \n",
      " 7   Histology           334 non-null    object        \n",
      " 8   ER status           334 non-null    object        \n",
      " 9   PR status           334 non-null    object        \n",
      " 10  HER2 status         334 non-null    object        \n",
      " 11  Surgery_type        334 non-null    object        \n",
      " 12  Date_of_Surgery     334 non-null    datetime64[ns]\n",
      " 13  Date_of_Last_Visit  317 non-null    datetime64[ns]\n",
      " 14  Patient_Status      321 non-null    object        \n",
      "dtypes: category(1), datetime64[ns](2), float64(4), int64(1), object(7)\n",
      "memory usage: 37.1+ KB\n"
     ]
    }
   ],
   "source": [
    "#Converting Tumour_Stage values into a categorical variable \n",
    "df['Tumour_Stage'] = df['Tumour_Stage'].astype('category')\n",
    "df.head()\n",
    "df.info()"
   ]
  },
  {
   "cell_type": "code",
   "execution_count": 11,
   "id": "a958c593",
   "metadata": {
    "scrolled": true
   },
   "outputs": [
    {
     "data": {
      "text/html": [
       "<div>\n",
       "<style scoped>\n",
       "    .dataframe tbody tr th:only-of-type {\n",
       "        vertical-align: middle;\n",
       "    }\n",
       "\n",
       "    .dataframe tbody tr th {\n",
       "        vertical-align: top;\n",
       "    }\n",
       "\n",
       "    .dataframe thead th {\n",
       "        text-align: right;\n",
       "    }\n",
       "</style>\n",
       "<table border=\"1\" class=\"dataframe\">\n",
       "  <thead>\n",
       "    <tr style=\"text-align: right;\">\n",
       "      <th></th>\n",
       "      <th>count</th>\n",
       "      <th>%</th>\n",
       "    </tr>\n",
       "  </thead>\n",
       "  <tbody>\n",
       "    <tr>\n",
       "      <th>Age</th>\n",
       "      <td>0</td>\n",
       "      <td>0.000000</td>\n",
       "    </tr>\n",
       "    <tr>\n",
       "      <th>Gender</th>\n",
       "      <td>0</td>\n",
       "      <td>0.000000</td>\n",
       "    </tr>\n",
       "    <tr>\n",
       "      <th>Protein1</th>\n",
       "      <td>0</td>\n",
       "      <td>0.000000</td>\n",
       "    </tr>\n",
       "    <tr>\n",
       "      <th>Protein2</th>\n",
       "      <td>0</td>\n",
       "      <td>0.000000</td>\n",
       "    </tr>\n",
       "    <tr>\n",
       "      <th>Protein3</th>\n",
       "      <td>0</td>\n",
       "      <td>0.000000</td>\n",
       "    </tr>\n",
       "    <tr>\n",
       "      <th>Protein4</th>\n",
       "      <td>0</td>\n",
       "      <td>0.000000</td>\n",
       "    </tr>\n",
       "    <tr>\n",
       "      <th>Tumour_Stage</th>\n",
       "      <td>0</td>\n",
       "      <td>0.000000</td>\n",
       "    </tr>\n",
       "    <tr>\n",
       "      <th>Histology</th>\n",
       "      <td>0</td>\n",
       "      <td>0.000000</td>\n",
       "    </tr>\n",
       "    <tr>\n",
       "      <th>ER status</th>\n",
       "      <td>0</td>\n",
       "      <td>0.000000</td>\n",
       "    </tr>\n",
       "    <tr>\n",
       "      <th>PR status</th>\n",
       "      <td>0</td>\n",
       "      <td>0.000000</td>\n",
       "    </tr>\n",
       "    <tr>\n",
       "      <th>HER2 status</th>\n",
       "      <td>0</td>\n",
       "      <td>0.000000</td>\n",
       "    </tr>\n",
       "    <tr>\n",
       "      <th>Surgery_type</th>\n",
       "      <td>0</td>\n",
       "      <td>0.000000</td>\n",
       "    </tr>\n",
       "    <tr>\n",
       "      <th>Date_of_Surgery</th>\n",
       "      <td>0</td>\n",
       "      <td>0.000000</td>\n",
       "    </tr>\n",
       "    <tr>\n",
       "      <th>Patient_Status</th>\n",
       "      <td>13</td>\n",
       "      <td>3.892216</td>\n",
       "    </tr>\n",
       "    <tr>\n",
       "      <th>Date_of_Last_Visit</th>\n",
       "      <td>17</td>\n",
       "      <td>5.089820</td>\n",
       "    </tr>\n",
       "  </tbody>\n",
       "</table>\n",
       "</div>"
      ],
      "text/plain": [
       "                    count         %\n",
       "Age                     0  0.000000\n",
       "Gender                  0  0.000000\n",
       "Protein1                0  0.000000\n",
       "Protein2                0  0.000000\n",
       "Protein3                0  0.000000\n",
       "Protein4                0  0.000000\n",
       "Tumour_Stage            0  0.000000\n",
       "Histology               0  0.000000\n",
       "ER status               0  0.000000\n",
       "PR status               0  0.000000\n",
       "HER2 status             0  0.000000\n",
       "Surgery_type            0  0.000000\n",
       "Date_of_Surgery         0  0.000000\n",
       "Patient_Status         13  3.892216\n",
       "Date_of_Last_Visit     17  5.089820"
      ]
     },
     "execution_count": 11,
     "metadata": {},
     "output_type": "execute_result"
    }
   ],
   "source": [
    "#Calculating percentage of missing values in each column\n",
    "missing = pd.concat([df.isnull().sum(), 100 * df.isnull().mean()], axis=1)\n",
    "missing.columns=['count','%']\n",
    "missing.sort_values(by='count')\n",
    "#Patient Status and date_of_last_visit have missing values\n",
    "#date_of_last_visit missing values can be attributed to patient passing away"
   ]
  },
  {
   "cell_type": "code",
   "execution_count": 12,
   "id": "694237a8",
   "metadata": {},
   "outputs": [
    {
     "data": {
      "image/png": "[encoded data removed]",
      "text/plain": [
       "<Figure size 1000x1000 with 2 Axes>"
      ]
     },
     "metadata": {},
     "output_type": "display_data"
    }
   ],
   "source": [
    "#plotting missing data using subplot and heatmap\n",
    "plt.subplots(figsize=(10,10))\n",
    "sns.heatmap(df.isnull(), cbar=True)\n",
    "plt.title('Missing Data from df')\n",
    "plt.show()"
   ]
  },
  {
   "cell_type": "raw",
   "id": "1bed2001",
   "metadata": {},
   "source": [
    "The suboplot indicates that in a lost of instances when Date_of_Last_Visit is missing, so is the Patient_Status. \n",
    "-It is hard to determine prognosis, if patient status and date of last visit is missing, so I will drop those columns from the dataset \n",
    "-Additionally, if patient status is dead, and the last clinic visit date for the patient is missing, it is safe to assume that last clinic visit date is surgery date. \n",
    "-There are no instances in which Patient_Status is the only entry missing "
   ]
  },
  {
   "cell_type": "code",
   "execution_count": 13,
   "id": "fd270c92",
   "metadata": {},
   "outputs": [],
   "source": [
    "#Dropping rows with missing data in both Patient_Status and Last Visit\n",
    "df1 = df.dropna(subset=['Patient_Status','Date_of_Last_Visit'],how = 'all')"
   ]
  },
  {
   "cell_type": "code",
   "execution_count": 14,
   "id": "84adff37",
   "metadata": {},
   "outputs": [
    {
     "name": "stdout",
     "output_type": "stream",
     "text": [
      "<class 'pandas.core.frame.DataFrame'>\n",
      "Int64Index: 321 entries, 0 to 333\n",
      "Data columns (total 15 columns):\n",
      " #   Column              Non-Null Count  Dtype         \n",
      "---  ------              --------------  -----         \n",
      " 0   Age                 321 non-null    int64         \n",
      " 1   Gender              321 non-null    object        \n",
      " 2   Protein1            321 non-null    float64       \n",
      " 3   Protein2            321 non-null    float64       \n",
      " 4   Protein3            321 non-null    float64       \n",
      " 5   Protein4            321 non-null    float64       \n",
      " 6   Tumour_Stage        321 non-null    category      \n",
      " 7   Histology           321 non-null    object        \n",
      " 8   ER status           321 non-null    object        \n",
      " 9   PR status           321 non-null    object        \n",
      " 10  HER2 status         321 non-null    object        \n",
      " 11  Surgery_type        321 non-null    object        \n",
      " 12  Date_of_Surgery     321 non-null    datetime64[ns]\n",
      " 13  Date_of_Last_Visit  317 non-null    datetime64[ns]\n",
      " 14  Patient_Status      321 non-null    object        \n",
      "dtypes: category(1), datetime64[ns](2), float64(4), int64(1), object(7)\n",
      "memory usage: 38.1+ KB\n"
     ]
    }
   ],
   "source": [
    "df1.info()\n",
    "#the dropping process removed 14 rows from the dataframe \n",
    "#there are 4 instances of null values in Date_of_Last_Visit "
   ]
  },
  {
   "cell_type": "code",
   "execution_count": 15,
   "id": "ba25db0e",
   "metadata": {},
   "outputs": [],
   "source": [
    "#Replacing null values in date of last visit with surgery date for the conditions in which patient status is dead\n",
    "condition = df1['Patient_Status'] == 'Dead'\n",
    "df1.loc[condition & df1['Date_of_Last_Visit'].isnull(), 'Date_of_Last_Visit'] = df1.loc[condition, 'Date_of_Surgery']"
   ]
  },
  {
   "cell_type": "code",
   "execution_count": 16,
   "id": "09664cc7",
   "metadata": {
    "scrolled": true
   },
   "outputs": [
    {
     "name": "stdout",
     "output_type": "stream",
     "text": [
      "<class 'pandas.core.frame.DataFrame'>\n",
      "Int64Index: 321 entries, 0 to 333\n",
      "Data columns (total 15 columns):\n",
      " #   Column              Non-Null Count  Dtype         \n",
      "---  ------              --------------  -----         \n",
      " 0   Age                 321 non-null    int64         \n",
      " 1   Gender              321 non-null    object        \n",
      " 2   Protein1            321 non-null    float64       \n",
      " 3   Protein2            321 non-null    float64       \n",
      " 4   Protein3            321 non-null    float64       \n",
      " 5   Protein4            321 non-null    float64       \n",
      " 6   Tumour_Stage        321 non-null    category      \n",
      " 7   Histology           321 non-null    object        \n",
      " 8   ER status           321 non-null    object        \n",
      " 9   PR status           321 non-null    object        \n",
      " 10  HER2 status         321 non-null    object        \n",
      " 11  Surgery_type        321 non-null    object        \n",
      " 12  Date_of_Surgery     321 non-null    datetime64[ns]\n",
      " 13  Date_of_Last_Visit  321 non-null    datetime64[ns]\n",
      " 14  Patient_Status      321 non-null    object        \n",
      "dtypes: category(1), datetime64[ns](2), float64(4), int64(1), object(7)\n",
      "memory usage: 38.1+ KB\n"
     ]
    }
   ],
   "source": [
    "df1.info()"
   ]
  },
  {
   "cell_type": "code",
   "execution_count": 17,
   "id": "ab8d3202",
   "metadata": {},
   "outputs": [
    {
     "data": {
      "image/png": "[encoded data removed]",
      "text/plain": [
       "<Figure size 1500x1000 with 9 Axes>"
      ]
     },
     "metadata": {},
     "output_type": "display_data"
    }
   ],
   "source": [
    "#Examining distributions of data and attempting to find outliers or uneven skewing\n",
    "df1.hist(figsize=(15, 10))\n",
    "plt.subplots_adjust(hspace=2.0);"
   ]
  },
  {
   "cell_type": "raw",
   "id": "5bbec2fd",
   "metadata": {},
   "source": [
    "The distributions of age, and protein levels look good without any extreme values skewing the data. The Date values are seem to have some outliers which will be examined in the upcoming steps."
   ]
  },
  {
   "cell_type": "code",
   "execution_count": 18,
   "id": "baaa73a4",
   "metadata": {},
   "outputs": [
    {
     "name": "stdout",
     "output_type": "stream",
     "text": [
      "2026 2019\n"
     ]
    }
   ],
   "source": [
    "#Finding the maximum years on the 2 date columns\n",
    "max_last_visit_year = df1['Date_of_Last_Visit'].dt.year.max()\n",
    "max_year_surgery = df1['Date_of_Surgery'].dt.year.max()\n",
    "print(max_last_visit_year,max_year_surgery)\n",
    "#There is a misentries on the date of last visit column showing a visit from 2026"
   ]
  },
  {
   "cell_type": "code",
   "execution_count": 19,
   "id": "0061dde0",
   "metadata": {
    "scrolled": false
   },
   "outputs": [
    {
     "data": {
      "text/html": [
       "<div>\n",
       "<style scoped>\n",
       "    .dataframe tbody tr th:only-of-type {\n",
       "        vertical-align: middle;\n",
       "    }\n",
       "\n",
       "    .dataframe tbody tr th {\n",
       "        vertical-align: top;\n",
       "    }\n",
       "\n",
       "    .dataframe thead th {\n",
       "        text-align: right;\n",
       "    }\n",
       "</style>\n",
       "<table border=\"1\" class=\"dataframe\">\n",
       "  <thead>\n",
       "    <tr style=\"text-align: right;\">\n",
       "      <th></th>\n",
       "      <th>Age</th>\n",
       "      <th>Gender</th>\n",
       "      <th>Protein1</th>\n",
       "      <th>Protein2</th>\n",
       "      <th>Protein3</th>\n",
       "      <th>Protein4</th>\n",
       "      <th>Tumour_Stage</th>\n",
       "      <th>Histology</th>\n",
       "      <th>ER status</th>\n",
       "      <th>PR status</th>\n",
       "      <th>HER2 status</th>\n",
       "      <th>Surgery_type</th>\n",
       "      <th>Date_of_Surgery</th>\n",
       "      <th>Date_of_Last_Visit</th>\n",
       "      <th>Patient_Status</th>\n",
       "    </tr>\n",
       "  </thead>\n",
       "  <tbody>\n",
       "    <tr>\n",
       "      <th>90</th>\n",
       "      <td>50</td>\n",
       "      <td>FEMALE</td>\n",
       "      <td>-0.25023</td>\n",
       "      <td>0.32300</td>\n",
       "      <td>-0.51376</td>\n",
       "      <td>-0.810810</td>\n",
       "      <td>1</td>\n",
       "      <td>Infiltrating Ductal Carcinoma</td>\n",
       "      <td>Positive</td>\n",
       "      <td>Positive</td>\n",
       "      <td>Negative</td>\n",
       "      <td>Lumpectomy</td>\n",
       "      <td>2019-03-02</td>\n",
       "      <td>2026-09-24</td>\n",
       "      <td>Alive</td>\n",
       "    </tr>\n",
       "    <tr>\n",
       "      <th>128</th>\n",
       "      <td>72</td>\n",
       "      <td>FEMALE</td>\n",
       "      <td>-0.42298</td>\n",
       "      <td>0.38330</td>\n",
       "      <td>0.41699</td>\n",
       "      <td>-0.088218</td>\n",
       "      <td>2</td>\n",
       "      <td>Infiltrating Ductal Carcinoma</td>\n",
       "      <td>Positive</td>\n",
       "      <td>Positive</td>\n",
       "      <td>Negative</td>\n",
       "      <td>Simple Mastectomy</td>\n",
       "      <td>2018-01-26</td>\n",
       "      <td>2026-05-03</td>\n",
       "      <td>Dead</td>\n",
       "    </tr>\n",
       "    <tr>\n",
       "      <th>130</th>\n",
       "      <td>52</td>\n",
       "      <td>FEMALE</td>\n",
       "      <td>0.44520</td>\n",
       "      <td>0.81938</td>\n",
       "      <td>-0.43867</td>\n",
       "      <td>-0.007896</td>\n",
       "      <td>2</td>\n",
       "      <td>Infiltrating Ductal Carcinoma</td>\n",
       "      <td>Positive</td>\n",
       "      <td>Positive</td>\n",
       "      <td>Negative</td>\n",
       "      <td>Other</td>\n",
       "      <td>2019-05-11</td>\n",
       "      <td>2023-11-14</td>\n",
       "      <td>Alive</td>\n",
       "    </tr>\n",
       "    <tr>\n",
       "      <th>265</th>\n",
       "      <td>59</td>\n",
       "      <td>FEMALE</td>\n",
       "      <td>0.32248</td>\n",
       "      <td>2.05020</td>\n",
       "      <td>-0.34684</td>\n",
       "      <td>-1.148500</td>\n",
       "      <td>2</td>\n",
       "      <td>Infiltrating Ductal Carcinoma</td>\n",
       "      <td>Positive</td>\n",
       "      <td>Positive</td>\n",
       "      <td>Negative</td>\n",
       "      <td>Other</td>\n",
       "      <td>2018-01-30</td>\n",
       "      <td>2024-06-04</td>\n",
       "      <td>Dead</td>\n",
       "    </tr>\n",
       "  </tbody>\n",
       "</table>\n",
       "</div>"
      ],
      "text/plain": [
       "     Age  Gender  Protein1  Protein2  Protein3  Protein4 Tumour_Stage  \\\n",
       "90    50  FEMALE  -0.25023   0.32300  -0.51376 -0.810810            1   \n",
       "128   72  FEMALE  -0.42298   0.38330   0.41699 -0.088218            2   \n",
       "130   52  FEMALE   0.44520   0.81938  -0.43867 -0.007896            2   \n",
       "265   59  FEMALE   0.32248   2.05020  -0.34684 -1.148500            2   \n",
       "\n",
       "                         Histology ER status PR status HER2 status  \\\n",
       "90   Infiltrating Ductal Carcinoma  Positive  Positive    Negative   \n",
       "128  Infiltrating Ductal Carcinoma  Positive  Positive    Negative   \n",
       "130  Infiltrating Ductal Carcinoma  Positive  Positive    Negative   \n",
       "265  Infiltrating Ductal Carcinoma  Positive  Positive    Negative   \n",
       "\n",
       "          Surgery_type Date_of_Surgery Date_of_Last_Visit Patient_Status  \n",
       "90          Lumpectomy      2019-03-02         2026-09-24          Alive  \n",
       "128  Simple Mastectomy      2018-01-26         2026-05-03           Dead  \n",
       "130              Other      2019-05-11         2023-11-14          Alive  \n",
       "265              Other      2018-01-30         2024-06-04           Dead  "
      ]
     },
     "execution_count": 19,
     "metadata": {},
     "output_type": "execute_result"
    }
   ],
   "source": [
    "#Finding entries with date of last visit past current date \n",
    "above_2022_count = df1.loc[df1['Date_of_Last_Visit'].dt.year > 2022]\n",
    "above_2022_count"
   ]
  },
  {
   "cell_type": "raw",
   "id": "c9d802c0",
   "metadata": {},
   "source": [
    "two patients with date of last visit past current date, have passed away, indicating that some of these entries may have been mistyped or indicated a future clinic visit. For the individuals who are dead and alive, the date of surgery will become the date_of_last_visit."
   ]
  },
  {
   "cell_type": "code",
   "execution_count": 20,
   "id": "ac4e7996",
   "metadata": {},
   "outputs": [],
   "source": [
    "#Replacing date of last visit (past 2022) with date of surgery\n",
    "max_year_condition = df['Date_of_Last_Visit'].dt.year > 2022\n",
    "df1.loc[max_year_condition, 'Date_of_Last_Visit'] = df1.loc[max_year_condition, 'Date_of_Surgery']"
   ]
  },
  {
   "cell_type": "code",
   "execution_count": 21,
   "id": "3d67b5f5",
   "metadata": {},
   "outputs": [
    {
     "data": {
      "text/html": [
       "<div>\n",
       "<style scoped>\n",
       "    .dataframe tbody tr th:only-of-type {\n",
       "        vertical-align: middle;\n",
       "    }\n",
       "\n",
       "    .dataframe tbody tr th {\n",
       "        vertical-align: top;\n",
       "    }\n",
       "\n",
       "    .dataframe thead th {\n",
       "        text-align: right;\n",
       "    }\n",
       "</style>\n",
       "<table border=\"1\" class=\"dataframe\">\n",
       "  <thead>\n",
       "    <tr style=\"text-align: right;\">\n",
       "      <th></th>\n",
       "      <th>Age</th>\n",
       "      <th>Gender</th>\n",
       "      <th>Protein1</th>\n",
       "      <th>Protein2</th>\n",
       "      <th>Protein3</th>\n",
       "      <th>Protein4</th>\n",
       "      <th>Tumour_Stage</th>\n",
       "      <th>Histology</th>\n",
       "      <th>ER status</th>\n",
       "      <th>PR status</th>\n",
       "      <th>HER2 status</th>\n",
       "      <th>Surgery_type</th>\n",
       "      <th>Date_of_Surgery</th>\n",
       "      <th>Date_of_Last_Visit</th>\n",
       "      <th>Patient_Status</th>\n",
       "    </tr>\n",
       "  </thead>\n",
       "  <tbody>\n",
       "  </tbody>\n",
       "</table>\n",
       "</div>"
      ],
      "text/plain": [
       "Empty DataFrame\n",
       "Columns: [Age, Gender, Protein1, Protein2, Protein3, Protein4, Tumour_Stage, Histology, ER status, PR status, HER2 status, Surgery_type, Date_of_Surgery, Date_of_Last_Visit, Patient_Status]\n",
       "Index: []"
      ]
     },
     "execution_count": 21,
     "metadata": {},
     "output_type": "execute_result"
    }
   ],
   "source": [
    "above_2023_count = df1.loc[df1['Date_of_Last_Visit'].dt.year > 2022]\n",
    "above_2023_count"
   ]
  },
  {
   "cell_type": "code",
   "execution_count": 22,
   "id": "560d9e15",
   "metadata": {},
   "outputs": [],
   "source": [
    "df_cleaned = df1"
   ]
  },
  {
   "cell_type": "code",
   "execution_count": 23,
   "id": "f933c8fd",
   "metadata": {},
   "outputs": [
    {
     "data": {
      "image/png": "[encoded data removed]",
      "text/plain": [
       "<Figure size 1500x1000 with 9 Axes>"
      ]
     },
     "metadata": {},
     "output_type": "display_data"
    }
   ],
   "source": [
    "#Checking distributions again to see if outliers were removed \n",
    "df_cleaned.hist(figsize=(15, 10))\n",
    "plt.subplots_adjust(hspace=2.0);"
   ]
  },
  {
   "cell_type": "markdown",
   "id": "cc9e6f10",
   "metadata": {},
   "source": [
    "## Final inspection<a id='2.5_Load_The_Ski_Resort_Data'></a>\n"
   ]
  },
  {
   "cell_type": "code",
   "execution_count": 24,
   "id": "4ce07696",
   "metadata": {},
   "outputs": [
    {
     "name": "stdout",
     "output_type": "stream",
     "text": [
      "<class 'pandas.core.frame.DataFrame'>\n",
      "Int64Index: 321 entries, 0 to 333\n",
      "Data columns (total 15 columns):\n",
      " #   Column              Non-Null Count  Dtype         \n",
      "---  ------              --------------  -----         \n",
      " 0   Age                 321 non-null    int64         \n",
      " 1   Gender              321 non-null    object        \n",
      " 2   Protein1            321 non-null    float64       \n",
      " 3   Protein2            321 non-null    float64       \n",
      " 4   Protein3            321 non-null    float64       \n",
      " 5   Protein4            321 non-null    float64       \n",
      " 6   Tumour_Stage        321 non-null    category      \n",
      " 7   Histology           321 non-null    object        \n",
      " 8   ER status           321 non-null    object        \n",
      " 9   PR status           321 non-null    object        \n",
      " 10  HER2 status         321 non-null    object        \n",
      " 11  Surgery_type        321 non-null    object        \n",
      " 12  Date_of_Surgery     321 non-null    datetime64[ns]\n",
      " 13  Date_of_Last_Visit  321 non-null    datetime64[ns]\n",
      " 14  Patient_Status      321 non-null    object        \n",
      "dtypes: category(1), datetime64[ns](2), float64(4), int64(1), object(7)\n",
      "memory usage: 38.1+ KB\n"
     ]
    }
   ],
   "source": [
    "df_cleaned.info()"
   ]
  },
  {
   "cell_type": "code",
   "execution_count": 25,
   "id": "f6313bdc",
   "metadata": {
    "scrolled": true
   },
   "outputs": [
    {
     "data": {
      "text/plain": [
       "(321, 15)"
      ]
     },
     "execution_count": 25,
     "metadata": {},
     "output_type": "execute_result"
    }
   ],
   "source": [
    "df_cleaned.shape"
   ]
  },
  {
   "cell_type": "code",
   "execution_count": 26,
   "id": "67cc1eb0",
   "metadata": {},
   "outputs": [
    {
     "name": "stdout",
     "output_type": "stream",
     "text": [
      "Writing file.  \"../data/breast_cancer_cleaned.csv\"\n"
     ]
    }
   ],
   "source": [
    "#saving file\n",
    "datapath = '../data'\n",
    "save_file(df_cleaned,'breast_cancer_cleaned.csv',datapath)"
   ]
  },
  {
   "cell_type": "code",
   "execution_count": null,
   "id": "4cf3201d",
   "metadata": {},
   "outputs": [],
   "source": []
  }
 ],
 "metadata": {
  "kernelspec": {
   "display_name": "Python 3 (ipykernel)",
   "language": "python",
   "name": "python3"
  },
  "language_info": {
   "codemirror_mode": {
    "name": "ipython",
    "version": 3
   },
   "file_extension": ".py",
   "mimetype": "text/x-python",
   "name": "python",
   "nbconvert_exporter": "python",
   "pygments_lexer": "ipython3",
   "version": "3.10.9"
  }
 },
 "nbformat": 4,
 "nbformat_minor": 5
}
